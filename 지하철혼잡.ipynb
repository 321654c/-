{
  "nbformat": 4,
  "nbformat_minor": 0,
  "metadata": {
    "colab": {
      "provenance": [],
      "collapsed_sections": [
        "GqLY-K8ppuBr",
        "89W1SUuMwSpB"
      ],
      "authorship_tag": "ABX9TyONxjOOh0mSSAUMKCCkoXBL",
      "include_colab_link": true
    },
    "kernelspec": {
      "name": "python3",
      "display_name": "Python 3"
    },
    "language_info": {
      "name": "python"
    }
  },
  "cells": [
    {
      "cell_type": "markdown",
      "metadata": {
        "id": "view-in-github",
        "colab_type": "text"
      },
      "source": [
        "<a href=\"https://colab.research.google.com/github/321654c/-/blob/main/%EC%A7%80%ED%95%98%EC%B2%A0%ED%98%BC%EC%9E%A1.ipynb\" target=\"_parent\"><img src=\"https://colab.research.google.com/assets/colab-badge.svg\" alt=\"Open In Colab\"/></a>"
      ]
    },
    {
      "cell_type": "markdown",
      "source": [
        "# 데이터 로드, 가공, 정제"
      ],
      "metadata": {
        "id": "bi9yZZD9iTs3"
      }
    },
    {
      "cell_type": "code",
      "execution_count": 37,
      "metadata": {
        "id": "OUN0bQOC5PG-"
      },
      "outputs": [],
      "source": [
        "import pandas as pd\n",
        "import numpy as np\n",
        "\n",
        "df = pd.read_csv('지하철.csv')\n",
        "\n",
        "df.drop(['작업일자'], axis=1, inplace=True)\n",
        "df['지하철역'] = df['지하철역'].str.strip()\n",
        "#df['지하철역']\n",
        "\n",
        "info = df.iloc[:,:3]\n",
        "info.columns = ['년월','호선','역명']\n",
        "#info.head()\n",
        "\n",
        "# 승차\n",
        "riding = df.iloc[:, 3:]\n",
        "riding = riding.iloc[:,[0,2,4,6,8,10,12,14,16,18,20,22,24,26,28,30,32,34,36,38,40,42,44,46]]\n",
        "riding.rename(columns={'04시-05시 승차인원':'4시', '05시-06시 승차인원':'5시', '06시-07시 승차인원':'6시','07시-08시 승차인원':'7시',\n",
        "                       '08시-09시 승차인원':'8시','09시-10시 승차인원':'9시','10시-11시 승차인원':'10시','11시-12시 승차인원':'11시',\n",
        "                       '12시-13시 승차인원':'12시','13시-14시 승차인원':'13시','14시-15시 승차인원':'14시','15시-16시 승차인원':'15시',\n",
        "                      '16시-17시 승차인원':'16시','17시-18시 승차인원':'17시','18시-19시 승차인원':'18시','19시-20시 승차인원':'19시',\n",
        "                      '20시-21시 승차인원':'20시','21시-22시 승차인원':'21시','22시-23시 승차인원':'22시','23시-24시 승차인원':'23시',\n",
        "                      '00시-01시 승차인원':'24시','01시-02시 승차인원':'1시','02시-03시 승차인원':'2시','03시-04시 승차인원':'3시'}, inplace=True)\n",
        "riding = pd.concat([info, riding], axis=1)\n",
        "\n",
        "# 하차\n",
        "stopover = df.iloc[:, 3:]\n",
        "stopover = stopover.iloc[:,[1,3,5,7,9,11,13,15,17,19,21,23,25,27,29,31,33,35,37,39,41,43,45,47]]\n",
        "stopover.rename(columns={'04시-05시 하차인원':'4시', '05시-06시 하차인원':'5시', '06시-07시 하차인원':'6시','07시-08시 하차인원':'7시',\n",
        "                       '08시-09시 하차인원':'8시','09시-10시 하차인원':'9시','10시-11시 하차인원':'10시','11시-12시 하차인원':'11시',\n",
        "                       '12시-13시 하차인원':'12시','13시-14시 하차인원':'13시','14시-15시 하차인원':'14시','15시-16시 하차인원':'15시',\n",
        "                      '16시-17시 하차인원':'16시','17시-18시 하차인원':'17시','18시-19시 하차인원':'18시','19시-20시 하차인원':'19시',\n",
        "                      '20시-21시 하차인원':'20시','21시-22시 하차인원':'21시','22시-23시 하차인원':'22시','23시-24시 하차인원':'23시',\n",
        "                      '00시-01시 하차인원':'24시','01시-02시 하차인원':'1시','02시-03시 하차인원':'2시','03시-04시 하차인원':'3시'}, inplace=True)\n",
        "stopover = pd.concat([info, stopover], axis=1)\n",
        "#stopover.head()\n",
        "\n",
        "\n",
        "\n",
        "\n",
        "\n",
        "\n",
        "\n"
      ]
    },
    {
      "cell_type": "markdown",
      "source": [
        "# 데이터 가공, 정제 (데이터 프레임 조작)"
      ],
      "metadata": {
        "id": "3hLpyCMRlSzt"
      }
    },
    {
      "cell_type": "code",
      "source": [
        "import pandas as pd\n",
        "import numpy as np\n",
        "\n",
        "# 승하차 인원 합계\n",
        "riding['합계'] = riding.sum(axis=1)\n",
        "stopover['합계'] = stopover.sum(axis=1)\n",
        "#riding.head()\n",
        "\n",
        "# 승차\n",
        "df_r = riding[['년월', '호선', '역명', '합계']]\n",
        "#df_r.head()\n",
        "\n",
        "# 하차\n",
        "df_s = stopover[['년월', '호선', '역명', '합계']]\n",
        "#df_s.head()\n",
        "\n",
        "# 평균으로 일일 이용객 합계\n",
        "# 승차\n",
        "dfg_r = df_r.groupby(['년월','호선','역명'])['합계'].mean()\n",
        "#dfg_r.head()\n",
        "# 하차\n",
        "dfg_s = df_s.groupby(['년월','호선','역명'])['합계'].mean()\n",
        "#dfg_s.head()\n",
        "\n",
        "# 데이터프레임 수정\n",
        "# 승차\n",
        "dfg2_r = pd.DataFrame(dfg_r)\n",
        "dfg2_r = dfg2_r.reset_index()\n",
        "#dfg2_r.head()\n",
        "\n",
        "# 하차\n",
        "dfg2_s = pd.DataFrame(dfg_s)\n",
        "dfg2_s = dfg2_s.reset_index()\n",
        "#dfg2_s.head()\n",
        "\n",
        "# 합계 -> 이용객수\n",
        "dfg2_r.columns = ['년월', '호선', '역명', '이용객수']\n",
        "dfg2_s.columns = ['년월', '호선', '역명', '이용객수']\n",
        "\n",
        "dfg3_r = pd.DataFrame(round(dfg2_r.groupby(['호선', '역명'])['이용객수'].mean()))\n",
        "dfg3_s = pd.DataFrame(round(dfg2_s.groupby(['호선', '역명'])['이용객수'].mean()))\n",
        "\n",
        "# 이용객수로 정렬\n",
        "dfg3_r = dfg3_r.sort_values(by='이용객수', ascending=False)\n",
        "dfg3_s = dfg3_s.sort_values(by='이용객수', ascending=False)\n",
        "#dfg3_s.head(20)\n",
        "\n",
        "# 인덱스 리빌드\n",
        "dfg4_r = pd.DataFrame(dfg3_r)\n",
        "dfg4_r = dfg4_r.reset_index()\n",
        "#dfg4_r.head()\n",
        "\n",
        "dfg4_s = pd.DataFrame(dfg3_s)\n",
        "dfg4_s = dfg4_s.reset_index()\n",
        "#dfg4_s.head()\n"
      ],
      "metadata": {
        "id": "fqTGMvYSlOOr",
        "colab": {
          "base_uri": "https://localhost:8080/"
        },
        "outputId": "243b0504-99a8-433d-caf7-58c3f0ecb27f"
      },
      "execution_count": 38,
      "outputs": [
        {
          "output_type": "stream",
          "name": "stderr",
          "text": [
            "<ipython-input-38-abd1773b4489>:5: FutureWarning:\n",
            "\n",
            "Dropping of nuisance columns in DataFrame reductions (with 'numeric_only=None') is deprecated; in a future version this will raise TypeError.  Select only valid columns before calling the reduction.\n",
            "\n",
            "<ipython-input-38-abd1773b4489>:6: FutureWarning:\n",
            "\n",
            "Dropping of nuisance columns in DataFrame reductions (with 'numeric_only=None') is deprecated; in a future version this will raise TypeError.  Select only valid columns before calling the reduction.\n",
            "\n"
          ]
        }
      ]
    },
    {
      "cell_type": "markdown",
      "source": [
        "# 데이터 가공, 정제 (데이터 결합)"
      ],
      "metadata": {
        "id": "9nK6rt2Ev0M1"
      }
    },
    {
      "cell_type": "code",
      "source": [
        "import pandas as pd\n",
        "import numpy as np\n",
        "\n",
        "dinfo = pd.read_csv('map_utf.csv')\n",
        "\n",
        "dinfo.columns = ['역명', '호선', '위도', '경도']\n",
        "dinfo.head()\n",
        "\n",
        "dinfo['역명'] = dinfo['역명'].str.strip()\n",
        "dinfo['역명'] = dinfo['역명'].str.replace(\" \", \"\")\n",
        "\n",
        "dfg4_r['호선'].unique()\n",
        "\n",
        "# 1~9 호선 까지만 분리.\n",
        "dfg4_r = dfg4_r[dfg4_r['호선'].isin(['1호선', '2호선', '3호선', '4호선', '5호선', '6호선', '7호선', '8호선', '9호선'])]\n",
        "dfg4_s = dfg4_s[dfg4_s['호선'].isin(['1호선', '2호선', '3호선', '4호선', '5호선', '6호선', '7호선', '8호선', '9호선'])]\n",
        "\n",
        "dfg4_r.loc[dfg4_r['호선']=='1호선', '호선'] = 1\n",
        "dfg4_r.loc[dfg4_r['호선']=='2호선', '호선'] = 2\n",
        "dfg4_r.loc[dfg4_r['호선']=='3호선', '호선'] = 3\n",
        "dfg4_r.loc[dfg4_r['호선']=='4호선', '호선'] = 4\n",
        "dfg4_r.loc[dfg4_r['호선']=='5호선', '호선'] = 5\n",
        "dfg4_r.loc[dfg4_r['호선']=='6호선', '호선'] = 6\n",
        "dfg4_r.loc[dfg4_r['호선']=='7호선', '호선'] = 7\n",
        "dfg4_r.loc[dfg4_r['호선']=='8호선', '호선'] = 8\n",
        "dfg4_r.loc[dfg4_r['호선']=='9호선', '호선'] = 9\n",
        "\n",
        "dfg4_s.loc[dfg4_s['호선']=='1호선', '호선'] = 1\n",
        "dfg4_s.loc[dfg4_s['호선']=='2호선', '호선'] = 2\n",
        "dfg4_s.loc[dfg4_s['호선']=='3호선', '호선'] = 3\n",
        "dfg4_s.loc[dfg4_s['호선']=='4호선', '호선'] = 4\n",
        "dfg4_s.loc[dfg4_s['호선']=='5호선', '호선'] = 5\n",
        "dfg4_s.loc[dfg4_s['호선']=='6호선', '호선'] = 6\n",
        "dfg4_s.loc[dfg4_s['호선']=='7호선', '호선'] = 7\n",
        "dfg4_s.loc[dfg4_s['호선']=='8호선', '호선'] = 8\n",
        "dfg4_s.loc[dfg4_s['호선']=='9호선', '호선'] = 9\n",
        "\n",
        "# 역정보와 이용객수 병합\n",
        "# 승차\n",
        "df_m_r = pd.merge(dfg4_r, dinfo, how='inner')\n",
        "#df_m_r.head()\n",
        "# 하차\n",
        "df_m_s = pd.merge(dfg4_s, dinfo, how='inner')\n",
        "#df_m_s\n",
        "\n",
        "# 중복제거\n",
        "df_m_r_2 = df_m_r.drop_duplicates('이용객수', keep='first')\n",
        "df_m_s_2 = df_m_s.drop_duplicates('이용객수', keep='first')\n",
        "\n",
        "# 상위, 하위 30개 역 표시\n",
        "# 승차\n",
        "dfm_top_r = df_m_r_2.head(30)\n",
        "dfm_bottom_r = df_m_r_2.tail(30)\n",
        "\n",
        "\n",
        "# 하차\n",
        "dfm_top_s = df_m_s_2.head(30)\n",
        "dfm_bottom_s = df_m_s_2.tail(30)\n",
        "\n"
      ],
      "metadata": {
        "id": "UH9fXxNet3GK"
      },
      "execution_count": 39,
      "outputs": []
    },
    {
      "cell_type": "markdown",
      "source": [
        "# 한글폰트 설치"
      ],
      "metadata": {
        "id": "GqLY-K8ppuBr"
      }
    },
    {
      "cell_type": "code",
      "source": [
        "import matplotlib.pyplot as plt\n",
        "import seaborn as sns\n",
        "\n",
        "import matplotlib.font_manager as fm\n",
        "\n",
        "!apt-get -qq -y install fonts-nanum > /dev/null\n",
        "#fontpath = '/usr/share/fonts/truetype/nanum/NanumBarunGothic.ttf'\n",
        "\n",
        "#font = fm.FontProperties(fname=fontpath, size=9)\n",
        "\n",
        "#fm._rebuild()\n",
        "\n",
        "\n",
        "\n",
        "fe = fm.FontEntry(\n",
        "    fname=r'/usr/share/fonts/truetype/nanum/NanumBarunGothic.ttf', # ttf 파일이 저장되어 있는 경로\n",
        "    name='NanumGothic')                        # 이 폰트의 원하는 이름 설정\n",
        "fm.fontManager.ttflist.insert(0, fe)              # Matplotlib에 폰트 추가\n",
        "plt.rcParams.update({'font.size': 18, 'font.family': 'NanumGothic'}) # 폰트 설치\n"
      ],
      "metadata": {
        "id": "pIb0ynrzpwyX"
      },
      "execution_count": 33,
      "outputs": []
    },
    {
      "cell_type": "code",
      "source": [
        "import matplotlib.pyplot as plt\n",
        "import matplotlib as mpl\n",
        "import matplotlib.font_manager as fm\n",
        "\n",
        "# 마이너스 표시 문제\n",
        "mpl.rcParams['axes.unicode_minus'] = False\n",
        "\n",
        "# 한글 폰트 설정\n",
        "fe = fm.FontEntry(\n",
        "    fname=r'/usr/share/fonts/truetype/nanum/NanumBarunGothic.ttf', # ttf 파일이 저장되어 있는 경로\n",
        "    name='NanumGothic')                        # 이 폰트의 원하는 이름 설정\n",
        "fm.fontManager.ttflist.insert(0, fe)              # Matplotlib에 폰트 추가\n",
        "plt.rcParams.update({'font.size': 18, 'font.family': 'NanumGothic'}) # 폰트 설치"
      ],
      "metadata": {
        "id": "scoJu7s7rQND"
      },
      "execution_count": 34,
      "outputs": []
    },
    {
      "cell_type": "markdown",
      "source": [
        "# 데이터 시각화 (지도)"
      ],
      "metadata": {
        "id": "89W1SUuMwSpB"
      }
    },
    {
      "cell_type": "code",
      "source": [
        "# 지도시각화\n",
        "import folium\n",
        "\n",
        "# 승차 상위 이용객 30개역 표시\n",
        "map1 = folium.Map(location=[37.5502, 126.982], zoom_start=11)\n",
        "\n",
        "for item in dfm_top_r.index:\n",
        "    lat = dfm_top_r.loc[item, '위도']\n",
        "    long = dfm_top_r.loc[item, '경도']\n",
        "    folium.CircleMarker([lat,long],\n",
        "                                   radius=dfm_top_r.loc[item, '이용객수']/70000,\n",
        "                                   color='green',\n",
        "                                    fill = True).add_to(map1)\n",
        "map1\n"
      ],
      "metadata": {
        "id": "H3zVIjHLwXa9"
      },
      "execution_count": null,
      "outputs": []
    },
    {
      "cell_type": "code",
      "source": [
        "# 승차 하위 이용객 30개역 표시\n",
        "map2 = folium.Map(location=[37.5502, 126.982], zoom_start=11)\n",
        "\n",
        "for item in dfm_bottom_r.index:\n",
        "    lat = dfm_bottom_r.loc[item, '위도']\n",
        "    long = dfm_bottom_r.loc[item, '경도']\n",
        "    folium.CircleMarker([lat,long],\n",
        "                                   radius=dfm_bottom_r.loc[item, '이용객수']/20000,\n",
        "                                   color='green',\n",
        "                                    fill = True).add_to(map2)\n",
        "\n",
        "map2"
      ],
      "metadata": {
        "id": "_ty4HeXNyuWI"
      },
      "execution_count": null,
      "outputs": []
    },
    {
      "cell_type": "code",
      "source": [
        "# 하차 상위 이용객 30개역 표시\n",
        "map3 = folium.Map(location=[37.5502, 126.982], zoom_start=11)\n",
        "\n",
        "for item in dfm_top_s.index:\n",
        "    lat = dfm_top_s.loc[item, '위도']\n",
        "    long = dfm_top_s.loc[item, '경도']\n",
        "    folium.CircleMarker([lat,long],\n",
        "                                   radius=dfm_top_s.loc[item, '이용객수']/70000,\n",
        "                                   color='green',\n",
        "                                    fill = True).add_to(map3)\n",
        "\n",
        "map3"
      ],
      "metadata": {
        "id": "VMyAqUKBzJjx"
      },
      "execution_count": null,
      "outputs": []
    },
    {
      "cell_type": "code",
      "source": [
        "# 하차 하위 이용객 30개역 표시\n",
        "map4 = folium.Map(location=[37.5502, 126.982], zoom_start=11)\n",
        "\n",
        "for item in dfm_bottom_s.index:\n",
        "    lat = dfm_bottom_s.loc[item, '위도']\n",
        "    long = dfm_bottom_s.loc[item, '경도']\n",
        "    folium.CircleMarker([lat,long],\n",
        "                                   radius=dfm_bottom_s.loc[item, '이용객수']/20000,\n",
        "                                   color='green',\n",
        "                                    fill = True).add_to(map4)\n",
        "\n",
        "map4"
      ],
      "metadata": {
        "id": "Ti2KeRCBzTAE"
      },
      "execution_count": null,
      "outputs": []
    },
    {
      "cell_type": "markdown",
      "source": [
        "# 데이터 시각화 (차트)"
      ],
      "metadata": {
        "id": "SRx61ra7H43q"
      }
    },
    {
      "cell_type": "code",
      "source": [
        "import pandas as pd\n",
        "import plotly.express as px\n",
        "import matplotlib.pyplot as plt\n",
        "\n",
        "# 호선별 승차 이용객수 (상위30)\n",
        "fig=px.bar(dfm_top_r, x='호선', y='이용객수',\n",
        "color='호선',\n",
        "color_continuous_scale=px.colors.diverging.Spectral)\n",
        "fig.update_layout(width=900)\n",
        "\n"
      ],
      "metadata": {
        "id": "qzuA9JRBrSIt",
        "colab": {
          "base_uri": "https://localhost:8080/",
          "height": 542
        },
        "outputId": "9efb7df3-4b82-4593-9bfa-0aabf6790de9"
      },
      "execution_count": 53,
      "outputs": [
        {
          "output_type": "display_data",
          "data": {
            "text/html": [
              "<html>\n",
              "<head><meta charset=\"utf-8\" /></head>\n",
              "<body>\n",
              "    <div>            <script src=\"https://cdnjs.cloudflare.com/ajax/libs/mathjax/2.7.5/MathJax.js?config=TeX-AMS-MML_SVG\"></script><script type=\"text/javascript\">if (window.MathJax && window.MathJax.Hub && window.MathJax.Hub.Config) {window.MathJax.Hub.Config({SVG: {font: \"STIX-Web\"}});}</script>                <script type=\"text/javascript\">window.PlotlyConfig = {MathJaxConfig: 'local'};</script>\n",
              "        <script charset=\"utf-8\" src=\"https://cdn.plot.ly/plotly-2.24.1.min.js\"></script>                <div id=\"ab033c8e-2132-4ed1-83ad-b42ff4a27eb8\" class=\"plotly-graph-div\" style=\"height:525px; width:900px;\"></div>            <script type=\"text/javascript\">                                    window.PLOTLYENV=window.PLOTLYENV || {};                                    if (document.getElementById(\"ab033c8e-2132-4ed1-83ad-b42ff4a27eb8\")) {                    Plotly.newPlot(                        \"ab033c8e-2132-4ed1-83ad-b42ff4a27eb8\",                        [{\"alignmentgroup\":\"True\",\"hovertemplate\":\"\\ud638\\uc120=%{x}\\u003cbr\\u003e\\uc774\\uc6a9\\uac1d\\uc218=%{y}\\u003cextra\\u003e\\u003c\\u002fextra\\u003e\",\"legendgroup\":\"2\",\"marker\":{\"color\":\"#636efa\",\"pattern\":{\"shape\":\"\"}},\"name\":\"2\",\"offsetgroup\":\"2\",\"orientation\":\"v\",\"showlegend\":true,\"textposition\":\"auto\",\"x\":[2,2,2,2,2,2,2,2,2,2,2,2,2,2,2,2,2,2,2],\"xaxis\":\"x\",\"y\":[2866933.0,2730351.0,2245752.0,2142856.0,1951078.0,1945678.0,1829458.0,1821190.0,1746593.0,1730081.0,1527453.0,1518814.0,1468310.0,1397932.0,1379645.0,1353325.0,1172376.0,1144174.0,1127387.0],\"yaxis\":\"y\",\"type\":\"bar\"},{\"alignmentgroup\":\"True\",\"hovertemplate\":\"\\ud638\\uc120=%{x}\\u003cbr\\u003e\\uc774\\uc6a9\\uac1d\\uc218=%{y}\\u003cextra\\u003e\\u003c\\u002fextra\\u003e\",\"legendgroup\":\"3\",\"marker\":{\"color\":\"#EF553B\",\"pattern\":{\"shape\":\"\"}},\"name\":\"3\",\"offsetgroup\":\"3\",\"orientation\":\"v\",\"showlegend\":true,\"textposition\":\"auto\",\"x\":[3,3,3,3,3],\"xaxis\":\"x\",\"y\":[1769388.0,1462511.0,1357150.0,1306368.0,1156080.0],\"yaxis\":\"y\",\"type\":\"bar\"},{\"alignmentgroup\":\"True\",\"hovertemplate\":\"\\ud638\\uc120=%{x}\\u003cbr\\u003e\\uc774\\uc6a9\\uac1d\\uc218=%{y}\\u003cextra\\u003e\\u003c\\u002fextra\\u003e\",\"legendgroup\":\"1\",\"marker\":{\"color\":\"#00cc96\",\"pattern\":{\"shape\":\"\"}},\"name\":\"1\",\"offsetgroup\":\"1\",\"orientation\":\"v\",\"showlegend\":true,\"textposition\":\"auto\",\"x\":[1],\"xaxis\":\"x\",\"y\":[1380660.0],\"yaxis\":\"y\",\"type\":\"bar\"},{\"alignmentgroup\":\"True\",\"hovertemplate\":\"\\ud638\\uc120=%{x}\\u003cbr\\u003e\\uc774\\uc6a9\\uac1d\\uc218=%{y}\\u003cextra\\u003e\\u003c\\u002fextra\\u003e\",\"legendgroup\":\"7\",\"marker\":{\"color\":\"#ab63fa\",\"pattern\":{\"shape\":\"\"}},\"name\":\"7\",\"offsetgroup\":\"7\",\"orientation\":\"v\",\"showlegend\":true,\"textposition\":\"auto\",\"x\":[7],\"xaxis\":\"x\",\"y\":[1351962.0],\"yaxis\":\"y\",\"type\":\"bar\"},{\"alignmentgroup\":\"True\",\"hovertemplate\":\"\\ud638\\uc120=%{x}\\u003cbr\\u003e\\uc774\\uc6a9\\uac1d\\uc218=%{y}\\u003cextra\\u003e\\u003c\\u002fextra\\u003e\",\"legendgroup\":\"4\",\"marker\":{\"color\":\"#FFA15A\",\"pattern\":{\"shape\":\"\"}},\"name\":\"4\",\"offsetgroup\":\"4\",\"orientation\":\"v\",\"showlegend\":true,\"textposition\":\"auto\",\"x\":[4,4,4],\"xaxis\":\"x\",\"y\":[1325895.0,1146484.0,1117762.0],\"yaxis\":\"y\",\"type\":\"bar\"},{\"alignmentgroup\":\"True\",\"hovertemplate\":\"\\ud638\\uc120=%{x}\\u003cbr\\u003e\\uc774\\uc6a9\\uac1d\\uc218=%{y}\\u003cextra\\u003e\\u003c\\u002fextra\\u003e\",\"legendgroup\":\"5\",\"marker\":{\"color\":\"#19d3f3\",\"pattern\":{\"shape\":\"\"}},\"name\":\"5\",\"offsetgroup\":\"5\",\"orientation\":\"v\",\"showlegend\":true,\"textposition\":\"auto\",\"x\":[5],\"xaxis\":\"x\",\"y\":[1281573.0],\"yaxis\":\"y\",\"type\":\"bar\"}],                        {\"template\":{\"data\":{\"histogram2dcontour\":[{\"type\":\"histogram2dcontour\",\"colorbar\":{\"outlinewidth\":0,\"ticks\":\"\"},\"colorscale\":[[0.0,\"#0d0887\"],[0.1111111111111111,\"#46039f\"],[0.2222222222222222,\"#7201a8\"],[0.3333333333333333,\"#9c179e\"],[0.4444444444444444,\"#bd3786\"],[0.5555555555555556,\"#d8576b\"],[0.6666666666666666,\"#ed7953\"],[0.7777777777777778,\"#fb9f3a\"],[0.8888888888888888,\"#fdca26\"],[1.0,\"#f0f921\"]]}],\"choropleth\":[{\"type\":\"choropleth\",\"colorbar\":{\"outlinewidth\":0,\"ticks\":\"\"}}],\"histogram2d\":[{\"type\":\"histogram2d\",\"colorbar\":{\"outlinewidth\":0,\"ticks\":\"\"},\"colorscale\":[[0.0,\"#0d0887\"],[0.1111111111111111,\"#46039f\"],[0.2222222222222222,\"#7201a8\"],[0.3333333333333333,\"#9c179e\"],[0.4444444444444444,\"#bd3786\"],[0.5555555555555556,\"#d8576b\"],[0.6666666666666666,\"#ed7953\"],[0.7777777777777778,\"#fb9f3a\"],[0.8888888888888888,\"#fdca26\"],[1.0,\"#f0f921\"]]}],\"heatmap\":[{\"type\":\"heatmap\",\"colorbar\":{\"outlinewidth\":0,\"ticks\":\"\"},\"colorscale\":[[0.0,\"#0d0887\"],[0.1111111111111111,\"#46039f\"],[0.2222222222222222,\"#7201a8\"],[0.3333333333333333,\"#9c179e\"],[0.4444444444444444,\"#bd3786\"],[0.5555555555555556,\"#d8576b\"],[0.6666666666666666,\"#ed7953\"],[0.7777777777777778,\"#fb9f3a\"],[0.8888888888888888,\"#fdca26\"],[1.0,\"#f0f921\"]]}],\"heatmapgl\":[{\"type\":\"heatmapgl\",\"colorbar\":{\"outlinewidth\":0,\"ticks\":\"\"},\"colorscale\":[[0.0,\"#0d0887\"],[0.1111111111111111,\"#46039f\"],[0.2222222222222222,\"#7201a8\"],[0.3333333333333333,\"#9c179e\"],[0.4444444444444444,\"#bd3786\"],[0.5555555555555556,\"#d8576b\"],[0.6666666666666666,\"#ed7953\"],[0.7777777777777778,\"#fb9f3a\"],[0.8888888888888888,\"#fdca26\"],[1.0,\"#f0f921\"]]}],\"contourcarpet\":[{\"type\":\"contourcarpet\",\"colorbar\":{\"outlinewidth\":0,\"ticks\":\"\"}}],\"contour\":[{\"type\":\"contour\",\"colorbar\":{\"outlinewidth\":0,\"ticks\":\"\"},\"colorscale\":[[0.0,\"#0d0887\"],[0.1111111111111111,\"#46039f\"],[0.2222222222222222,\"#7201a8\"],[0.3333333333333333,\"#9c179e\"],[0.4444444444444444,\"#bd3786\"],[0.5555555555555556,\"#d8576b\"],[0.6666666666666666,\"#ed7953\"],[0.7777777777777778,\"#fb9f3a\"],[0.8888888888888888,\"#fdca26\"],[1.0,\"#f0f921\"]]}],\"surface\":[{\"type\":\"surface\",\"colorbar\":{\"outlinewidth\":0,\"ticks\":\"\"},\"colorscale\":[[0.0,\"#0d0887\"],[0.1111111111111111,\"#46039f\"],[0.2222222222222222,\"#7201a8\"],[0.3333333333333333,\"#9c179e\"],[0.4444444444444444,\"#bd3786\"],[0.5555555555555556,\"#d8576b\"],[0.6666666666666666,\"#ed7953\"],[0.7777777777777778,\"#fb9f3a\"],[0.8888888888888888,\"#fdca26\"],[1.0,\"#f0f921\"]]}],\"mesh3d\":[{\"type\":\"mesh3d\",\"colorbar\":{\"outlinewidth\":0,\"ticks\":\"\"}}],\"scatter\":[{\"fillpattern\":{\"fillmode\":\"overlay\",\"size\":10,\"solidity\":0.2},\"type\":\"scatter\"}],\"parcoords\":[{\"type\":\"parcoords\",\"line\":{\"colorbar\":{\"outlinewidth\":0,\"ticks\":\"\"}}}],\"scatterpolargl\":[{\"type\":\"scatterpolargl\",\"marker\":{\"colorbar\":{\"outlinewidth\":0,\"ticks\":\"\"}}}],\"bar\":[{\"error_x\":{\"color\":\"#2a3f5f\"},\"error_y\":{\"color\":\"#2a3f5f\"},\"marker\":{\"line\":{\"color\":\"#E5ECF6\",\"width\":0.5},\"pattern\":{\"fillmode\":\"overlay\",\"size\":10,\"solidity\":0.2}},\"type\":\"bar\"}],\"scattergeo\":[{\"type\":\"scattergeo\",\"marker\":{\"colorbar\":{\"outlinewidth\":0,\"ticks\":\"\"}}}],\"scatterpolar\":[{\"type\":\"scatterpolar\",\"marker\":{\"colorbar\":{\"outlinewidth\":0,\"ticks\":\"\"}}}],\"histogram\":[{\"marker\":{\"pattern\":{\"fillmode\":\"overlay\",\"size\":10,\"solidity\":0.2}},\"type\":\"histogram\"}],\"scattergl\":[{\"type\":\"scattergl\",\"marker\":{\"colorbar\":{\"outlinewidth\":0,\"ticks\":\"\"}}}],\"scatter3d\":[{\"type\":\"scatter3d\",\"line\":{\"colorbar\":{\"outlinewidth\":0,\"ticks\":\"\"}},\"marker\":{\"colorbar\":{\"outlinewidth\":0,\"ticks\":\"\"}}}],\"scattermapbox\":[{\"type\":\"scattermapbox\",\"marker\":{\"colorbar\":{\"outlinewidth\":0,\"ticks\":\"\"}}}],\"scatterternary\":[{\"type\":\"scatterternary\",\"marker\":{\"colorbar\":{\"outlinewidth\":0,\"ticks\":\"\"}}}],\"scattercarpet\":[{\"type\":\"scattercarpet\",\"marker\":{\"colorbar\":{\"outlinewidth\":0,\"ticks\":\"\"}}}],\"carpet\":[{\"aaxis\":{\"endlinecolor\":\"#2a3f5f\",\"gridcolor\":\"white\",\"linecolor\":\"white\",\"minorgridcolor\":\"white\",\"startlinecolor\":\"#2a3f5f\"},\"baxis\":{\"endlinecolor\":\"#2a3f5f\",\"gridcolor\":\"white\",\"linecolor\":\"white\",\"minorgridcolor\":\"white\",\"startlinecolor\":\"#2a3f5f\"},\"type\":\"carpet\"}],\"table\":[{\"cells\":{\"fill\":{\"color\":\"#EBF0F8\"},\"line\":{\"color\":\"white\"}},\"header\":{\"fill\":{\"color\":\"#C8D4E3\"},\"line\":{\"color\":\"white\"}},\"type\":\"table\"}],\"barpolar\":[{\"marker\":{\"line\":{\"color\":\"#E5ECF6\",\"width\":0.5},\"pattern\":{\"fillmode\":\"overlay\",\"size\":10,\"solidity\":0.2}},\"type\":\"barpolar\"}],\"pie\":[{\"automargin\":true,\"type\":\"pie\"}]},\"layout\":{\"autotypenumbers\":\"strict\",\"colorway\":[\"#636efa\",\"#EF553B\",\"#00cc96\",\"#ab63fa\",\"#FFA15A\",\"#19d3f3\",\"#FF6692\",\"#B6E880\",\"#FF97FF\",\"#FECB52\"],\"font\":{\"color\":\"#2a3f5f\"},\"hovermode\":\"closest\",\"hoverlabel\":{\"align\":\"left\"},\"paper_bgcolor\":\"white\",\"plot_bgcolor\":\"#E5ECF6\",\"polar\":{\"bgcolor\":\"#E5ECF6\",\"angularaxis\":{\"gridcolor\":\"white\",\"linecolor\":\"white\",\"ticks\":\"\"},\"radialaxis\":{\"gridcolor\":\"white\",\"linecolor\":\"white\",\"ticks\":\"\"}},\"ternary\":{\"bgcolor\":\"#E5ECF6\",\"aaxis\":{\"gridcolor\":\"white\",\"linecolor\":\"white\",\"ticks\":\"\"},\"baxis\":{\"gridcolor\":\"white\",\"linecolor\":\"white\",\"ticks\":\"\"},\"caxis\":{\"gridcolor\":\"white\",\"linecolor\":\"white\",\"ticks\":\"\"}},\"coloraxis\":{\"colorbar\":{\"outlinewidth\":0,\"ticks\":\"\"}},\"colorscale\":{\"sequential\":[[0.0,\"#0d0887\"],[0.1111111111111111,\"#46039f\"],[0.2222222222222222,\"#7201a8\"],[0.3333333333333333,\"#9c179e\"],[0.4444444444444444,\"#bd3786\"],[0.5555555555555556,\"#d8576b\"],[0.6666666666666666,\"#ed7953\"],[0.7777777777777778,\"#fb9f3a\"],[0.8888888888888888,\"#fdca26\"],[1.0,\"#f0f921\"]],\"sequentialminus\":[[0.0,\"#0d0887\"],[0.1111111111111111,\"#46039f\"],[0.2222222222222222,\"#7201a8\"],[0.3333333333333333,\"#9c179e\"],[0.4444444444444444,\"#bd3786\"],[0.5555555555555556,\"#d8576b\"],[0.6666666666666666,\"#ed7953\"],[0.7777777777777778,\"#fb9f3a\"],[0.8888888888888888,\"#fdca26\"],[1.0,\"#f0f921\"]],\"diverging\":[[0,\"#8e0152\"],[0.1,\"#c51b7d\"],[0.2,\"#de77ae\"],[0.3,\"#f1b6da\"],[0.4,\"#fde0ef\"],[0.5,\"#f7f7f7\"],[0.6,\"#e6f5d0\"],[0.7,\"#b8e186\"],[0.8,\"#7fbc41\"],[0.9,\"#4d9221\"],[1,\"#276419\"]]},\"xaxis\":{\"gridcolor\":\"white\",\"linecolor\":\"white\",\"ticks\":\"\",\"title\":{\"standoff\":15},\"zerolinecolor\":\"white\",\"automargin\":true,\"zerolinewidth\":2},\"yaxis\":{\"gridcolor\":\"white\",\"linecolor\":\"white\",\"ticks\":\"\",\"title\":{\"standoff\":15},\"zerolinecolor\":\"white\",\"automargin\":true,\"zerolinewidth\":2},\"scene\":{\"xaxis\":{\"backgroundcolor\":\"#E5ECF6\",\"gridcolor\":\"white\",\"linecolor\":\"white\",\"showbackground\":true,\"ticks\":\"\",\"zerolinecolor\":\"white\",\"gridwidth\":2},\"yaxis\":{\"backgroundcolor\":\"#E5ECF6\",\"gridcolor\":\"white\",\"linecolor\":\"white\",\"showbackground\":true,\"ticks\":\"\",\"zerolinecolor\":\"white\",\"gridwidth\":2},\"zaxis\":{\"backgroundcolor\":\"#E5ECF6\",\"gridcolor\":\"white\",\"linecolor\":\"white\",\"showbackground\":true,\"ticks\":\"\",\"zerolinecolor\":\"white\",\"gridwidth\":2}},\"shapedefaults\":{\"line\":{\"color\":\"#2a3f5f\"}},\"annotationdefaults\":{\"arrowcolor\":\"#2a3f5f\",\"arrowhead\":0,\"arrowwidth\":1},\"geo\":{\"bgcolor\":\"white\",\"landcolor\":\"#E5ECF6\",\"subunitcolor\":\"white\",\"showland\":true,\"showlakes\":true,\"lakecolor\":\"white\"},\"title\":{\"x\":0.05},\"mapbox\":{\"style\":\"light\"}}},\"xaxis\":{\"anchor\":\"y\",\"domain\":[0.0,1.0],\"title\":{\"text\":\"\\ud638\\uc120\"},\"categoryorder\":\"array\",\"categoryarray\":[2,3,1,7,4,5]},\"yaxis\":{\"anchor\":\"x\",\"domain\":[0.0,1.0],\"title\":{\"text\":\"\\uc774\\uc6a9\\uac1d\\uc218\"}},\"legend\":{\"title\":{\"text\":\"\\ud638\\uc120\"},\"tracegroupgap\":0},\"margin\":{\"t\":60},\"barmode\":\"relative\",\"width\":900},                        {\"responsive\": true}                    ).then(function(){\n",
              "                            \n",
              "var gd = document.getElementById('ab033c8e-2132-4ed1-83ad-b42ff4a27eb8');\n",
              "var x = new MutationObserver(function (mutations, observer) {{\n",
              "        var display = window.getComputedStyle(gd).display;\n",
              "        if (!display || display === 'none') {{\n",
              "            console.log([gd, 'removed!']);\n",
              "            Plotly.purge(gd);\n",
              "            observer.disconnect();\n",
              "        }}\n",
              "}});\n",
              "\n",
              "// Listen for the removal of the full notebook cells\n",
              "var notebookContainer = gd.closest('#notebook-container');\n",
              "if (notebookContainer) {{\n",
              "    x.observe(notebookContainer, {childList: true});\n",
              "}}\n",
              "\n",
              "// Listen for the clearing of the current output cell\n",
              "var outputEl = gd.closest('.output');\n",
              "if (outputEl) {{\n",
              "    x.observe(outputEl, {childList: true});\n",
              "}}\n",
              "\n",
              "                        })                };                            </script>        </div>\n",
              "</body>\n",
              "</html>"
            ]
          },
          "metadata": {}
        }
      ]
    },
    {
      "cell_type": "code",
      "source": [
        "import pandas as pd\n",
        "import plotly.express as px\n",
        "import matplotlib.pyplot as plt\n",
        "\n",
        "# 호선별 승차 이용객수 (하위30)\n",
        "fig=px.bar(dfm_bottom_r, x='호선', y='이용객수',\n",
        "color='호선',\n",
        "color_continuous_scale=px.colors.diverging.Spectral)\n",
        "fig.update_layout(width=900)"
      ],
      "metadata": {
        "id": "afs-MijPc5bD"
      },
      "execution_count": null,
      "outputs": []
    },
    {
      "cell_type": "code",
      "source": [
        "import pandas as pd\n",
        "import plotly.express as px\n",
        "import matplotlib.pyplot as plt\n",
        "\n",
        "# 호선별 하차 이용객수 (상위30)\n",
        "fig=px.bar(dfm_top_s, x='호선', y='이용객수',\n",
        "color='호선',\n",
        "color_continuous_scale=px.colors.diverging.Spectral)\n",
        "fig.update_layout(width=900)"
      ],
      "metadata": {
        "id": "kpIZh3eQ06RA",
        "colab": {
          "base_uri": "https://localhost:8080/",
          "height": 542
        },
        "outputId": "c35eb204-2f44-4881-dc01-ef586924bfec"
      },
      "execution_count": 55,
      "outputs": [
        {
          "output_type": "display_data",
          "data": {
            "text/html": [
              "<html>\n",
              "<head><meta charset=\"utf-8\" /></head>\n",
              "<body>\n",
              "    <div>            <script src=\"https://cdnjs.cloudflare.com/ajax/libs/mathjax/2.7.5/MathJax.js?config=TeX-AMS-MML_SVG\"></script><script type=\"text/javascript\">if (window.MathJax && window.MathJax.Hub && window.MathJax.Hub.Config) {window.MathJax.Hub.Config({SVG: {font: \"STIX-Web\"}});}</script>                <script type=\"text/javascript\">window.PlotlyConfig = {MathJaxConfig: 'local'};</script>\n",
              "        <script charset=\"utf-8\" src=\"https://cdn.plot.ly/plotly-2.24.1.min.js\"></script>                <div id=\"d042adc8-ef10-47b0-a073-902449e3a48c\" class=\"plotly-graph-div\" style=\"height:525px; width:900px;\"></div>            <script type=\"text/javascript\">                                    window.PLOTLYENV=window.PLOTLYENV || {};                                    if (document.getElementById(\"d042adc8-ef10-47b0-a073-902449e3a48c\")) {                    Plotly.newPlot(                        \"d042adc8-ef10-47b0-a073-902449e3a48c\",                        [{\"alignmentgroup\":\"True\",\"hovertemplate\":\"\\ud638\\uc120=%{x}\\u003cbr\\u003e\\uc774\\uc6a9\\uac1d\\uc218=%{y}\\u003cextra\\u003e\\u003c\\u002fextra\\u003e\",\"legendgroup\":\"2\",\"marker\":{\"color\":\"#636efa\",\"pattern\":{\"shape\":\"\"}},\"name\":\"2\",\"offsetgroup\":\"2\",\"orientation\":\"v\",\"showlegend\":true,\"textposition\":\"auto\",\"x\":[2,2,2,2,2,2,2,2,2,2,2,2,2,2,2,2,2,2],\"xaxis\":\"x\",\"y\":[2875353.0,2533679.0,2382842.0,2089778.0,2005753.0,1944358.0,1818558.0,1789032.0,1738015.0,1663939.0,1540002.0,1527415.0,1522855.0,1503791.0,1493045.0,1476230.0,1209184.0,1201365.0],\"yaxis\":\"y\",\"type\":\"bar\"},{\"alignmentgroup\":\"True\",\"hovertemplate\":\"\\ud638\\uc120=%{x}\\u003cbr\\u003e\\uc774\\uc6a9\\uac1d\\uc218=%{y}\\u003cextra\\u003e\\u003c\\u002fextra\\u003e\",\"legendgroup\":\"3\",\"marker\":{\"color\":\"#EF553B\",\"pattern\":{\"shape\":\"\"}},\"name\":\"3\",\"offsetgroup\":\"3\",\"orientation\":\"v\",\"showlegend\":true,\"textposition\":\"auto\",\"x\":[3,3,3,3,3,3],\"xaxis\":\"x\",\"y\":[1741166.0,1545224.0,1342673.0,1292762.0,1234036.0,1147976.0],\"yaxis\":\"y\",\"type\":\"bar\"},{\"alignmentgroup\":\"True\",\"hovertemplate\":\"\\ud638\\uc120=%{x}\\u003cbr\\u003e\\uc774\\uc6a9\\uac1d\\uc218=%{y}\\u003cextra\\u003e\\u003c\\u002fextra\\u003e\",\"legendgroup\":\"4\",\"marker\":{\"color\":\"#00cc96\",\"pattern\":{\"shape\":\"\"}},\"name\":\"4\",\"offsetgroup\":\"4\",\"orientation\":\"v\",\"showlegend\":true,\"textposition\":\"auto\",\"x\":[4,4,4],\"xaxis\":\"x\",\"y\":[1360674.0,1219052.0,1146804.0],\"yaxis\":\"y\",\"type\":\"bar\"},{\"alignmentgroup\":\"True\",\"hovertemplate\":\"\\ud638\\uc120=%{x}\\u003cbr\\u003e\\uc774\\uc6a9\\uac1d\\uc218=%{y}\\u003cextra\\u003e\\u003c\\u002fextra\\u003e\",\"legendgroup\":\"7\",\"marker\":{\"color\":\"#ab63fa\",\"pattern\":{\"shape\":\"\"}},\"name\":\"7\",\"offsetgroup\":\"7\",\"orientation\":\"v\",\"showlegend\":true,\"textposition\":\"auto\",\"x\":[7],\"xaxis\":\"x\",\"y\":[1347720.0],\"yaxis\":\"y\",\"type\":\"bar\"},{\"alignmentgroup\":\"True\",\"hovertemplate\":\"\\ud638\\uc120=%{x}\\u003cbr\\u003e\\uc774\\uc6a9\\uac1d\\uc218=%{y}\\u003cextra\\u003e\\u003c\\u002fextra\\u003e\",\"legendgroup\":\"5\",\"marker\":{\"color\":\"#FFA15A\",\"pattern\":{\"shape\":\"\"}},\"name\":\"5\",\"offsetgroup\":\"5\",\"orientation\":\"v\",\"showlegend\":true,\"textposition\":\"auto\",\"x\":[5],\"xaxis\":\"x\",\"y\":[1332165.0],\"yaxis\":\"y\",\"type\":\"bar\"},{\"alignmentgroup\":\"True\",\"hovertemplate\":\"\\ud638\\uc120=%{x}\\u003cbr\\u003e\\uc774\\uc6a9\\uac1d\\uc218=%{y}\\u003cextra\\u003e\\u003c\\u002fextra\\u003e\",\"legendgroup\":\"1\",\"marker\":{\"color\":\"#19d3f3\",\"pattern\":{\"shape\":\"\"}},\"name\":\"1\",\"offsetgroup\":\"1\",\"orientation\":\"v\",\"showlegend\":true,\"textposition\":\"auto\",\"x\":[1],\"xaxis\":\"x\",\"y\":[1329854.0],\"yaxis\":\"y\",\"type\":\"bar\"}],                        {\"template\":{\"data\":{\"histogram2dcontour\":[{\"type\":\"histogram2dcontour\",\"colorbar\":{\"outlinewidth\":0,\"ticks\":\"\"},\"colorscale\":[[0.0,\"#0d0887\"],[0.1111111111111111,\"#46039f\"],[0.2222222222222222,\"#7201a8\"],[0.3333333333333333,\"#9c179e\"],[0.4444444444444444,\"#bd3786\"],[0.5555555555555556,\"#d8576b\"],[0.6666666666666666,\"#ed7953\"],[0.7777777777777778,\"#fb9f3a\"],[0.8888888888888888,\"#fdca26\"],[1.0,\"#f0f921\"]]}],\"choropleth\":[{\"type\":\"choropleth\",\"colorbar\":{\"outlinewidth\":0,\"ticks\":\"\"}}],\"histogram2d\":[{\"type\":\"histogram2d\",\"colorbar\":{\"outlinewidth\":0,\"ticks\":\"\"},\"colorscale\":[[0.0,\"#0d0887\"],[0.1111111111111111,\"#46039f\"],[0.2222222222222222,\"#7201a8\"],[0.3333333333333333,\"#9c179e\"],[0.4444444444444444,\"#bd3786\"],[0.5555555555555556,\"#d8576b\"],[0.6666666666666666,\"#ed7953\"],[0.7777777777777778,\"#fb9f3a\"],[0.8888888888888888,\"#fdca26\"],[1.0,\"#f0f921\"]]}],\"heatmap\":[{\"type\":\"heatmap\",\"colorbar\":{\"outlinewidth\":0,\"ticks\":\"\"},\"colorscale\":[[0.0,\"#0d0887\"],[0.1111111111111111,\"#46039f\"],[0.2222222222222222,\"#7201a8\"],[0.3333333333333333,\"#9c179e\"],[0.4444444444444444,\"#bd3786\"],[0.5555555555555556,\"#d8576b\"],[0.6666666666666666,\"#ed7953\"],[0.7777777777777778,\"#fb9f3a\"],[0.8888888888888888,\"#fdca26\"],[1.0,\"#f0f921\"]]}],\"heatmapgl\":[{\"type\":\"heatmapgl\",\"colorbar\":{\"outlinewidth\":0,\"ticks\":\"\"},\"colorscale\":[[0.0,\"#0d0887\"],[0.1111111111111111,\"#46039f\"],[0.2222222222222222,\"#7201a8\"],[0.3333333333333333,\"#9c179e\"],[0.4444444444444444,\"#bd3786\"],[0.5555555555555556,\"#d8576b\"],[0.6666666666666666,\"#ed7953\"],[0.7777777777777778,\"#fb9f3a\"],[0.8888888888888888,\"#fdca26\"],[1.0,\"#f0f921\"]]}],\"contourcarpet\":[{\"type\":\"contourcarpet\",\"colorbar\":{\"outlinewidth\":0,\"ticks\":\"\"}}],\"contour\":[{\"type\":\"contour\",\"colorbar\":{\"outlinewidth\":0,\"ticks\":\"\"},\"colorscale\":[[0.0,\"#0d0887\"],[0.1111111111111111,\"#46039f\"],[0.2222222222222222,\"#7201a8\"],[0.3333333333333333,\"#9c179e\"],[0.4444444444444444,\"#bd3786\"],[0.5555555555555556,\"#d8576b\"],[0.6666666666666666,\"#ed7953\"],[0.7777777777777778,\"#fb9f3a\"],[0.8888888888888888,\"#fdca26\"],[1.0,\"#f0f921\"]]}],\"surface\":[{\"type\":\"surface\",\"colorbar\":{\"outlinewidth\":0,\"ticks\":\"\"},\"colorscale\":[[0.0,\"#0d0887\"],[0.1111111111111111,\"#46039f\"],[0.2222222222222222,\"#7201a8\"],[0.3333333333333333,\"#9c179e\"],[0.4444444444444444,\"#bd3786\"],[0.5555555555555556,\"#d8576b\"],[0.6666666666666666,\"#ed7953\"],[0.7777777777777778,\"#fb9f3a\"],[0.8888888888888888,\"#fdca26\"],[1.0,\"#f0f921\"]]}],\"mesh3d\":[{\"type\":\"mesh3d\",\"colorbar\":{\"outlinewidth\":0,\"ticks\":\"\"}}],\"scatter\":[{\"fillpattern\":{\"fillmode\":\"overlay\",\"size\":10,\"solidity\":0.2},\"type\":\"scatter\"}],\"parcoords\":[{\"type\":\"parcoords\",\"line\":{\"colorbar\":{\"outlinewidth\":0,\"ticks\":\"\"}}}],\"scatterpolargl\":[{\"type\":\"scatterpolargl\",\"marker\":{\"colorbar\":{\"outlinewidth\":0,\"ticks\":\"\"}}}],\"bar\":[{\"error_x\":{\"color\":\"#2a3f5f\"},\"error_y\":{\"color\":\"#2a3f5f\"},\"marker\":{\"line\":{\"color\":\"#E5ECF6\",\"width\":0.5},\"pattern\":{\"fillmode\":\"overlay\",\"size\":10,\"solidity\":0.2}},\"type\":\"bar\"}],\"scattergeo\":[{\"type\":\"scattergeo\",\"marker\":{\"colorbar\":{\"outlinewidth\":0,\"ticks\":\"\"}}}],\"scatterpolar\":[{\"type\":\"scatterpolar\",\"marker\":{\"colorbar\":{\"outlinewidth\":0,\"ticks\":\"\"}}}],\"histogram\":[{\"marker\":{\"pattern\":{\"fillmode\":\"overlay\",\"size\":10,\"solidity\":0.2}},\"type\":\"histogram\"}],\"scattergl\":[{\"type\":\"scattergl\",\"marker\":{\"colorbar\":{\"outlinewidth\":0,\"ticks\":\"\"}}}],\"scatter3d\":[{\"type\":\"scatter3d\",\"line\":{\"colorbar\":{\"outlinewidth\":0,\"ticks\":\"\"}},\"marker\":{\"colorbar\":{\"outlinewidth\":0,\"ticks\":\"\"}}}],\"scattermapbox\":[{\"type\":\"scattermapbox\",\"marker\":{\"colorbar\":{\"outlinewidth\":0,\"ticks\":\"\"}}}],\"scatterternary\":[{\"type\":\"scatterternary\",\"marker\":{\"colorbar\":{\"outlinewidth\":0,\"ticks\":\"\"}}}],\"scattercarpet\":[{\"type\":\"scattercarpet\",\"marker\":{\"colorbar\":{\"outlinewidth\":0,\"ticks\":\"\"}}}],\"carpet\":[{\"aaxis\":{\"endlinecolor\":\"#2a3f5f\",\"gridcolor\":\"white\",\"linecolor\":\"white\",\"minorgridcolor\":\"white\",\"startlinecolor\":\"#2a3f5f\"},\"baxis\":{\"endlinecolor\":\"#2a3f5f\",\"gridcolor\":\"white\",\"linecolor\":\"white\",\"minorgridcolor\":\"white\",\"startlinecolor\":\"#2a3f5f\"},\"type\":\"carpet\"}],\"table\":[{\"cells\":{\"fill\":{\"color\":\"#EBF0F8\"},\"line\":{\"color\":\"white\"}},\"header\":{\"fill\":{\"color\":\"#C8D4E3\"},\"line\":{\"color\":\"white\"}},\"type\":\"table\"}],\"barpolar\":[{\"marker\":{\"line\":{\"color\":\"#E5ECF6\",\"width\":0.5},\"pattern\":{\"fillmode\":\"overlay\",\"size\":10,\"solidity\":0.2}},\"type\":\"barpolar\"}],\"pie\":[{\"automargin\":true,\"type\":\"pie\"}]},\"layout\":{\"autotypenumbers\":\"strict\",\"colorway\":[\"#636efa\",\"#EF553B\",\"#00cc96\",\"#ab63fa\",\"#FFA15A\",\"#19d3f3\",\"#FF6692\",\"#B6E880\",\"#FF97FF\",\"#FECB52\"],\"font\":{\"color\":\"#2a3f5f\"},\"hovermode\":\"closest\",\"hoverlabel\":{\"align\":\"left\"},\"paper_bgcolor\":\"white\",\"plot_bgcolor\":\"#E5ECF6\",\"polar\":{\"bgcolor\":\"#E5ECF6\",\"angularaxis\":{\"gridcolor\":\"white\",\"linecolor\":\"white\",\"ticks\":\"\"},\"radialaxis\":{\"gridcolor\":\"white\",\"linecolor\":\"white\",\"ticks\":\"\"}},\"ternary\":{\"bgcolor\":\"#E5ECF6\",\"aaxis\":{\"gridcolor\":\"white\",\"linecolor\":\"white\",\"ticks\":\"\"},\"baxis\":{\"gridcolor\":\"white\",\"linecolor\":\"white\",\"ticks\":\"\"},\"caxis\":{\"gridcolor\":\"white\",\"linecolor\":\"white\",\"ticks\":\"\"}},\"coloraxis\":{\"colorbar\":{\"outlinewidth\":0,\"ticks\":\"\"}},\"colorscale\":{\"sequential\":[[0.0,\"#0d0887\"],[0.1111111111111111,\"#46039f\"],[0.2222222222222222,\"#7201a8\"],[0.3333333333333333,\"#9c179e\"],[0.4444444444444444,\"#bd3786\"],[0.5555555555555556,\"#d8576b\"],[0.6666666666666666,\"#ed7953\"],[0.7777777777777778,\"#fb9f3a\"],[0.8888888888888888,\"#fdca26\"],[1.0,\"#f0f921\"]],\"sequentialminus\":[[0.0,\"#0d0887\"],[0.1111111111111111,\"#46039f\"],[0.2222222222222222,\"#7201a8\"],[0.3333333333333333,\"#9c179e\"],[0.4444444444444444,\"#bd3786\"],[0.5555555555555556,\"#d8576b\"],[0.6666666666666666,\"#ed7953\"],[0.7777777777777778,\"#fb9f3a\"],[0.8888888888888888,\"#fdca26\"],[1.0,\"#f0f921\"]],\"diverging\":[[0,\"#8e0152\"],[0.1,\"#c51b7d\"],[0.2,\"#de77ae\"],[0.3,\"#f1b6da\"],[0.4,\"#fde0ef\"],[0.5,\"#f7f7f7\"],[0.6,\"#e6f5d0\"],[0.7,\"#b8e186\"],[0.8,\"#7fbc41\"],[0.9,\"#4d9221\"],[1,\"#276419\"]]},\"xaxis\":{\"gridcolor\":\"white\",\"linecolor\":\"white\",\"ticks\":\"\",\"title\":{\"standoff\":15},\"zerolinecolor\":\"white\",\"automargin\":true,\"zerolinewidth\":2},\"yaxis\":{\"gridcolor\":\"white\",\"linecolor\":\"white\",\"ticks\":\"\",\"title\":{\"standoff\":15},\"zerolinecolor\":\"white\",\"automargin\":true,\"zerolinewidth\":2},\"scene\":{\"xaxis\":{\"backgroundcolor\":\"#E5ECF6\",\"gridcolor\":\"white\",\"linecolor\":\"white\",\"showbackground\":true,\"ticks\":\"\",\"zerolinecolor\":\"white\",\"gridwidth\":2},\"yaxis\":{\"backgroundcolor\":\"#E5ECF6\",\"gridcolor\":\"white\",\"linecolor\":\"white\",\"showbackground\":true,\"ticks\":\"\",\"zerolinecolor\":\"white\",\"gridwidth\":2},\"zaxis\":{\"backgroundcolor\":\"#E5ECF6\",\"gridcolor\":\"white\",\"linecolor\":\"white\",\"showbackground\":true,\"ticks\":\"\",\"zerolinecolor\":\"white\",\"gridwidth\":2}},\"shapedefaults\":{\"line\":{\"color\":\"#2a3f5f\"}},\"annotationdefaults\":{\"arrowcolor\":\"#2a3f5f\",\"arrowhead\":0,\"arrowwidth\":1},\"geo\":{\"bgcolor\":\"white\",\"landcolor\":\"#E5ECF6\",\"subunitcolor\":\"white\",\"showland\":true,\"showlakes\":true,\"lakecolor\":\"white\"},\"title\":{\"x\":0.05},\"mapbox\":{\"style\":\"light\"}}},\"xaxis\":{\"anchor\":\"y\",\"domain\":[0.0,1.0],\"title\":{\"text\":\"\\ud638\\uc120\"},\"categoryorder\":\"array\",\"categoryarray\":[2,3,4,7,5,1]},\"yaxis\":{\"anchor\":\"x\",\"domain\":[0.0,1.0],\"title\":{\"text\":\"\\uc774\\uc6a9\\uac1d\\uc218\"}},\"legend\":{\"title\":{\"text\":\"\\ud638\\uc120\"},\"tracegroupgap\":0},\"margin\":{\"t\":60},\"barmode\":\"relative\",\"width\":900},                        {\"responsive\": true}                    ).then(function(){\n",
              "                            \n",
              "var gd = document.getElementById('d042adc8-ef10-47b0-a073-902449e3a48c');\n",
              "var x = new MutationObserver(function (mutations, observer) {{\n",
              "        var display = window.getComputedStyle(gd).display;\n",
              "        if (!display || display === 'none') {{\n",
              "            console.log([gd, 'removed!']);\n",
              "            Plotly.purge(gd);\n",
              "            observer.disconnect();\n",
              "        }}\n",
              "}});\n",
              "\n",
              "// Listen for the removal of the full notebook cells\n",
              "var notebookContainer = gd.closest('#notebook-container');\n",
              "if (notebookContainer) {{\n",
              "    x.observe(notebookContainer, {childList: true});\n",
              "}}\n",
              "\n",
              "// Listen for the clearing of the current output cell\n",
              "var outputEl = gd.closest('.output');\n",
              "if (outputEl) {{\n",
              "    x.observe(outputEl, {childList: true});\n",
              "}}\n",
              "\n",
              "                        })                };                            </script>        </div>\n",
              "</body>\n",
              "</html>"
            ]
          },
          "metadata": {}
        }
      ]
    },
    {
      "cell_type": "code",
      "source": [
        "import pandas as pd\n",
        "import plotly.express as px\n",
        "import matplotlib.pyplot as plt\n",
        "\n",
        "# 호선별 하차 이용객수 (하위30)\n",
        "fig=px.bar(dfm_bottom_s, x='호선', y='이용객수',\n",
        "color='호선',\n",
        "color_continuous_scale=px.colors.diverging.Spectral)\n",
        "fig.update_layout(width=900)"
      ],
      "metadata": {
        "colab": {
          "base_uri": "https://localhost:8080/",
          "height": 542
        },
        "id": "C75joRukdJSO",
        "outputId": "1ec55cc5-c2ae-40a5-b257-7800dce5010b"
      },
      "execution_count": 58,
      "outputs": [
        {
          "output_type": "display_data",
          "data": {
            "text/html": [
              "<html>\n",
              "<head><meta charset=\"utf-8\" /></head>\n",
              "<body>\n",
              "    <div>            <script src=\"https://cdnjs.cloudflare.com/ajax/libs/mathjax/2.7.5/MathJax.js?config=TeX-AMS-MML_SVG\"></script><script type=\"text/javascript\">if (window.MathJax && window.MathJax.Hub && window.MathJax.Hub.Config) {window.MathJax.Hub.Config({SVG: {font: \"STIX-Web\"}});}</script>                <script type=\"text/javascript\">window.PlotlyConfig = {MathJaxConfig: 'local'};</script>\n",
              "        <script charset=\"utf-8\" src=\"https://cdn.plot.ly/plotly-2.24.1.min.js\"></script>                <div id=\"5a178400-846c-4a60-9387-1e04882ef810\" class=\"plotly-graph-div\" style=\"height:525px; width:900px;\"></div>            <script type=\"text/javascript\">                                    window.PLOTLYENV=window.PLOTLYENV || {};                                    if (document.getElementById(\"5a178400-846c-4a60-9387-1e04882ef810\")) {                    Plotly.newPlot(                        \"5a178400-846c-4a60-9387-1e04882ef810\",                        [{\"alignmentgroup\":\"True\",\"hovertemplate\":\"\\ud638\\uc120=%{x}\\u003cbr\\u003e\\uc774\\uc6a9\\uac1d\\uc218=%{y}\\u003cextra\\u003e\\u003c\\u002fextra\\u003e\",\"legendgroup\":\"9\",\"marker\":{\"color\":\"#636efa\",\"pattern\":{\"shape\":\"\"}},\"name\":\"9\",\"offsetgroup\":\"9\",\"orientation\":\"v\",\"showlegend\":true,\"textposition\":\"auto\",\"x\":[9,9,9,9,9,9,9,9],\"xaxis\":\"x\",\"y\":[317694.0,303200.0,299430.0,295393.0,295222.0,286152.0,282417.0,251403.0],\"yaxis\":\"y\",\"type\":\"bar\"},{\"alignmentgroup\":\"True\",\"hovertemplate\":\"\\ud638\\uc120=%{x}\\u003cbr\\u003e\\uc774\\uc6a9\\uac1d\\uc218=%{y}\\u003cextra\\u003e\\u003c\\u002fextra\\u003e\",\"legendgroup\":\"6\",\"marker\":{\"color\":\"#EF553B\",\"pattern\":{\"shape\":\"\"}},\"name\":\"6\",\"offsetgroup\":\"6\",\"orientation\":\"v\",\"showlegend\":true,\"textposition\":\"auto\",\"x\":[6,6,6,6,6,6],\"xaxis\":\"x\",\"y\":[315471.0,306313.0,290175.0,286138.0,266453.0,201899.0],\"yaxis\":\"y\",\"type\":\"bar\"},{\"alignmentgroup\":\"True\",\"hovertemplate\":\"\\ud638\\uc120=%{x}\\u003cbr\\u003e\\uc774\\uc6a9\\uac1d\\uc218=%{y}\\u003cextra\\u003e\\u003c\\u002fextra\\u003e\",\"legendgroup\":\"5\",\"marker\":{\"color\":\"#00cc96\",\"pattern\":{\"shape\":\"\"}},\"name\":\"5\",\"offsetgroup\":\"5\",\"orientation\":\"v\",\"showlegend\":true,\"textposition\":\"auto\",\"x\":[5,5,5,5,5],\"xaxis\":\"x\",\"y\":[313906.0,309055.0,307330.0,306246.0,306218.0],\"yaxis\":\"y\",\"type\":\"bar\"},{\"alignmentgroup\":\"True\",\"hovertemplate\":\"\\ud638\\uc120=%{x}\\u003cbr\\u003e\\uc774\\uc6a9\\uac1d\\uc218=%{y}\\u003cextra\\u003e\\u003c\\u002fextra\\u003e\",\"legendgroup\":\"2\",\"marker\":{\"color\":\"#ab63fa\",\"pattern\":{\"shape\":\"\"}},\"name\":\"2\",\"offsetgroup\":\"2\",\"orientation\":\"v\",\"showlegend\":true,\"textposition\":\"auto\",\"x\":[2,2,2,2,2],\"xaxis\":\"x\",\"y\":[311327.0,280339.0,273554.0,249879.0,237968.0],\"yaxis\":\"y\",\"type\":\"bar\"},{\"alignmentgroup\":\"True\",\"hovertemplate\":\"\\ud638\\uc120=%{x}\\u003cbr\\u003e\\uc774\\uc6a9\\uac1d\\uc218=%{y}\\u003cextra\\u003e\\u003c\\u002fextra\\u003e\",\"legendgroup\":\"8\",\"marker\":{\"color\":\"#FFA15A\",\"pattern\":{\"shape\":\"\"}},\"name\":\"8\",\"offsetgroup\":\"8\",\"orientation\":\"v\",\"showlegend\":true,\"textposition\":\"auto\",\"x\":[8],\"xaxis\":\"x\",\"y\":[308557.0],\"yaxis\":\"y\",\"type\":\"bar\"},{\"alignmentgroup\":\"True\",\"hovertemplate\":\"\\ud638\\uc120=%{x}\\u003cbr\\u003e\\uc774\\uc6a9\\uac1d\\uc218=%{y}\\u003cextra\\u003e\\u003c\\u002fextra\\u003e\",\"legendgroup\":\"4\",\"marker\":{\"color\":\"#19d3f3\",\"pattern\":{\"shape\":\"\"}},\"name\":\"4\",\"offsetgroup\":\"4\",\"orientation\":\"v\",\"showlegend\":true,\"textposition\":\"auto\",\"x\":[4,4],\"xaxis\":\"x\",\"y\":[288441.0,233105.0],\"yaxis\":\"y\",\"type\":\"bar\"},{\"alignmentgroup\":\"True\",\"hovertemplate\":\"\\ud638\\uc120=%{x}\\u003cbr\\u003e\\uc774\\uc6a9\\uac1d\\uc218=%{y}\\u003cextra\\u003e\\u003c\\u002fextra\\u003e\",\"legendgroup\":\"3\",\"marker\":{\"color\":\"#FF6692\",\"pattern\":{\"shape\":\"\"}},\"name\":\"3\",\"offsetgroup\":\"3\",\"orientation\":\"v\",\"showlegend\":true,\"textposition\":\"auto\",\"x\":[3,3],\"xaxis\":\"x\",\"y\":[280230.0,278021.0],\"yaxis\":\"y\",\"type\":\"bar\"},{\"alignmentgroup\":\"True\",\"hovertemplate\":\"\\ud638\\uc120=%{x}\\u003cbr\\u003e\\uc774\\uc6a9\\uac1d\\uc218=%{y}\\u003cextra\\u003e\\u003c\\u002fextra\\u003e\",\"legendgroup\":\"7\",\"marker\":{\"color\":\"#B6E880\",\"pattern\":{\"shape\":\"\"}},\"name\":\"7\",\"offsetgroup\":\"7\",\"orientation\":\"v\",\"showlegend\":true,\"textposition\":\"auto\",\"x\":[7],\"xaxis\":\"x\",\"y\":[231621.0],\"yaxis\":\"y\",\"type\":\"bar\"}],                        {\"template\":{\"data\":{\"histogram2dcontour\":[{\"type\":\"histogram2dcontour\",\"colorbar\":{\"outlinewidth\":0,\"ticks\":\"\"},\"colorscale\":[[0.0,\"#0d0887\"],[0.1111111111111111,\"#46039f\"],[0.2222222222222222,\"#7201a8\"],[0.3333333333333333,\"#9c179e\"],[0.4444444444444444,\"#bd3786\"],[0.5555555555555556,\"#d8576b\"],[0.6666666666666666,\"#ed7953\"],[0.7777777777777778,\"#fb9f3a\"],[0.8888888888888888,\"#fdca26\"],[1.0,\"#f0f921\"]]}],\"choropleth\":[{\"type\":\"choropleth\",\"colorbar\":{\"outlinewidth\":0,\"ticks\":\"\"}}],\"histogram2d\":[{\"type\":\"histogram2d\",\"colorbar\":{\"outlinewidth\":0,\"ticks\":\"\"},\"colorscale\":[[0.0,\"#0d0887\"],[0.1111111111111111,\"#46039f\"],[0.2222222222222222,\"#7201a8\"],[0.3333333333333333,\"#9c179e\"],[0.4444444444444444,\"#bd3786\"],[0.5555555555555556,\"#d8576b\"],[0.6666666666666666,\"#ed7953\"],[0.7777777777777778,\"#fb9f3a\"],[0.8888888888888888,\"#fdca26\"],[1.0,\"#f0f921\"]]}],\"heatmap\":[{\"type\":\"heatmap\",\"colorbar\":{\"outlinewidth\":0,\"ticks\":\"\"},\"colorscale\":[[0.0,\"#0d0887\"],[0.1111111111111111,\"#46039f\"],[0.2222222222222222,\"#7201a8\"],[0.3333333333333333,\"#9c179e\"],[0.4444444444444444,\"#bd3786\"],[0.5555555555555556,\"#d8576b\"],[0.6666666666666666,\"#ed7953\"],[0.7777777777777778,\"#fb9f3a\"],[0.8888888888888888,\"#fdca26\"],[1.0,\"#f0f921\"]]}],\"heatmapgl\":[{\"type\":\"heatmapgl\",\"colorbar\":{\"outlinewidth\":0,\"ticks\":\"\"},\"colorscale\":[[0.0,\"#0d0887\"],[0.1111111111111111,\"#46039f\"],[0.2222222222222222,\"#7201a8\"],[0.3333333333333333,\"#9c179e\"],[0.4444444444444444,\"#bd3786\"],[0.5555555555555556,\"#d8576b\"],[0.6666666666666666,\"#ed7953\"],[0.7777777777777778,\"#fb9f3a\"],[0.8888888888888888,\"#fdca26\"],[1.0,\"#f0f921\"]]}],\"contourcarpet\":[{\"type\":\"contourcarpet\",\"colorbar\":{\"outlinewidth\":0,\"ticks\":\"\"}}],\"contour\":[{\"type\":\"contour\",\"colorbar\":{\"outlinewidth\":0,\"ticks\":\"\"},\"colorscale\":[[0.0,\"#0d0887\"],[0.1111111111111111,\"#46039f\"],[0.2222222222222222,\"#7201a8\"],[0.3333333333333333,\"#9c179e\"],[0.4444444444444444,\"#bd3786\"],[0.5555555555555556,\"#d8576b\"],[0.6666666666666666,\"#ed7953\"],[0.7777777777777778,\"#fb9f3a\"],[0.8888888888888888,\"#fdca26\"],[1.0,\"#f0f921\"]]}],\"surface\":[{\"type\":\"surface\",\"colorbar\":{\"outlinewidth\":0,\"ticks\":\"\"},\"colorscale\":[[0.0,\"#0d0887\"],[0.1111111111111111,\"#46039f\"],[0.2222222222222222,\"#7201a8\"],[0.3333333333333333,\"#9c179e\"],[0.4444444444444444,\"#bd3786\"],[0.5555555555555556,\"#d8576b\"],[0.6666666666666666,\"#ed7953\"],[0.7777777777777778,\"#fb9f3a\"],[0.8888888888888888,\"#fdca26\"],[1.0,\"#f0f921\"]]}],\"mesh3d\":[{\"type\":\"mesh3d\",\"colorbar\":{\"outlinewidth\":0,\"ticks\":\"\"}}],\"scatter\":[{\"fillpattern\":{\"fillmode\":\"overlay\",\"size\":10,\"solidity\":0.2},\"type\":\"scatter\"}],\"parcoords\":[{\"type\":\"parcoords\",\"line\":{\"colorbar\":{\"outlinewidth\":0,\"ticks\":\"\"}}}],\"scatterpolargl\":[{\"type\":\"scatterpolargl\",\"marker\":{\"colorbar\":{\"outlinewidth\":0,\"ticks\":\"\"}}}],\"bar\":[{\"error_x\":{\"color\":\"#2a3f5f\"},\"error_y\":{\"color\":\"#2a3f5f\"},\"marker\":{\"line\":{\"color\":\"#E5ECF6\",\"width\":0.5},\"pattern\":{\"fillmode\":\"overlay\",\"size\":10,\"solidity\":0.2}},\"type\":\"bar\"}],\"scattergeo\":[{\"type\":\"scattergeo\",\"marker\":{\"colorbar\":{\"outlinewidth\":0,\"ticks\":\"\"}}}],\"scatterpolar\":[{\"type\":\"scatterpolar\",\"marker\":{\"colorbar\":{\"outlinewidth\":0,\"ticks\":\"\"}}}],\"histogram\":[{\"marker\":{\"pattern\":{\"fillmode\":\"overlay\",\"size\":10,\"solidity\":0.2}},\"type\":\"histogram\"}],\"scattergl\":[{\"type\":\"scattergl\",\"marker\":{\"colorbar\":{\"outlinewidth\":0,\"ticks\":\"\"}}}],\"scatter3d\":[{\"type\":\"scatter3d\",\"line\":{\"colorbar\":{\"outlinewidth\":0,\"ticks\":\"\"}},\"marker\":{\"colorbar\":{\"outlinewidth\":0,\"ticks\":\"\"}}}],\"scattermapbox\":[{\"type\":\"scattermapbox\",\"marker\":{\"colorbar\":{\"outlinewidth\":0,\"ticks\":\"\"}}}],\"scatterternary\":[{\"type\":\"scatterternary\",\"marker\":{\"colorbar\":{\"outlinewidth\":0,\"ticks\":\"\"}}}],\"scattercarpet\":[{\"type\":\"scattercarpet\",\"marker\":{\"colorbar\":{\"outlinewidth\":0,\"ticks\":\"\"}}}],\"carpet\":[{\"aaxis\":{\"endlinecolor\":\"#2a3f5f\",\"gridcolor\":\"white\",\"linecolor\":\"white\",\"minorgridcolor\":\"white\",\"startlinecolor\":\"#2a3f5f\"},\"baxis\":{\"endlinecolor\":\"#2a3f5f\",\"gridcolor\":\"white\",\"linecolor\":\"white\",\"minorgridcolor\":\"white\",\"startlinecolor\":\"#2a3f5f\"},\"type\":\"carpet\"}],\"table\":[{\"cells\":{\"fill\":{\"color\":\"#EBF0F8\"},\"line\":{\"color\":\"white\"}},\"header\":{\"fill\":{\"color\":\"#C8D4E3\"},\"line\":{\"color\":\"white\"}},\"type\":\"table\"}],\"barpolar\":[{\"marker\":{\"line\":{\"color\":\"#E5ECF6\",\"width\":0.5},\"pattern\":{\"fillmode\":\"overlay\",\"size\":10,\"solidity\":0.2}},\"type\":\"barpolar\"}],\"pie\":[{\"automargin\":true,\"type\":\"pie\"}]},\"layout\":{\"autotypenumbers\":\"strict\",\"colorway\":[\"#636efa\",\"#EF553B\",\"#00cc96\",\"#ab63fa\",\"#FFA15A\",\"#19d3f3\",\"#FF6692\",\"#B6E880\",\"#FF97FF\",\"#FECB52\"],\"font\":{\"color\":\"#2a3f5f\"},\"hovermode\":\"closest\",\"hoverlabel\":{\"align\":\"left\"},\"paper_bgcolor\":\"white\",\"plot_bgcolor\":\"#E5ECF6\",\"polar\":{\"bgcolor\":\"#E5ECF6\",\"angularaxis\":{\"gridcolor\":\"white\",\"linecolor\":\"white\",\"ticks\":\"\"},\"radialaxis\":{\"gridcolor\":\"white\",\"linecolor\":\"white\",\"ticks\":\"\"}},\"ternary\":{\"bgcolor\":\"#E5ECF6\",\"aaxis\":{\"gridcolor\":\"white\",\"linecolor\":\"white\",\"ticks\":\"\"},\"baxis\":{\"gridcolor\":\"white\",\"linecolor\":\"white\",\"ticks\":\"\"},\"caxis\":{\"gridcolor\":\"white\",\"linecolor\":\"white\",\"ticks\":\"\"}},\"coloraxis\":{\"colorbar\":{\"outlinewidth\":0,\"ticks\":\"\"}},\"colorscale\":{\"sequential\":[[0.0,\"#0d0887\"],[0.1111111111111111,\"#46039f\"],[0.2222222222222222,\"#7201a8\"],[0.3333333333333333,\"#9c179e\"],[0.4444444444444444,\"#bd3786\"],[0.5555555555555556,\"#d8576b\"],[0.6666666666666666,\"#ed7953\"],[0.7777777777777778,\"#fb9f3a\"],[0.8888888888888888,\"#fdca26\"],[1.0,\"#f0f921\"]],\"sequentialminus\":[[0.0,\"#0d0887\"],[0.1111111111111111,\"#46039f\"],[0.2222222222222222,\"#7201a8\"],[0.3333333333333333,\"#9c179e\"],[0.4444444444444444,\"#bd3786\"],[0.5555555555555556,\"#d8576b\"],[0.6666666666666666,\"#ed7953\"],[0.7777777777777778,\"#fb9f3a\"],[0.8888888888888888,\"#fdca26\"],[1.0,\"#f0f921\"]],\"diverging\":[[0,\"#8e0152\"],[0.1,\"#c51b7d\"],[0.2,\"#de77ae\"],[0.3,\"#f1b6da\"],[0.4,\"#fde0ef\"],[0.5,\"#f7f7f7\"],[0.6,\"#e6f5d0\"],[0.7,\"#b8e186\"],[0.8,\"#7fbc41\"],[0.9,\"#4d9221\"],[1,\"#276419\"]]},\"xaxis\":{\"gridcolor\":\"white\",\"linecolor\":\"white\",\"ticks\":\"\",\"title\":{\"standoff\":15},\"zerolinecolor\":\"white\",\"automargin\":true,\"zerolinewidth\":2},\"yaxis\":{\"gridcolor\":\"white\",\"linecolor\":\"white\",\"ticks\":\"\",\"title\":{\"standoff\":15},\"zerolinecolor\":\"white\",\"automargin\":true,\"zerolinewidth\":2},\"scene\":{\"xaxis\":{\"backgroundcolor\":\"#E5ECF6\",\"gridcolor\":\"white\",\"linecolor\":\"white\",\"showbackground\":true,\"ticks\":\"\",\"zerolinecolor\":\"white\",\"gridwidth\":2},\"yaxis\":{\"backgroundcolor\":\"#E5ECF6\",\"gridcolor\":\"white\",\"linecolor\":\"white\",\"showbackground\":true,\"ticks\":\"\",\"zerolinecolor\":\"white\",\"gridwidth\":2},\"zaxis\":{\"backgroundcolor\":\"#E5ECF6\",\"gridcolor\":\"white\",\"linecolor\":\"white\",\"showbackground\":true,\"ticks\":\"\",\"zerolinecolor\":\"white\",\"gridwidth\":2}},\"shapedefaults\":{\"line\":{\"color\":\"#2a3f5f\"}},\"annotationdefaults\":{\"arrowcolor\":\"#2a3f5f\",\"arrowhead\":0,\"arrowwidth\":1},\"geo\":{\"bgcolor\":\"white\",\"landcolor\":\"#E5ECF6\",\"subunitcolor\":\"white\",\"showland\":true,\"showlakes\":true,\"lakecolor\":\"white\"},\"title\":{\"x\":0.05},\"mapbox\":{\"style\":\"light\"}}},\"xaxis\":{\"anchor\":\"y\",\"domain\":[0.0,1.0],\"title\":{\"text\":\"\\ud638\\uc120\"},\"categoryorder\":\"array\",\"categoryarray\":[9,6,5,2,8,4,3,7]},\"yaxis\":{\"anchor\":\"x\",\"domain\":[0.0,1.0],\"title\":{\"text\":\"\\uc774\\uc6a9\\uac1d\\uc218\"}},\"legend\":{\"title\":{\"text\":\"\\ud638\\uc120\"},\"tracegroupgap\":0},\"margin\":{\"t\":60},\"barmode\":\"relative\",\"width\":900},                        {\"responsive\": true}                    ).then(function(){\n",
              "                            \n",
              "var gd = document.getElementById('5a178400-846c-4a60-9387-1e04882ef810');\n",
              "var x = new MutationObserver(function (mutations, observer) {{\n",
              "        var display = window.getComputedStyle(gd).display;\n",
              "        if (!display || display === 'none') {{\n",
              "            console.log([gd, 'removed!']);\n",
              "            Plotly.purge(gd);\n",
              "            observer.disconnect();\n",
              "        }}\n",
              "}});\n",
              "\n",
              "// Listen for the removal of the full notebook cells\n",
              "var notebookContainer = gd.closest('#notebook-container');\n",
              "if (notebookContainer) {{\n",
              "    x.observe(notebookContainer, {childList: true});\n",
              "}}\n",
              "\n",
              "// Listen for the clearing of the current output cell\n",
              "var outputEl = gd.closest('.output');\n",
              "if (outputEl) {{\n",
              "    x.observe(outputEl, {childList: true});\n",
              "}}\n",
              "\n",
              "                        })                };                            </script>        </div>\n",
              "</body>\n",
              "</html>"
            ]
          },
          "metadata": {}
        }
      ]
    },
    {
      "cell_type": "code",
      "source": [
        "import pandas as pd\n",
        "import plotly.express as px\n",
        "import matplotlib.pyplot as plt\n",
        "\n",
        "# 역별 승차 이용객수 (상위30)\n",
        "fig=px.bar(dfm_top_r, x='역명', y='이용객수',\n",
        "color='역명',\n",
        "color_continuous_scale=px.colors.diverging.Spectral)\n",
        "fig.update_layout(width=900)"
      ],
      "metadata": {
        "id": "Vdg8Dztf2ziI",
        "colab": {
          "base_uri": "https://localhost:8080/",
          "height": 542
        },
        "outputId": "8af044d2-03bd-45e4-a6c9-a2b57ebaa1f7"
      },
      "execution_count": 56,
      "outputs": [
        {
          "output_type": "display_data",
          "data": {
            "text/html": [
              "<html>\n",
              "<head><meta charset=\"utf-8\" /></head>\n",
              "<body>\n",
              "    <div>            <script src=\"https://cdnjs.cloudflare.com/ajax/libs/mathjax/2.7.5/MathJax.js?config=TeX-AMS-MML_SVG\"></script><script type=\"text/javascript\">if (window.MathJax && window.MathJax.Hub && window.MathJax.Hub.Config) {window.MathJax.Hub.Config({SVG: {font: \"STIX-Web\"}});}</script>                <script type=\"text/javascript\">window.PlotlyConfig = {MathJaxConfig: 'local'};</script>\n",
              "        <script charset=\"utf-8\" src=\"https://cdn.plot.ly/plotly-2.24.1.min.js\"></script>                <div id=\"b19e77c4-6302-4e7a-a290-693910316cbe\" class=\"plotly-graph-div\" style=\"height:525px; width:900px;\"></div>            <script type=\"text/javascript\">                                    window.PLOTLYENV=window.PLOTLYENV || {};                                    if (document.getElementById(\"b19e77c4-6302-4e7a-a290-693910316cbe\")) {                    Plotly.newPlot(                        \"b19e77c4-6302-4e7a-a290-693910316cbe\",                        [{\"alignmentgroup\":\"True\",\"hovertemplate\":\"\\uc5ed\\uba85=%{x}\\u003cbr\\u003e\\uc774\\uc6a9\\uac1d\\uc218=%{y}\\u003cextra\\u003e\\u003c\\u002fextra\\u003e\",\"legendgroup\":\"\\uac15\\ub0a8\",\"marker\":{\"color\":\"#636efa\",\"pattern\":{\"shape\":\"\"}},\"name\":\"\\uac15\\ub0a8\",\"offsetgroup\":\"\\uac15\\ub0a8\",\"orientation\":\"v\",\"showlegend\":true,\"textposition\":\"auto\",\"x\":[\"\\uac15\\ub0a8\"],\"xaxis\":\"x\",\"y\":[2866933.0],\"yaxis\":\"y\",\"type\":\"bar\"},{\"alignmentgroup\":\"True\",\"hovertemplate\":\"\\uc5ed\\uba85=%{x}\\u003cbr\\u003e\\uc774\\uc6a9\\uac1d\\uc218=%{y}\\u003cextra\\u003e\\u003c\\u002fextra\\u003e\",\"legendgroup\":\"\\uc7a0\\uc2e4\",\"marker\":{\"color\":\"#EF553B\",\"pattern\":{\"shape\":\"\"}},\"name\":\"\\uc7a0\\uc2e4\",\"offsetgroup\":\"\\uc7a0\\uc2e4\",\"orientation\":\"v\",\"showlegend\":true,\"textposition\":\"auto\",\"x\":[\"\\uc7a0\\uc2e4\"],\"xaxis\":\"x\",\"y\":[2730351.0],\"yaxis\":\"y\",\"type\":\"bar\"},{\"alignmentgroup\":\"True\",\"hovertemplate\":\"\\uc5ed\\uba85=%{x}\\u003cbr\\u003e\\uc774\\uc6a9\\uac1d\\uc218=%{y}\\u003cextra\\u003e\\u003c\\u002fextra\\u003e\",\"legendgroup\":\"\\ud64d\\ub300\\uc785\\uad6c\",\"marker\":{\"color\":\"#00cc96\",\"pattern\":{\"shape\":\"\"}},\"name\":\"\\ud64d\\ub300\\uc785\\uad6c\",\"offsetgroup\":\"\\ud64d\\ub300\\uc785\\uad6c\",\"orientation\":\"v\",\"showlegend\":true,\"textposition\":\"auto\",\"x\":[\"\\ud64d\\ub300\\uc785\\uad6c\"],\"xaxis\":\"x\",\"y\":[2245752.0],\"yaxis\":\"y\",\"type\":\"bar\"},{\"alignmentgroup\":\"True\",\"hovertemplate\":\"\\uc5ed\\uba85=%{x}\\u003cbr\\u003e\\uc774\\uc6a9\\uac1d\\uc218=%{y}\\u003cextra\\u003e\\u003c\\u002fextra\\u003e\",\"legendgroup\":\"\\uc2e0\\ub9bc\",\"marker\":{\"color\":\"#ab63fa\",\"pattern\":{\"shape\":\"\"}},\"name\":\"\\uc2e0\\ub9bc\",\"offsetgroup\":\"\\uc2e0\\ub9bc\",\"orientation\":\"v\",\"showlegend\":true,\"textposition\":\"auto\",\"x\":[\"\\uc2e0\\ub9bc\"],\"xaxis\":\"x\",\"y\":[2142856.0],\"yaxis\":\"y\",\"type\":\"bar\"},{\"alignmentgroup\":\"True\",\"hovertemplate\":\"\\uc5ed\\uba85=%{x}\\u003cbr\\u003e\\uc774\\uc6a9\\uac1d\\uc218=%{y}\\u003cextra\\u003e\\u003c\\u002fextra\\u003e\",\"legendgroup\":\"\\uc0bc\\uc131\",\"marker\":{\"color\":\"#FFA15A\",\"pattern\":{\"shape\":\"\"}},\"name\":\"\\uc0bc\\uc131\",\"offsetgroup\":\"\\uc0bc\\uc131\",\"orientation\":\"v\",\"showlegend\":true,\"textposition\":\"auto\",\"x\":[\"\\uc0bc\\uc131\"],\"xaxis\":\"x\",\"y\":[1951078.0],\"yaxis\":\"y\",\"type\":\"bar\"},{\"alignmentgroup\":\"True\",\"hovertemplate\":\"\\uc5ed\\uba85=%{x}\\u003cbr\\u003e\\uc774\\uc6a9\\uac1d\\uc218=%{y}\\u003cextra\\u003e\\u003c\\u002fextra\\u003e\",\"legendgroup\":\"\\uad6c\\ub85c\\ub514\\uc9c0\\ud138\\ub2e8\\uc9c0\",\"marker\":{\"color\":\"#19d3f3\",\"pattern\":{\"shape\":\"\"}},\"name\":\"\\uad6c\\ub85c\\ub514\\uc9c0\\ud138\\ub2e8\\uc9c0\",\"offsetgroup\":\"\\uad6c\\ub85c\\ub514\\uc9c0\\ud138\\ub2e8\\uc9c0\",\"orientation\":\"v\",\"showlegend\":true,\"textposition\":\"auto\",\"x\":[\"\\uad6c\\ub85c\\ub514\\uc9c0\\ud138\\ub2e8\\uc9c0\"],\"xaxis\":\"x\",\"y\":[1945678.0],\"yaxis\":\"y\",\"type\":\"bar\"},{\"alignmentgroup\":\"True\",\"hovertemplate\":\"\\uc5ed\\uba85=%{x}\\u003cbr\\u003e\\uc774\\uc6a9\\uac1d\\uc218=%{y}\\u003cextra\\u003e\\u003c\\u002fextra\\u003e\",\"legendgroup\":\"\\uc2e0\\ub3c4\\ub9bc\",\"marker\":{\"color\":\"#FF6692\",\"pattern\":{\"shape\":\"\"}},\"name\":\"\\uc2e0\\ub3c4\\ub9bc\",\"offsetgroup\":\"\\uc2e0\\ub3c4\\ub9bc\",\"orientation\":\"v\",\"showlegend\":true,\"textposition\":\"auto\",\"x\":[\"\\uc2e0\\ub3c4\\ub9bc\"],\"xaxis\":\"x\",\"y\":[1829458.0],\"yaxis\":\"y\",\"type\":\"bar\"},{\"alignmentgroup\":\"True\",\"hovertemplate\":\"\\uc5ed\\uba85=%{x}\\u003cbr\\u003e\\uc774\\uc6a9\\uac1d\\uc218=%{y}\\u003cextra\\u003e\\u003c\\u002fextra\\u003e\",\"legendgroup\":\"\\uc11c\\uc6b8\\ub300\\uc785\\uad6c\",\"marker\":{\"color\":\"#B6E880\",\"pattern\":{\"shape\":\"\"}},\"name\":\"\\uc11c\\uc6b8\\ub300\\uc785\\uad6c\",\"offsetgroup\":\"\\uc11c\\uc6b8\\ub300\\uc785\\uad6c\",\"orientation\":\"v\",\"showlegend\":true,\"textposition\":\"auto\",\"x\":[\"\\uc11c\\uc6b8\\ub300\\uc785\\uad6c\"],\"xaxis\":\"x\",\"y\":[1821190.0],\"yaxis\":\"y\",\"type\":\"bar\"},{\"alignmentgroup\":\"True\",\"hovertemplate\":\"\\uc5ed\\uba85=%{x}\\u003cbr\\u003e\\uc774\\uc6a9\\uac1d\\uc218=%{y}\\u003cextra\\u003e\\u003c\\u002fextra\\u003e\",\"legendgroup\":\"\\uace0\\uc18d\\ud130\\ubbf8\\ub110\",\"marker\":{\"color\":\"#FF97FF\",\"pattern\":{\"shape\":\"\"}},\"name\":\"\\uace0\\uc18d\\ud130\\ubbf8\\ub110\",\"offsetgroup\":\"\\uace0\\uc18d\\ud130\\ubbf8\\ub110\",\"orientation\":\"v\",\"showlegend\":true,\"textposition\":\"auto\",\"x\":[\"\\uace0\\uc18d\\ud130\\ubbf8\\ub110\"],\"xaxis\":\"x\",\"y\":[1769388.0],\"yaxis\":\"y\",\"type\":\"bar\"},{\"alignmentgroup\":\"True\",\"hovertemplate\":\"\\uc5ed\\uba85=%{x}\\u003cbr\\u003e\\uc774\\uc6a9\\uac1d\\uc218=%{y}\\u003cextra\\u003e\\u003c\\u002fextra\\u003e\",\"legendgroup\":\"\\uac15\\ubcc0\",\"marker\":{\"color\":\"#FECB52\",\"pattern\":{\"shape\":\"\"}},\"name\":\"\\uac15\\ubcc0\",\"offsetgroup\":\"\\uac15\\ubcc0\",\"orientation\":\"v\",\"showlegend\":true,\"textposition\":\"auto\",\"x\":[\"\\uac15\\ubcc0\"],\"xaxis\":\"x\",\"y\":[1746593.0],\"yaxis\":\"y\",\"type\":\"bar\"},{\"alignmentgroup\":\"True\",\"hovertemplate\":\"\\uc5ed\\uba85=%{x}\\u003cbr\\u003e\\uc774\\uc6a9\\uac1d\\uc218=%{y}\\u003cextra\\u003e\\u003c\\u002fextra\\u003e\",\"legendgroup\":\"\\uc120\\ub989\",\"marker\":{\"color\":\"#636efa\",\"pattern\":{\"shape\":\"\"}},\"name\":\"\\uc120\\ub989\",\"offsetgroup\":\"\\uc120\\ub989\",\"orientation\":\"v\",\"showlegend\":true,\"textposition\":\"auto\",\"x\":[\"\\uc120\\ub989\"],\"xaxis\":\"x\",\"y\":[1730081.0],\"yaxis\":\"y\",\"type\":\"bar\"},{\"alignmentgroup\":\"True\",\"hovertemplate\":\"\\uc5ed\\uba85=%{x}\\u003cbr\\u003e\\uc774\\uc6a9\\uac1d\\uc218=%{y}\\u003cextra\\u003e\\u003c\\u002fextra\\u003e\",\"legendgroup\":\"\\uc744\\uc9c0\\ub85c\\uc785\\uad6c\",\"marker\":{\"color\":\"#EF553B\",\"pattern\":{\"shape\":\"\"}},\"name\":\"\\uc744\\uc9c0\\ub85c\\uc785\\uad6c\",\"offsetgroup\":\"\\uc744\\uc9c0\\ub85c\\uc785\\uad6c\",\"orientation\":\"v\",\"showlegend\":true,\"textposition\":\"auto\",\"x\":[\"\\uc744\\uc9c0\\ub85c\\uc785\\uad6c\"],\"xaxis\":\"x\",\"y\":[1527453.0],\"yaxis\":\"y\",\"type\":\"bar\"},{\"alignmentgroup\":\"True\",\"hovertemplate\":\"\\uc5ed\\uba85=%{x}\\u003cbr\\u003e\\uc774\\uc6a9\\uac1d\\uc218=%{y}\\u003cextra\\u003e\\u003c\\u002fextra\\u003e\",\"legendgroup\":\"\\uc5ed\\uc0bc\",\"marker\":{\"color\":\"#00cc96\",\"pattern\":{\"shape\":\"\"}},\"name\":\"\\uc5ed\\uc0bc\",\"offsetgroup\":\"\\uc5ed\\uc0bc\",\"orientation\":\"v\",\"showlegend\":true,\"textposition\":\"auto\",\"x\":[\"\\uc5ed\\uc0bc\"],\"xaxis\":\"x\",\"y\":[1518814.0],\"yaxis\":\"y\",\"type\":\"bar\"},{\"alignmentgroup\":\"True\",\"hovertemplate\":\"\\uc5ed\\uba85=%{x}\\u003cbr\\u003e\\uc774\\uc6a9\\uac1d\\uc218=%{y}\\u003cextra\\u003e\\u003c\\u002fextra\\u003e\",\"legendgroup\":\"\\uc2e0\\ucd0c\",\"marker\":{\"color\":\"#ab63fa\",\"pattern\":{\"shape\":\"\"}},\"name\":\"\\uc2e0\\ucd0c\",\"offsetgroup\":\"\\uc2e0\\ucd0c\",\"orientation\":\"v\",\"showlegend\":true,\"textposition\":\"auto\",\"x\":[\"\\uc2e0\\ucd0c\"],\"xaxis\":\"x\",\"y\":[1468310.0],\"yaxis\":\"y\",\"type\":\"bar\"},{\"alignmentgroup\":\"True\",\"hovertemplate\":\"\\uc5ed\\uba85=%{x}\\u003cbr\\u003e\\uc774\\uc6a9\\uac1d\\uc218=%{y}\\u003cextra\\u003e\\u003c\\u002fextra\\u003e\",\"legendgroup\":\"\\uc591\\uc7ac\",\"marker\":{\"color\":\"#FFA15A\",\"pattern\":{\"shape\":\"\"}},\"name\":\"\\uc591\\uc7ac\",\"offsetgroup\":\"\\uc591\\uc7ac\",\"orientation\":\"v\",\"showlegend\":true,\"textposition\":\"auto\",\"x\":[\"\\uc591\\uc7ac\"],\"xaxis\":\"x\",\"y\":[1462511.0],\"yaxis\":\"y\",\"type\":\"bar\"},{\"alignmentgroup\":\"True\",\"hovertemplate\":\"\\uc5ed\\uba85=%{x}\\u003cbr\\u003e\\uc774\\uc6a9\\uac1d\\uc218=%{y}\\u003cextra\\u003e\\u003c\\u002fextra\\u003e\",\"legendgroup\":\"\\uac74\\ub300\\uc785\\uad6c\",\"marker\":{\"color\":\"#19d3f3\",\"pattern\":{\"shape\":\"\"}},\"name\":\"\\uac74\\ub300\\uc785\\uad6c\",\"offsetgroup\":\"\\uac74\\ub300\\uc785\\uad6c\",\"orientation\":\"v\",\"showlegend\":true,\"textposition\":\"auto\",\"x\":[\"\\uac74\\ub300\\uc785\\uad6c\"],\"xaxis\":\"x\",\"y\":[1397932.0],\"yaxis\":\"y\",\"type\":\"bar\"},{\"alignmentgroup\":\"True\",\"hovertemplate\":\"\\uc5ed\\uba85=%{x}\\u003cbr\\u003e\\uc774\\uc6a9\\uac1d\\uc218=%{y}\\u003cextra\\u003e\\u003c\\u002fextra\\u003e\",\"legendgroup\":\"\\uc885\\uac01\",\"marker\":{\"color\":\"#FF6692\",\"pattern\":{\"shape\":\"\"}},\"name\":\"\\uc885\\uac01\",\"offsetgroup\":\"\\uc885\\uac01\",\"orientation\":\"v\",\"showlegend\":true,\"textposition\":\"auto\",\"x\":[\"\\uc885\\uac01\"],\"xaxis\":\"x\",\"y\":[1380660.0],\"yaxis\":\"y\",\"type\":\"bar\"},{\"alignmentgroup\":\"True\",\"hovertemplate\":\"\\uc5ed\\uba85=%{x}\\u003cbr\\u003e\\uc774\\uc6a9\\uac1d\\uc218=%{y}\\u003cextra\\u003e\\u003c\\u002fextra\\u003e\",\"legendgroup\":\"\\uc0ac\\ub2f9\",\"marker\":{\"color\":\"#B6E880\",\"pattern\":{\"shape\":\"\"}},\"name\":\"\\uc0ac\\ub2f9\",\"offsetgroup\":\"\\uc0ac\\ub2f9\",\"orientation\":\"v\",\"showlegend\":true,\"textposition\":\"auto\",\"x\":[\"\\uc0ac\\ub2f9\"],\"xaxis\":\"x\",\"y\":[1379645.0],\"yaxis\":\"y\",\"type\":\"bar\"},{\"alignmentgroup\":\"True\",\"hovertemplate\":\"\\uc5ed\\uba85=%{x}\\u003cbr\\u003e\\uc774\\uc6a9\\uac1d\\uc218=%{y}\\u003cextra\\u003e\\u003c\\u002fextra\\u003e\",\"legendgroup\":\"\\uc5f0\\uc2e0\\ub0b4\",\"marker\":{\"color\":\"#FF97FF\",\"pattern\":{\"shape\":\"\"}},\"name\":\"\\uc5f0\\uc2e0\\ub0b4\",\"offsetgroup\":\"\\uc5f0\\uc2e0\\ub0b4\",\"orientation\":\"v\",\"showlegend\":true,\"textposition\":\"auto\",\"x\":[\"\\uc5f0\\uc2e0\\ub0b4\"],\"xaxis\":\"x\",\"y\":[1357150.0],\"yaxis\":\"y\",\"type\":\"bar\"},{\"alignmentgroup\":\"True\",\"hovertemplate\":\"\\uc5ed\\uba85=%{x}\\u003cbr\\u003e\\uc774\\uc6a9\\uac1d\\uc218=%{y}\\u003cextra\\u003e\\u003c\\u002fextra\\u003e\",\"legendgroup\":\"\\uad50\\ub300\",\"marker\":{\"color\":\"#FECB52\",\"pattern\":{\"shape\":\"\"}},\"name\":\"\\uad50\\ub300\",\"offsetgroup\":\"\\uad50\\ub300\",\"orientation\":\"v\",\"showlegend\":true,\"textposition\":\"auto\",\"x\":[\"\\uad50\\ub300\"],\"xaxis\":\"x\",\"y\":[1353325.0],\"yaxis\":\"y\",\"type\":\"bar\"},{\"alignmentgroup\":\"True\",\"hovertemplate\":\"\\uc5ed\\uba85=%{x}\\u003cbr\\u003e\\uc774\\uc6a9\\uac1d\\uc218=%{y}\\u003cextra\\u003e\\u003c\\u002fextra\\u003e\",\"legendgroup\":\"\\uac00\\uc0b0\\ub514\\uc9c0\\ud138\\ub2e8\\uc9c0\",\"marker\":{\"color\":\"#636efa\",\"pattern\":{\"shape\":\"\"}},\"name\":\"\\uac00\\uc0b0\\ub514\\uc9c0\\ud138\\ub2e8\\uc9c0\",\"offsetgroup\":\"\\uac00\\uc0b0\\ub514\\uc9c0\\ud138\\ub2e8\\uc9c0\",\"orientation\":\"v\",\"showlegend\":true,\"textposition\":\"auto\",\"x\":[\"\\uac00\\uc0b0\\ub514\\uc9c0\\ud138\\ub2e8\\uc9c0\"],\"xaxis\":\"x\",\"y\":[1351962.0],\"yaxis\":\"y\",\"type\":\"bar\"},{\"alignmentgroup\":\"True\",\"hovertemplate\":\"\\uc5ed\\uba85=%{x}\\u003cbr\\u003e\\uc774\\uc6a9\\uac1d\\uc218=%{y}\\u003cextra\\u003e\\u003c\\u002fextra\\u003e\",\"legendgroup\":\"\\ud61c\\ud654\",\"marker\":{\"color\":\"#EF553B\",\"pattern\":{\"shape\":\"\"}},\"name\":\"\\ud61c\\ud654\",\"offsetgroup\":\"\\ud61c\\ud654\",\"orientation\":\"v\",\"showlegend\":true,\"textposition\":\"auto\",\"x\":[\"\\ud61c\\ud654\"],\"xaxis\":\"x\",\"y\":[1325895.0],\"yaxis\":\"y\",\"type\":\"bar\"},{\"alignmentgroup\":\"True\",\"hovertemplate\":\"\\uc5ed\\uba85=%{x}\\u003cbr\\u003e\\uc774\\uc6a9\\uac1d\\uc218=%{y}\\u003cextra\\u003e\\u003c\\u002fextra\\u003e\",\"legendgroup\":\"\\ub0a8\\ubd80\\ud130\\ubbf8\\ub110\",\"marker\":{\"color\":\"#00cc96\",\"pattern\":{\"shape\":\"\"}},\"name\":\"\\ub0a8\\ubd80\\ud130\\ubbf8\\ub110\",\"offsetgroup\":\"\\ub0a8\\ubd80\\ud130\\ubbf8\\ub110\",\"orientation\":\"v\",\"showlegend\":true,\"textposition\":\"auto\",\"x\":[\"\\ub0a8\\ubd80\\ud130\\ubbf8\\ub110\"],\"xaxis\":\"x\",\"y\":[1306368.0],\"yaxis\":\"y\",\"type\":\"bar\"},{\"alignmentgroup\":\"True\",\"hovertemplate\":\"\\uc5ed\\uba85=%{x}\\u003cbr\\u003e\\uc774\\uc6a9\\uac1d\\uc218=%{y}\\u003cextra\\u003e\\u003c\\u002fextra\\u003e\",\"legendgroup\":\"\\uad11\\ud654\\ubb38\",\"marker\":{\"color\":\"#ab63fa\",\"pattern\":{\"shape\":\"\"}},\"name\":\"\\uad11\\ud654\\ubb38\",\"offsetgroup\":\"\\uad11\\ud654\\ubb38\",\"orientation\":\"v\",\"showlegend\":true,\"textposition\":\"auto\",\"x\":[\"\\uad11\\ud654\\ubb38\"],\"xaxis\":\"x\",\"y\":[1281573.0],\"yaxis\":\"y\",\"type\":\"bar\"},{\"alignmentgroup\":\"True\",\"hovertemplate\":\"\\uc5ed\\uba85=%{x}\\u003cbr\\u003e\\uc774\\uc6a9\\uac1d\\uc218=%{y}\\u003cextra\\u003e\\u003c\\u002fextra\\u003e\",\"legendgroup\":\"\\ub300\\ub9bc\",\"marker\":{\"color\":\"#FFA15A\",\"pattern\":{\"shape\":\"\"}},\"name\":\"\\ub300\\ub9bc\",\"offsetgroup\":\"\\ub300\\ub9bc\",\"orientation\":\"v\",\"showlegend\":true,\"textposition\":\"auto\",\"x\":[\"\\ub300\\ub9bc\"],\"xaxis\":\"x\",\"y\":[1172376.0],\"yaxis\":\"y\",\"type\":\"bar\"},{\"alignmentgroup\":\"True\",\"hovertemplate\":\"\\uc5ed\\uba85=%{x}\\u003cbr\\u003e\\uc774\\uc6a9\\uac1d\\uc218=%{y}\\u003cextra\\u003e\\u003c\\u002fextra\\u003e\",\"legendgroup\":\"\\uc555\\uad6c\\uc815\",\"marker\":{\"color\":\"#19d3f3\",\"pattern\":{\"shape\":\"\"}},\"name\":\"\\uc555\\uad6c\\uc815\",\"offsetgroup\":\"\\uc555\\uad6c\\uc815\",\"orientation\":\"v\",\"showlegend\":true,\"textposition\":\"auto\",\"x\":[\"\\uc555\\uad6c\\uc815\"],\"xaxis\":\"x\",\"y\":[1156080.0],\"yaxis\":\"y\",\"type\":\"bar\"},{\"alignmentgroup\":\"True\",\"hovertemplate\":\"\\uc5ed\\uba85=%{x}\\u003cbr\\u003e\\uc774\\uc6a9\\uac1d\\uc218=%{y}\\u003cextra\\u003e\\u003c\\u002fextra\\u003e\",\"legendgroup\":\"\\uba85\\ub3d9\",\"marker\":{\"color\":\"#FF6692\",\"pattern\":{\"shape\":\"\"}},\"name\":\"\\uba85\\ub3d9\",\"offsetgroup\":\"\\uba85\\ub3d9\",\"orientation\":\"v\",\"showlegend\":true,\"textposition\":\"auto\",\"x\":[\"\\uba85\\ub3d9\"],\"xaxis\":\"x\",\"y\":[1146484.0],\"yaxis\":\"y\",\"type\":\"bar\"},{\"alignmentgroup\":\"True\",\"hovertemplate\":\"\\uc5ed\\uba85=%{x}\\u003cbr\\u003e\\uc774\\uc6a9\\uac1d\\uc218=%{y}\\u003cextra\\u003e\\u003c\\u002fextra\\u003e\",\"legendgroup\":\"\\ud569\\uc815\",\"marker\":{\"color\":\"#B6E880\",\"pattern\":{\"shape\":\"\"}},\"name\":\"\\ud569\\uc815\",\"offsetgroup\":\"\\ud569\\uc815\",\"orientation\":\"v\",\"showlegend\":true,\"textposition\":\"auto\",\"x\":[\"\\ud569\\uc815\"],\"xaxis\":\"x\",\"y\":[1144174.0],\"yaxis\":\"y\",\"type\":\"bar\"},{\"alignmentgroup\":\"True\",\"hovertemplate\":\"\\uc5ed\\uba85=%{x}\\u003cbr\\u003e\\uc774\\uc6a9\\uac1d\\uc218=%{y}\\u003cextra\\u003e\\u003c\\u002fextra\\u003e\",\"legendgroup\":\"\\ub099\\uc131\\ub300\",\"marker\":{\"color\":\"#FF97FF\",\"pattern\":{\"shape\":\"\"}},\"name\":\"\\ub099\\uc131\\ub300\",\"offsetgroup\":\"\\ub099\\uc131\\ub300\",\"orientation\":\"v\",\"showlegend\":true,\"textposition\":\"auto\",\"x\":[\"\\ub099\\uc131\\ub300\"],\"xaxis\":\"x\",\"y\":[1127387.0],\"yaxis\":\"y\",\"type\":\"bar\"},{\"alignmentgroup\":\"True\",\"hovertemplate\":\"\\uc5ed\\uba85=%{x}\\u003cbr\\u003e\\uc774\\uc6a9\\uac1d\\uc218=%{y}\\u003cextra\\u003e\\u003c\\u002fextra\\u003e\",\"legendgroup\":\"\\uc30d\\ubb38\",\"marker\":{\"color\":\"#FECB52\",\"pattern\":{\"shape\":\"\"}},\"name\":\"\\uc30d\\ubb38\",\"offsetgroup\":\"\\uc30d\\ubb38\",\"orientation\":\"v\",\"showlegend\":true,\"textposition\":\"auto\",\"x\":[\"\\uc30d\\ubb38\"],\"xaxis\":\"x\",\"y\":[1117762.0],\"yaxis\":\"y\",\"type\":\"bar\"}],                        {\"template\":{\"data\":{\"histogram2dcontour\":[{\"type\":\"histogram2dcontour\",\"colorbar\":{\"outlinewidth\":0,\"ticks\":\"\"},\"colorscale\":[[0.0,\"#0d0887\"],[0.1111111111111111,\"#46039f\"],[0.2222222222222222,\"#7201a8\"],[0.3333333333333333,\"#9c179e\"],[0.4444444444444444,\"#bd3786\"],[0.5555555555555556,\"#d8576b\"],[0.6666666666666666,\"#ed7953\"],[0.7777777777777778,\"#fb9f3a\"],[0.8888888888888888,\"#fdca26\"],[1.0,\"#f0f921\"]]}],\"choropleth\":[{\"type\":\"choropleth\",\"colorbar\":{\"outlinewidth\":0,\"ticks\":\"\"}}],\"histogram2d\":[{\"type\":\"histogram2d\",\"colorbar\":{\"outlinewidth\":0,\"ticks\":\"\"},\"colorscale\":[[0.0,\"#0d0887\"],[0.1111111111111111,\"#46039f\"],[0.2222222222222222,\"#7201a8\"],[0.3333333333333333,\"#9c179e\"],[0.4444444444444444,\"#bd3786\"],[0.5555555555555556,\"#d8576b\"],[0.6666666666666666,\"#ed7953\"],[0.7777777777777778,\"#fb9f3a\"],[0.8888888888888888,\"#fdca26\"],[1.0,\"#f0f921\"]]}],\"heatmap\":[{\"type\":\"heatmap\",\"colorbar\":{\"outlinewidth\":0,\"ticks\":\"\"},\"colorscale\":[[0.0,\"#0d0887\"],[0.1111111111111111,\"#46039f\"],[0.2222222222222222,\"#7201a8\"],[0.3333333333333333,\"#9c179e\"],[0.4444444444444444,\"#bd3786\"],[0.5555555555555556,\"#d8576b\"],[0.6666666666666666,\"#ed7953\"],[0.7777777777777778,\"#fb9f3a\"],[0.8888888888888888,\"#fdca26\"],[1.0,\"#f0f921\"]]}],\"heatmapgl\":[{\"type\":\"heatmapgl\",\"colorbar\":{\"outlinewidth\":0,\"ticks\":\"\"},\"colorscale\":[[0.0,\"#0d0887\"],[0.1111111111111111,\"#46039f\"],[0.2222222222222222,\"#7201a8\"],[0.3333333333333333,\"#9c179e\"],[0.4444444444444444,\"#bd3786\"],[0.5555555555555556,\"#d8576b\"],[0.6666666666666666,\"#ed7953\"],[0.7777777777777778,\"#fb9f3a\"],[0.8888888888888888,\"#fdca26\"],[1.0,\"#f0f921\"]]}],\"contourcarpet\":[{\"type\":\"contourcarpet\",\"colorbar\":{\"outlinewidth\":0,\"ticks\":\"\"}}],\"contour\":[{\"type\":\"contour\",\"colorbar\":{\"outlinewidth\":0,\"ticks\":\"\"},\"colorscale\":[[0.0,\"#0d0887\"],[0.1111111111111111,\"#46039f\"],[0.2222222222222222,\"#7201a8\"],[0.3333333333333333,\"#9c179e\"],[0.4444444444444444,\"#bd3786\"],[0.5555555555555556,\"#d8576b\"],[0.6666666666666666,\"#ed7953\"],[0.7777777777777778,\"#fb9f3a\"],[0.8888888888888888,\"#fdca26\"],[1.0,\"#f0f921\"]]}],\"surface\":[{\"type\":\"surface\",\"colorbar\":{\"outlinewidth\":0,\"ticks\":\"\"},\"colorscale\":[[0.0,\"#0d0887\"],[0.1111111111111111,\"#46039f\"],[0.2222222222222222,\"#7201a8\"],[0.3333333333333333,\"#9c179e\"],[0.4444444444444444,\"#bd3786\"],[0.5555555555555556,\"#d8576b\"],[0.6666666666666666,\"#ed7953\"],[0.7777777777777778,\"#fb9f3a\"],[0.8888888888888888,\"#fdca26\"],[1.0,\"#f0f921\"]]}],\"mesh3d\":[{\"type\":\"mesh3d\",\"colorbar\":{\"outlinewidth\":0,\"ticks\":\"\"}}],\"scatter\":[{\"fillpattern\":{\"fillmode\":\"overlay\",\"size\":10,\"solidity\":0.2},\"type\":\"scatter\"}],\"parcoords\":[{\"type\":\"parcoords\",\"line\":{\"colorbar\":{\"outlinewidth\":0,\"ticks\":\"\"}}}],\"scatterpolargl\":[{\"type\":\"scatterpolargl\",\"marker\":{\"colorbar\":{\"outlinewidth\":0,\"ticks\":\"\"}}}],\"bar\":[{\"error_x\":{\"color\":\"#2a3f5f\"},\"error_y\":{\"color\":\"#2a3f5f\"},\"marker\":{\"line\":{\"color\":\"#E5ECF6\",\"width\":0.5},\"pattern\":{\"fillmode\":\"overlay\",\"size\":10,\"solidity\":0.2}},\"type\":\"bar\"}],\"scattergeo\":[{\"type\":\"scattergeo\",\"marker\":{\"colorbar\":{\"outlinewidth\":0,\"ticks\":\"\"}}}],\"scatterpolar\":[{\"type\":\"scatterpolar\",\"marker\":{\"colorbar\":{\"outlinewidth\":0,\"ticks\":\"\"}}}],\"histogram\":[{\"marker\":{\"pattern\":{\"fillmode\":\"overlay\",\"size\":10,\"solidity\":0.2}},\"type\":\"histogram\"}],\"scattergl\":[{\"type\":\"scattergl\",\"marker\":{\"colorbar\":{\"outlinewidth\":0,\"ticks\":\"\"}}}],\"scatter3d\":[{\"type\":\"scatter3d\",\"line\":{\"colorbar\":{\"outlinewidth\":0,\"ticks\":\"\"}},\"marker\":{\"colorbar\":{\"outlinewidth\":0,\"ticks\":\"\"}}}],\"scattermapbox\":[{\"type\":\"scattermapbox\",\"marker\":{\"colorbar\":{\"outlinewidth\":0,\"ticks\":\"\"}}}],\"scatterternary\":[{\"type\":\"scatterternary\",\"marker\":{\"colorbar\":{\"outlinewidth\":0,\"ticks\":\"\"}}}],\"scattercarpet\":[{\"type\":\"scattercarpet\",\"marker\":{\"colorbar\":{\"outlinewidth\":0,\"ticks\":\"\"}}}],\"carpet\":[{\"aaxis\":{\"endlinecolor\":\"#2a3f5f\",\"gridcolor\":\"white\",\"linecolor\":\"white\",\"minorgridcolor\":\"white\",\"startlinecolor\":\"#2a3f5f\"},\"baxis\":{\"endlinecolor\":\"#2a3f5f\",\"gridcolor\":\"white\",\"linecolor\":\"white\",\"minorgridcolor\":\"white\",\"startlinecolor\":\"#2a3f5f\"},\"type\":\"carpet\"}],\"table\":[{\"cells\":{\"fill\":{\"color\":\"#EBF0F8\"},\"line\":{\"color\":\"white\"}},\"header\":{\"fill\":{\"color\":\"#C8D4E3\"},\"line\":{\"color\":\"white\"}},\"type\":\"table\"}],\"barpolar\":[{\"marker\":{\"line\":{\"color\":\"#E5ECF6\",\"width\":0.5},\"pattern\":{\"fillmode\":\"overlay\",\"size\":10,\"solidity\":0.2}},\"type\":\"barpolar\"}],\"pie\":[{\"automargin\":true,\"type\":\"pie\"}]},\"layout\":{\"autotypenumbers\":\"strict\",\"colorway\":[\"#636efa\",\"#EF553B\",\"#00cc96\",\"#ab63fa\",\"#FFA15A\",\"#19d3f3\",\"#FF6692\",\"#B6E880\",\"#FF97FF\",\"#FECB52\"],\"font\":{\"color\":\"#2a3f5f\"},\"hovermode\":\"closest\",\"hoverlabel\":{\"align\":\"left\"},\"paper_bgcolor\":\"white\",\"plot_bgcolor\":\"#E5ECF6\",\"polar\":{\"bgcolor\":\"#E5ECF6\",\"angularaxis\":{\"gridcolor\":\"white\",\"linecolor\":\"white\",\"ticks\":\"\"},\"radialaxis\":{\"gridcolor\":\"white\",\"linecolor\":\"white\",\"ticks\":\"\"}},\"ternary\":{\"bgcolor\":\"#E5ECF6\",\"aaxis\":{\"gridcolor\":\"white\",\"linecolor\":\"white\",\"ticks\":\"\"},\"baxis\":{\"gridcolor\":\"white\",\"linecolor\":\"white\",\"ticks\":\"\"},\"caxis\":{\"gridcolor\":\"white\",\"linecolor\":\"white\",\"ticks\":\"\"}},\"coloraxis\":{\"colorbar\":{\"outlinewidth\":0,\"ticks\":\"\"}},\"colorscale\":{\"sequential\":[[0.0,\"#0d0887\"],[0.1111111111111111,\"#46039f\"],[0.2222222222222222,\"#7201a8\"],[0.3333333333333333,\"#9c179e\"],[0.4444444444444444,\"#bd3786\"],[0.5555555555555556,\"#d8576b\"],[0.6666666666666666,\"#ed7953\"],[0.7777777777777778,\"#fb9f3a\"],[0.8888888888888888,\"#fdca26\"],[1.0,\"#f0f921\"]],\"sequentialminus\":[[0.0,\"#0d0887\"],[0.1111111111111111,\"#46039f\"],[0.2222222222222222,\"#7201a8\"],[0.3333333333333333,\"#9c179e\"],[0.4444444444444444,\"#bd3786\"],[0.5555555555555556,\"#d8576b\"],[0.6666666666666666,\"#ed7953\"],[0.7777777777777778,\"#fb9f3a\"],[0.8888888888888888,\"#fdca26\"],[1.0,\"#f0f921\"]],\"diverging\":[[0,\"#8e0152\"],[0.1,\"#c51b7d\"],[0.2,\"#de77ae\"],[0.3,\"#f1b6da\"],[0.4,\"#fde0ef\"],[0.5,\"#f7f7f7\"],[0.6,\"#e6f5d0\"],[0.7,\"#b8e186\"],[0.8,\"#7fbc41\"],[0.9,\"#4d9221\"],[1,\"#276419\"]]},\"xaxis\":{\"gridcolor\":\"white\",\"linecolor\":\"white\",\"ticks\":\"\",\"title\":{\"standoff\":15},\"zerolinecolor\":\"white\",\"automargin\":true,\"zerolinewidth\":2},\"yaxis\":{\"gridcolor\":\"white\",\"linecolor\":\"white\",\"ticks\":\"\",\"title\":{\"standoff\":15},\"zerolinecolor\":\"white\",\"automargin\":true,\"zerolinewidth\":2},\"scene\":{\"xaxis\":{\"backgroundcolor\":\"#E5ECF6\",\"gridcolor\":\"white\",\"linecolor\":\"white\",\"showbackground\":true,\"ticks\":\"\",\"zerolinecolor\":\"white\",\"gridwidth\":2},\"yaxis\":{\"backgroundcolor\":\"#E5ECF6\",\"gridcolor\":\"white\",\"linecolor\":\"white\",\"showbackground\":true,\"ticks\":\"\",\"zerolinecolor\":\"white\",\"gridwidth\":2},\"zaxis\":{\"backgroundcolor\":\"#E5ECF6\",\"gridcolor\":\"white\",\"linecolor\":\"white\",\"showbackground\":true,\"ticks\":\"\",\"zerolinecolor\":\"white\",\"gridwidth\":2}},\"shapedefaults\":{\"line\":{\"color\":\"#2a3f5f\"}},\"annotationdefaults\":{\"arrowcolor\":\"#2a3f5f\",\"arrowhead\":0,\"arrowwidth\":1},\"geo\":{\"bgcolor\":\"white\",\"landcolor\":\"#E5ECF6\",\"subunitcolor\":\"white\",\"showland\":true,\"showlakes\":true,\"lakecolor\":\"white\"},\"title\":{\"x\":0.05},\"mapbox\":{\"style\":\"light\"}}},\"xaxis\":{\"anchor\":\"y\",\"domain\":[0.0,1.0],\"title\":{\"text\":\"\\uc5ed\\uba85\"},\"categoryorder\":\"array\",\"categoryarray\":[\"\\uac15\\ub0a8\",\"\\uc7a0\\uc2e4\",\"\\ud64d\\ub300\\uc785\\uad6c\",\"\\uc2e0\\ub9bc\",\"\\uc0bc\\uc131\",\"\\uad6c\\ub85c\\ub514\\uc9c0\\ud138\\ub2e8\\uc9c0\",\"\\uc2e0\\ub3c4\\ub9bc\",\"\\uc11c\\uc6b8\\ub300\\uc785\\uad6c\",\"\\uace0\\uc18d\\ud130\\ubbf8\\ub110\",\"\\uac15\\ubcc0\",\"\\uc120\\ub989\",\"\\uc744\\uc9c0\\ub85c\\uc785\\uad6c\",\"\\uc5ed\\uc0bc\",\"\\uc2e0\\ucd0c\",\"\\uc591\\uc7ac\",\"\\uac74\\ub300\\uc785\\uad6c\",\"\\uc885\\uac01\",\"\\uc0ac\\ub2f9\",\"\\uc5f0\\uc2e0\\ub0b4\",\"\\uad50\\ub300\",\"\\uac00\\uc0b0\\ub514\\uc9c0\\ud138\\ub2e8\\uc9c0\",\"\\ud61c\\ud654\",\"\\ub0a8\\ubd80\\ud130\\ubbf8\\ub110\",\"\\uad11\\ud654\\ubb38\",\"\\ub300\\ub9bc\",\"\\uc555\\uad6c\\uc815\",\"\\uba85\\ub3d9\",\"\\ud569\\uc815\",\"\\ub099\\uc131\\ub300\",\"\\uc30d\\ubb38\"]},\"yaxis\":{\"anchor\":\"x\",\"domain\":[0.0,1.0],\"title\":{\"text\":\"\\uc774\\uc6a9\\uac1d\\uc218\"}},\"legend\":{\"title\":{\"text\":\"\\uc5ed\\uba85\"},\"tracegroupgap\":0},\"margin\":{\"t\":60},\"barmode\":\"relative\",\"width\":900},                        {\"responsive\": true}                    ).then(function(){\n",
              "                            \n",
              "var gd = document.getElementById('b19e77c4-6302-4e7a-a290-693910316cbe');\n",
              "var x = new MutationObserver(function (mutations, observer) {{\n",
              "        var display = window.getComputedStyle(gd).display;\n",
              "        if (!display || display === 'none') {{\n",
              "            console.log([gd, 'removed!']);\n",
              "            Plotly.purge(gd);\n",
              "            observer.disconnect();\n",
              "        }}\n",
              "}});\n",
              "\n",
              "// Listen for the removal of the full notebook cells\n",
              "var notebookContainer = gd.closest('#notebook-container');\n",
              "if (notebookContainer) {{\n",
              "    x.observe(notebookContainer, {childList: true});\n",
              "}}\n",
              "\n",
              "// Listen for the clearing of the current output cell\n",
              "var outputEl = gd.closest('.output');\n",
              "if (outputEl) {{\n",
              "    x.observe(outputEl, {childList: true});\n",
              "}}\n",
              "\n",
              "                        })                };                            </script>        </div>\n",
              "</body>\n",
              "</html>"
            ]
          },
          "metadata": {}
        }
      ]
    },
    {
      "cell_type": "code",
      "source": [
        "import pandas as pd\n",
        "import plotly.express as px\n",
        "import matplotlib.pyplot as plt\n",
        "\n",
        "# 역별 승차 이용객수 (하위30)\n",
        "fig=px.bar(dfm_bottom_r, x='역명', y='이용객수',\n",
        "color='역명',\n",
        "color_continuous_scale=px.colors.diverging.Spectral)\n",
        "fig.update_layout(width=900)"
      ],
      "metadata": {
        "id": "Cj3qIFRs2VWT",
        "colab": {
          "base_uri": "https://localhost:8080/",
          "height": 542
        },
        "outputId": "437abda8-5785-4af1-c103-dd5756753ec3"
      },
      "execution_count": 59,
      "outputs": [
        {
          "output_type": "display_data",
          "data": {
            "text/html": [
              "<html>\n",
              "<head><meta charset=\"utf-8\" /></head>\n",
              "<body>\n",
              "    <div>            <script src=\"https://cdnjs.cloudflare.com/ajax/libs/mathjax/2.7.5/MathJax.js?config=TeX-AMS-MML_SVG\"></script><script type=\"text/javascript\">if (window.MathJax && window.MathJax.Hub && window.MathJax.Hub.Config) {window.MathJax.Hub.Config({SVG: {font: \"STIX-Web\"}});}</script>                <script type=\"text/javascript\">window.PlotlyConfig = {MathJaxConfig: 'local'};</script>\n",
              "        <script charset=\"utf-8\" src=\"https://cdn.plot.ly/plotly-2.24.1.min.js\"></script>                <div id=\"ec84b817-e89f-460f-86b0-52c81ffb43eb\" class=\"plotly-graph-div\" style=\"height:525px; width:900px;\"></div>            <script type=\"text/javascript\">                                    window.PLOTLYENV=window.PLOTLYENV || {};                                    if (document.getElementById(\"ec84b817-e89f-460f-86b0-52c81ffb43eb\")) {                    Plotly.newPlot(                        \"ec84b817-e89f-460f-86b0-52c81ffb43eb\",                        [{\"alignmentgroup\":\"True\",\"hovertemplate\":\"\\uc5ed\\uba85=%{x}\\u003cbr\\u003e\\uc774\\uc6a9\\uac1d\\uc218=%{y}\\u003cextra\\u003e\\u003c\\u002fextra\\u003e\",\"legendgroup\":\"\\ubb34\\uc545\\uc7ac\",\"marker\":{\"color\":\"#636efa\",\"pattern\":{\"shape\":\"\"}},\"name\":\"\\ubb34\\uc545\\uc7ac\",\"offsetgroup\":\"\\ubb34\\uc545\\uc7ac\",\"orientation\":\"v\",\"showlegend\":true,\"textposition\":\"auto\",\"x\":[\"\\ubb34\\uc545\\uc7ac\"],\"xaxis\":\"x\",\"y\":[319471.0],\"yaxis\":\"y\",\"type\":\"bar\"},{\"alignmentgroup\":\"True\",\"hovertemplate\":\"\\uc5ed\\uba85=%{x}\\u003cbr\\u003e\\uc774\\uc6a9\\uac1d\\uc218=%{y}\\u003cextra\\u003e\\u003c\\u002fextra\\u003e\",\"legendgroup\":\"\\uccad\\uad6c\",\"marker\":{\"color\":\"#EF553B\",\"pattern\":{\"shape\":\"\"}},\"name\":\"\\uccad\\uad6c\",\"offsetgroup\":\"\\uccad\\uad6c\",\"orientation\":\"v\",\"showlegend\":true,\"textposition\":\"auto\",\"x\":[\"\\uccad\\uad6c\",\"\\uccad\\uad6c\"],\"xaxis\":\"x\",\"y\":[317981.0,309507.0],\"yaxis\":\"y\",\"type\":\"bar\"},{\"alignmentgroup\":\"True\",\"hovertemplate\":\"\\uc5ed\\uba85=%{x}\\u003cbr\\u003e\\uc774\\uc6a9\\uac1d\\uc218=%{y}\\u003cextra\\u003e\\u003c\\u002fextra\\u003e\",\"legendgroup\":\"\\uc2e0\\ubaa9\\ub3d9\",\"marker\":{\"color\":\"#00cc96\",\"pattern\":{\"shape\":\"\"}},\"name\":\"\\uc2e0\\ubaa9\\ub3d9\",\"offsetgroup\":\"\\uc2e0\\ubaa9\\ub3d9\",\"orientation\":\"v\",\"showlegend\":true,\"textposition\":\"auto\",\"x\":[\"\\uc2e0\\ubaa9\\ub3d9\"],\"xaxis\":\"x\",\"y\":[317067.0],\"yaxis\":\"y\",\"type\":\"bar\"},{\"alignmentgroup\":\"True\",\"hovertemplate\":\"\\uc5ed\\uba85=%{x}\\u003cbr\\u003e\\uc774\\uc6a9\\uac1d\\uc218=%{y}\\u003cextra\\u003e\\u003c\\u002fextra\\u003e\",\"legendgroup\":\"\\uc2e0\\uc124\\ub3d9\",\"marker\":{\"color\":\"#ab63fa\",\"pattern\":{\"shape\":\"\"}},\"name\":\"\\uc2e0\\uc124\\ub3d9\",\"offsetgroup\":\"\\uc2e0\\uc124\\ub3d9\",\"orientation\":\"v\",\"showlegend\":true,\"textposition\":\"auto\",\"x\":[\"\\uc2e0\\uc124\\ub3d9\"],\"xaxis\":\"x\",\"y\":[315461.0],\"yaxis\":\"y\",\"type\":\"bar\"},{\"alignmentgroup\":\"True\",\"hovertemplate\":\"\\uc5ed\\uba85=%{x}\\u003cbr\\u003e\\uc774\\uc6a9\\uac1d\\uc218=%{y}\\u003cextra\\u003e\\u003c\\u002fextra\\u003e\",\"legendgroup\":\"\\uc5ed\\ucd0c\",\"marker\":{\"color\":\"#FFA15A\",\"pattern\":{\"shape\":\"\"}},\"name\":\"\\uc5ed\\ucd0c\",\"offsetgroup\":\"\\uc5ed\\ucd0c\",\"orientation\":\"v\",\"showlegend\":true,\"textposition\":\"auto\",\"x\":[\"\\uc5ed\\ucd0c\"],\"xaxis\":\"x\",\"y\":[312702.0],\"yaxis\":\"y\",\"type\":\"bar\"},{\"alignmentgroup\":\"True\",\"hovertemplate\":\"\\uc5ed\\uba85=%{x}\\u003cbr\\u003e\\uc774\\uc6a9\\uac1d\\uc218=%{y}\\u003cextra\\u003e\\u003c\\u002fextra\\u003e\",\"legendgroup\":\"\\uc624\\uae08\",\"marker\":{\"color\":\"#19d3f3\",\"pattern\":{\"shape\":\"\"}},\"name\":\"\\uc624\\uae08\",\"offsetgroup\":\"\\uc624\\uae08\",\"orientation\":\"v\",\"showlegend\":true,\"textposition\":\"auto\",\"x\":[\"\\uc624\\uae08\"],\"xaxis\":\"x\",\"y\":[307182.0],\"yaxis\":\"y\",\"type\":\"bar\"},{\"alignmentgroup\":\"True\",\"hovertemplate\":\"\\uc5ed\\uba85=%{x}\\u003cbr\\u003e\\uc774\\uc6a9\\uac1d\\uc218=%{y}\\u003cextra\\u003e\\u003c\\u002fextra\\u003e\",\"legendgroup\":\"\\uc57d\\uc218\",\"marker\":{\"color\":\"#FF6692\",\"pattern\":{\"shape\":\"\"}},\"name\":\"\\uc57d\\uc218\",\"offsetgroup\":\"\\uc57d\\uc218\",\"orientation\":\"v\",\"showlegend\":true,\"textposition\":\"auto\",\"x\":[\"\\uc57d\\uc218\"],\"xaxis\":\"x\",\"y\":[306892.0],\"yaxis\":\"y\",\"type\":\"bar\"},{\"alignmentgroup\":\"True\",\"hovertemplate\":\"\\uc5ed\\uba85=%{x}\\u003cbr\\u003e\\uc774\\uc6a9\\uac1d\\uc218=%{y}\\u003cextra\\u003e\\u003c\\u002fextra\\u003e\",\"legendgroup\":\"\\uc601\\ub4f1\\ud3ec\\uad6c\\uccad\",\"marker\":{\"color\":\"#B6E880\",\"pattern\":{\"shape\":\"\"}},\"name\":\"\\uc601\\ub4f1\\ud3ec\\uad6c\\uccad\",\"offsetgroup\":\"\\uc601\\ub4f1\\ud3ec\\uad6c\\uccad\",\"orientation\":\"v\",\"showlegend\":true,\"textposition\":\"auto\",\"x\":[\"\\uc601\\ub4f1\\ud3ec\\uad6c\\uccad\"],\"xaxis\":\"x\",\"y\":[304782.0],\"yaxis\":\"y\",\"type\":\"bar\"},{\"alignmentgroup\":\"True\",\"hovertemplate\":\"\\uc5ed\\uba85=%{x}\\u003cbr\\u003e\\uc774\\uc6a9\\uac1d\\uc218=%{y}\\u003cextra\\u003e\\u003c\\u002fextra\\u003e\",\"legendgroup\":\"\\uc2e0\\uae38\",\"marker\":{\"color\":\"#FF97FF\",\"pattern\":{\"shape\":\"\"}},\"name\":\"\\uc2e0\\uae38\",\"offsetgroup\":\"\\uc2e0\\uae38\",\"orientation\":\"v\",\"showlegend\":true,\"textposition\":\"auto\",\"x\":[\"\\uc2e0\\uae38\"],\"xaxis\":\"x\",\"y\":[302989.0],\"yaxis\":\"y\",\"type\":\"bar\"},{\"alignmentgroup\":\"True\",\"hovertemplate\":\"\\uc5ed\\uba85=%{x}\\u003cbr\\u003e\\uc774\\uc6a9\\uac1d\\uc218=%{y}\\u003cextra\\u003e\\u003c\\u002fextra\\u003e\",\"legendgroup\":\"\\ucc3d\\uc2e0\",\"marker\":{\"color\":\"#FECB52\",\"pattern\":{\"shape\":\"\"}},\"name\":\"\\ucc3d\\uc2e0\",\"offsetgroup\":\"\\ucc3d\\uc2e0\",\"orientation\":\"v\",\"showlegend\":true,\"textposition\":\"auto\",\"x\":[\"\\ucc3d\\uc2e0\"],\"xaxis\":\"x\",\"y\":[302624.0],\"yaxis\":\"y\",\"type\":\"bar\"},{\"alignmentgroup\":\"True\",\"hovertemplate\":\"\\uc5ed\\uba85=%{x}\\u003cbr\\u003e\\uc774\\uc6a9\\uac1d\\uc218=%{y}\\u003cextra\\u003e\\u003c\\u002fextra\\u003e\",\"legendgroup\":\"\\uc2e0\\ubc18\\ud3ec\",\"marker\":{\"color\":\"#636efa\",\"pattern\":{\"shape\":\"\"}},\"name\":\"\\uc2e0\\ubc18\\ud3ec\",\"offsetgroup\":\"\\uc2e0\\ubc18\\ud3ec\",\"orientation\":\"v\",\"showlegend\":true,\"textposition\":\"auto\",\"x\":[\"\\uc2e0\\ubc18\\ud3ec\"],\"xaxis\":\"x\",\"y\":[298913.0],\"yaxis\":\"y\",\"type\":\"bar\"},{\"alignmentgroup\":\"True\",\"hovertemplate\":\"\\uc5ed\\uba85=%{x}\\u003cbr\\u003e\\uc774\\uc6a9\\uac1d\\uc218=%{y}\\u003cextra\\u003e\\u003c\\u002fextra\\u003e\",\"legendgroup\":\"\\uc0ac\\ud3c9\",\"marker\":{\"color\":\"#EF553B\",\"pattern\":{\"shape\":\"\"}},\"name\":\"\\uc0ac\\ud3c9\",\"offsetgroup\":\"\\uc0ac\\ud3c9\",\"orientation\":\"v\",\"showlegend\":true,\"textposition\":\"auto\",\"x\":[\"\\uc0ac\\ud3c9\"],\"xaxis\":\"x\",\"y\":[289823.0],\"yaxis\":\"y\",\"type\":\"bar\"},{\"alignmentgroup\":\"True\",\"hovertemplate\":\"\\uc5ed\\uba85=%{x}\\u003cbr\\u003e\\uc774\\uc6a9\\uac1d\\uc218=%{y}\\u003cextra\\u003e\\u003c\\u002fextra\\u003e\",\"legendgroup\":\"\\ub3d9\\ub300\\ubb38\\uc5ed\\uc0ac\\ubb38\\ud654\\uacf5\\uc6d0\",\"marker\":{\"color\":\"#00cc96\",\"pattern\":{\"shape\":\"\"}},\"name\":\"\\ub3d9\\ub300\\ubb38\\uc5ed\\uc0ac\\ubb38\\ud654\\uacf5\\uc6d0\",\"offsetgroup\":\"\\ub3d9\\ub300\\ubb38\\uc5ed\\uc0ac\\ubb38\\ud654\\uacf5\\uc6d0\",\"orientation\":\"v\",\"showlegend\":true,\"textposition\":\"auto\",\"x\":[\"\\ub3d9\\ub300\\ubb38\\uc5ed\\uc0ac\\ubb38\\ud654\\uacf5\\uc6d0\"],\"xaxis\":\"x\",\"y\":[289504.0],\"yaxis\":\"y\",\"type\":\"bar\"},{\"alignmentgroup\":\"True\",\"hovertemplate\":\"\\uc5ed\\uba85=%{x}\\u003cbr\\u003e\\uc774\\uc6a9\\uac1d\\uc218=%{y}\\u003cextra\\u003e\\u003c\\u002fextra\\u003e\",\"legendgroup\":\"\\uacf5\\ud56d\\uc2dc\\uc7a5\",\"marker\":{\"color\":\"#ab63fa\",\"pattern\":{\"shape\":\"\"}},\"name\":\"\\uacf5\\ud56d\\uc2dc\\uc7a5\",\"offsetgroup\":\"\\uacf5\\ud56d\\uc2dc\\uc7a5\",\"orientation\":\"v\",\"showlegend\":true,\"textposition\":\"auto\",\"x\":[\"\\uacf5\\ud56d\\uc2dc\\uc7a5\"],\"xaxis\":\"x\",\"y\":[286574.0],\"yaxis\":\"y\",\"type\":\"bar\"},{\"alignmentgroup\":\"True\",\"hovertemplate\":\"\\uc5ed\\uba85=%{x}\\u003cbr\\u003e\\uc774\\uc6a9\\uac1d\\uc218=%{y}\\u003cextra\\u003e\\u003c\\u002fextra\\u003e\",\"legendgroup\":\"\\ub3c5\\ubc14\\uc704\",\"marker\":{\"color\":\"#FFA15A\",\"pattern\":{\"shape\":\"\"}},\"name\":\"\\ub3c5\\ubc14\\uc704\",\"offsetgroup\":\"\\ub3c5\\ubc14\\uc704\",\"orientation\":\"v\",\"showlegend\":true,\"textposition\":\"auto\",\"x\":[\"\\ub3c5\\ubc14\\uc704\"],\"xaxis\":\"x\",\"y\":[284077.0],\"yaxis\":\"y\",\"type\":\"bar\"},{\"alignmentgroup\":\"True\",\"hovertemplate\":\"\\uc5ed\\uba85=%{x}\\u003cbr\\u003e\\uc774\\uc6a9\\uac1d\\uc218=%{y}\\u003cextra\\u003e\\u003c\\u002fextra\\u003e\",\"legendgroup\":\"\\ub3d9\\uc791\",\"marker\":{\"color\":\"#19d3f3\",\"pattern\":{\"shape\":\"\"}},\"name\":\"\\ub3d9\\uc791\",\"offsetgroup\":\"\\ub3d9\\uc791\",\"orientation\":\"v\",\"showlegend\":true,\"textposition\":\"auto\",\"x\":[\"\\ub3d9\\uc791\",\"\\ub3d9\\uc791\"],\"xaxis\":\"x\",\"y\":[283168.0,266517.0],\"yaxis\":\"y\",\"type\":\"bar\"},{\"alignmentgroup\":\"True\",\"hovertemplate\":\"\\uc5ed\\uba85=%{x}\\u003cbr\\u003e\\uc774\\uc6a9\\uac1d\\uc218=%{y}\\u003cextra\\u003e\\u003c\\u002fextra\\u003e\",\"legendgroup\":\"\\uc6a9\\ub2f5\",\"marker\":{\"color\":\"#FF6692\",\"pattern\":{\"shape\":\"\"}},\"name\":\"\\uc6a9\\ub2f5\",\"offsetgroup\":\"\\uc6a9\\ub2f5\",\"orientation\":\"v\",\"showlegend\":true,\"textposition\":\"auto\",\"x\":[\"\\uc6a9\\ub2f5\"],\"xaxis\":\"x\",\"y\":[280188.0],\"yaxis\":\"y\",\"type\":\"bar\"},{\"alignmentgroup\":\"True\",\"hovertemplate\":\"\\uc5ed\\uba85=%{x}\\u003cbr\\u003e\\uc774\\uc6a9\\uac1d\\uc218=%{y}\\u003cextra\\u003e\\u003c\\u002fextra\\u003e\",\"legendgroup\":\"\\uad6c\\ubc18\\ud3ec\",\"marker\":{\"color\":\"#B6E880\",\"pattern\":{\"shape\":\"\"}},\"name\":\"\\uad6c\\ubc18\\ud3ec\",\"offsetgroup\":\"\\uad6c\\ubc18\\ud3ec\",\"orientation\":\"v\",\"showlegend\":true,\"textposition\":\"auto\",\"x\":[\"\\uad6c\\ubc18\\ud3ec\"],\"xaxis\":\"x\",\"y\":[278376.0],\"yaxis\":\"y\",\"type\":\"bar\"},{\"alignmentgroup\":\"True\",\"hovertemplate\":\"\\uc5ed\\uba85=%{x}\\u003cbr\\u003e\\uc774\\uc6a9\\uac1d\\uc218=%{y}\\u003cextra\\u003e\\u003c\\u002fextra\\u003e\",\"legendgroup\":\"\\ud559\\uc5ec\\uc6b8\",\"marker\":{\"color\":\"#FF97FF\",\"pattern\":{\"shape\":\"\"}},\"name\":\"\\ud559\\uc5ec\\uc6b8\",\"offsetgroup\":\"\\ud559\\uc5ec\\uc6b8\",\"orientation\":\"v\",\"showlegend\":true,\"textposition\":\"auto\",\"x\":[\"\\ud559\\uc5ec\\uc6b8\"],\"xaxis\":\"x\",\"y\":[278234.0],\"yaxis\":\"y\",\"type\":\"bar\"},{\"alignmentgroup\":\"True\",\"hovertemplate\":\"\\uc5ed\\uba85=%{x}\\u003cbr\\u003e\\uc774\\uc6a9\\uac1d\\uc218=%{y}\\u003cextra\\u003e\\u003c\\u002fextra\\u003e\",\"legendgroup\":\"\\uc9c0\\ucd95\",\"marker\":{\"color\":\"#FECB52\",\"pattern\":{\"shape\":\"\"}},\"name\":\"\\uc9c0\\ucd95\",\"offsetgroup\":\"\\uc9c0\\ucd95\",\"orientation\":\"v\",\"showlegend\":true,\"textposition\":\"auto\",\"x\":[\"\\uc9c0\\ucd95\"],\"xaxis\":\"x\",\"y\":[278014.0],\"yaxis\":\"y\",\"type\":\"bar\"},{\"alignmentgroup\":\"True\",\"hovertemplate\":\"\\uc5ed\\uba85=%{x}\\u003cbr\\u003e\\uc774\\uc6a9\\uac1d\\uc218=%{y}\\u003cextra\\u003e\\u003c\\u002fextra\\u003e\",\"legendgroup\":\"\\uc7a5\\uc554\",\"marker\":{\"color\":\"#636efa\",\"pattern\":{\"shape\":\"\"}},\"name\":\"\\uc7a5\\uc554\",\"offsetgroup\":\"\\uc7a5\\uc554\",\"orientation\":\"v\",\"showlegend\":true,\"textposition\":\"auto\",\"x\":[\"\\uc7a5\\uc554\"],\"xaxis\":\"x\",\"y\":[273299.0],\"yaxis\":\"y\",\"type\":\"bar\"},{\"alignmentgroup\":\"True\",\"hovertemplate\":\"\\uc5ed\\uba85=%{x}\\u003cbr\\u003e\\uc774\\uc6a9\\uac1d\\uc218=%{y}\\u003cextra\\u003e\\u003c\\u002fextra\\u003e\",\"legendgroup\":\"\\uc6a9\\ub450\",\"marker\":{\"color\":\"#EF553B\",\"pattern\":{\"shape\":\"\"}},\"name\":\"\\uc6a9\\ub450\",\"offsetgroup\":\"\\uc6a9\\ub450\",\"orientation\":\"v\",\"showlegend\":true,\"textposition\":\"auto\",\"x\":[\"\\uc6a9\\ub450\"],\"xaxis\":\"x\",\"y\":[269426.0],\"yaxis\":\"y\",\"type\":\"bar\"},{\"alignmentgroup\":\"True\",\"hovertemplate\":\"\\uc5ed\\uba85=%{x}\\u003cbr\\u003e\\uc774\\uc6a9\\uac1d\\uc218=%{y}\\u003cextra\\u003e\\u003c\\u002fextra\\u003e\",\"legendgroup\":\"\\ubc84\\ud2f0\\uace0\\uac1c\",\"marker\":{\"color\":\"#00cc96\",\"pattern\":{\"shape\":\"\"}},\"name\":\"\\ubc84\\ud2f0\\uace0\\uac1c\",\"offsetgroup\":\"\\ubc84\\ud2f0\\uace0\\uac1c\",\"orientation\":\"v\",\"showlegend\":true,\"textposition\":\"auto\",\"x\":[\"\\ubc84\\ud2f0\\uace0\\uac1c\"],\"xaxis\":\"x\",\"y\":[269281.0],\"yaxis\":\"y\",\"type\":\"bar\"},{\"alignmentgroup\":\"True\",\"hovertemplate\":\"\\uc5ed\\uba85=%{x}\\u003cbr\\u003e\\uc774\\uc6a9\\uac1d\\uc218=%{y}\\u003cextra\\u003e\\u003c\\u002fextra\\u003e\",\"legendgroup\":\"\\ub0a8\\ud0dc\\ub839\",\"marker\":{\"color\":\"#ab63fa\",\"pattern\":{\"shape\":\"\"}},\"name\":\"\\ub0a8\\ud0dc\\ub839\",\"offsetgroup\":\"\\ub0a8\\ud0dc\\ub839\",\"orientation\":\"v\",\"showlegend\":true,\"textposition\":\"auto\",\"x\":[\"\\ub0a8\\ud0dc\\ub839\"],\"xaxis\":\"x\",\"y\":[252954.0],\"yaxis\":\"y\",\"type\":\"bar\"},{\"alignmentgroup\":\"True\",\"hovertemplate\":\"\\uc5ed\\uba85=%{x}\\u003cbr\\u003e\\uc774\\uc6a9\\uac1d\\uc218=%{y}\\u003cextra\\u003e\\u003c\\u002fextra\\u003e\",\"legendgroup\":\"\\uc2e0\\ub2f5\",\"marker\":{\"color\":\"#FFA15A\",\"pattern\":{\"shape\":\"\"}},\"name\":\"\\uc2e0\\ub2f5\",\"offsetgroup\":\"\\uc2e0\\ub2f5\",\"orientation\":\"v\",\"showlegend\":true,\"textposition\":\"auto\",\"x\":[\"\\uc2e0\\ub2f5\"],\"xaxis\":\"x\",\"y\":[244851.0],\"yaxis\":\"y\",\"type\":\"bar\"},{\"alignmentgroup\":\"True\",\"hovertemplate\":\"\\uc5ed\\uba85=%{x}\\u003cbr\\u003e\\uc774\\uc6a9\\uac1d\\uc218=%{y}\\u003cextra\\u003e\\u003c\\u002fextra\\u003e\",\"legendgroup\":\"\\ub3c4\\ub9bc\\ucc9c\",\"marker\":{\"color\":\"#19d3f3\",\"pattern\":{\"shape\":\"\"}},\"name\":\"\\ub3c4\\ub9bc\\ucc9c\",\"offsetgroup\":\"\\ub3c4\\ub9bc\\ucc9c\",\"orientation\":\"v\",\"showlegend\":true,\"textposition\":\"auto\",\"x\":[\"\\ub3c4\\ub9bc\\ucc9c\"],\"xaxis\":\"x\",\"y\":[235249.0],\"yaxis\":\"y\",\"type\":\"bar\"},{\"alignmentgroup\":\"True\",\"hovertemplate\":\"\\uc5ed\\uba85=%{x}\\u003cbr\\u003e\\uc774\\uc6a9\\uac1d\\uc218=%{y}\\u003cextra\\u003e\\u003c\\u002fextra\\u003e\",\"legendgroup\":\"\\ucda9\\ubb34\\ub85c\",\"marker\":{\"color\":\"#FF6692\",\"pattern\":{\"shape\":\"\"}},\"name\":\"\\ucda9\\ubb34\\ub85c\",\"offsetgroup\":\"\\ucda9\\ubb34\\ub85c\",\"orientation\":\"v\",\"showlegend\":true,\"textposition\":\"auto\",\"x\":[\"\\ucda9\\ubb34\\ub85c\"],\"xaxis\":\"x\",\"y\":[201945.0],\"yaxis\":\"y\",\"type\":\"bar\"},{\"alignmentgroup\":\"True\",\"hovertemplate\":\"\\uc5ed\\uba85=%{x}\\u003cbr\\u003e\\uc774\\uc6a9\\uac1d\\uc218=%{y}\\u003cextra\\u003e\\u003c\\u002fextra\\u003e\",\"legendgroup\":\"\\uc5f0\\uc2e0\\ub0b4\",\"marker\":{\"color\":\"#B6E880\",\"pattern\":{\"shape\":\"\"}},\"name\":\"\\uc5f0\\uc2e0\\ub0b4\",\"offsetgroup\":\"\\uc5f0\\uc2e0\\ub0b4\",\"orientation\":\"v\",\"showlegend\":true,\"textposition\":\"auto\",\"x\":[\"\\uc5f0\\uc2e0\\ub0b4\"],\"xaxis\":\"x\",\"y\":[201921.0],\"yaxis\":\"y\",\"type\":\"bar\"}],                        {\"template\":{\"data\":{\"histogram2dcontour\":[{\"type\":\"histogram2dcontour\",\"colorbar\":{\"outlinewidth\":0,\"ticks\":\"\"},\"colorscale\":[[0.0,\"#0d0887\"],[0.1111111111111111,\"#46039f\"],[0.2222222222222222,\"#7201a8\"],[0.3333333333333333,\"#9c179e\"],[0.4444444444444444,\"#bd3786\"],[0.5555555555555556,\"#d8576b\"],[0.6666666666666666,\"#ed7953\"],[0.7777777777777778,\"#fb9f3a\"],[0.8888888888888888,\"#fdca26\"],[1.0,\"#f0f921\"]]}],\"choropleth\":[{\"type\":\"choropleth\",\"colorbar\":{\"outlinewidth\":0,\"ticks\":\"\"}}],\"histogram2d\":[{\"type\":\"histogram2d\",\"colorbar\":{\"outlinewidth\":0,\"ticks\":\"\"},\"colorscale\":[[0.0,\"#0d0887\"],[0.1111111111111111,\"#46039f\"],[0.2222222222222222,\"#7201a8\"],[0.3333333333333333,\"#9c179e\"],[0.4444444444444444,\"#bd3786\"],[0.5555555555555556,\"#d8576b\"],[0.6666666666666666,\"#ed7953\"],[0.7777777777777778,\"#fb9f3a\"],[0.8888888888888888,\"#fdca26\"],[1.0,\"#f0f921\"]]}],\"heatmap\":[{\"type\":\"heatmap\",\"colorbar\":{\"outlinewidth\":0,\"ticks\":\"\"},\"colorscale\":[[0.0,\"#0d0887\"],[0.1111111111111111,\"#46039f\"],[0.2222222222222222,\"#7201a8\"],[0.3333333333333333,\"#9c179e\"],[0.4444444444444444,\"#bd3786\"],[0.5555555555555556,\"#d8576b\"],[0.6666666666666666,\"#ed7953\"],[0.7777777777777778,\"#fb9f3a\"],[0.8888888888888888,\"#fdca26\"],[1.0,\"#f0f921\"]]}],\"heatmapgl\":[{\"type\":\"heatmapgl\",\"colorbar\":{\"outlinewidth\":0,\"ticks\":\"\"},\"colorscale\":[[0.0,\"#0d0887\"],[0.1111111111111111,\"#46039f\"],[0.2222222222222222,\"#7201a8\"],[0.3333333333333333,\"#9c179e\"],[0.4444444444444444,\"#bd3786\"],[0.5555555555555556,\"#d8576b\"],[0.6666666666666666,\"#ed7953\"],[0.7777777777777778,\"#fb9f3a\"],[0.8888888888888888,\"#fdca26\"],[1.0,\"#f0f921\"]]}],\"contourcarpet\":[{\"type\":\"contourcarpet\",\"colorbar\":{\"outlinewidth\":0,\"ticks\":\"\"}}],\"contour\":[{\"type\":\"contour\",\"colorbar\":{\"outlinewidth\":0,\"ticks\":\"\"},\"colorscale\":[[0.0,\"#0d0887\"],[0.1111111111111111,\"#46039f\"],[0.2222222222222222,\"#7201a8\"],[0.3333333333333333,\"#9c179e\"],[0.4444444444444444,\"#bd3786\"],[0.5555555555555556,\"#d8576b\"],[0.6666666666666666,\"#ed7953\"],[0.7777777777777778,\"#fb9f3a\"],[0.8888888888888888,\"#fdca26\"],[1.0,\"#f0f921\"]]}],\"surface\":[{\"type\":\"surface\",\"colorbar\":{\"outlinewidth\":0,\"ticks\":\"\"},\"colorscale\":[[0.0,\"#0d0887\"],[0.1111111111111111,\"#46039f\"],[0.2222222222222222,\"#7201a8\"],[0.3333333333333333,\"#9c179e\"],[0.4444444444444444,\"#bd3786\"],[0.5555555555555556,\"#d8576b\"],[0.6666666666666666,\"#ed7953\"],[0.7777777777777778,\"#fb9f3a\"],[0.8888888888888888,\"#fdca26\"],[1.0,\"#f0f921\"]]}],\"mesh3d\":[{\"type\":\"mesh3d\",\"colorbar\":{\"outlinewidth\":0,\"ticks\":\"\"}}],\"scatter\":[{\"fillpattern\":{\"fillmode\":\"overlay\",\"size\":10,\"solidity\":0.2},\"type\":\"scatter\"}],\"parcoords\":[{\"type\":\"parcoords\",\"line\":{\"colorbar\":{\"outlinewidth\":0,\"ticks\":\"\"}}}],\"scatterpolargl\":[{\"type\":\"scatterpolargl\",\"marker\":{\"colorbar\":{\"outlinewidth\":0,\"ticks\":\"\"}}}],\"bar\":[{\"error_x\":{\"color\":\"#2a3f5f\"},\"error_y\":{\"color\":\"#2a3f5f\"},\"marker\":{\"line\":{\"color\":\"#E5ECF6\",\"width\":0.5},\"pattern\":{\"fillmode\":\"overlay\",\"size\":10,\"solidity\":0.2}},\"type\":\"bar\"}],\"scattergeo\":[{\"type\":\"scattergeo\",\"marker\":{\"colorbar\":{\"outlinewidth\":0,\"ticks\":\"\"}}}],\"scatterpolar\":[{\"type\":\"scatterpolar\",\"marker\":{\"colorbar\":{\"outlinewidth\":0,\"ticks\":\"\"}}}],\"histogram\":[{\"marker\":{\"pattern\":{\"fillmode\":\"overlay\",\"size\":10,\"solidity\":0.2}},\"type\":\"histogram\"}],\"scattergl\":[{\"type\":\"scattergl\",\"marker\":{\"colorbar\":{\"outlinewidth\":0,\"ticks\":\"\"}}}],\"scatter3d\":[{\"type\":\"scatter3d\",\"line\":{\"colorbar\":{\"outlinewidth\":0,\"ticks\":\"\"}},\"marker\":{\"colorbar\":{\"outlinewidth\":0,\"ticks\":\"\"}}}],\"scattermapbox\":[{\"type\":\"scattermapbox\",\"marker\":{\"colorbar\":{\"outlinewidth\":0,\"ticks\":\"\"}}}],\"scatterternary\":[{\"type\":\"scatterternary\",\"marker\":{\"colorbar\":{\"outlinewidth\":0,\"ticks\":\"\"}}}],\"scattercarpet\":[{\"type\":\"scattercarpet\",\"marker\":{\"colorbar\":{\"outlinewidth\":0,\"ticks\":\"\"}}}],\"carpet\":[{\"aaxis\":{\"endlinecolor\":\"#2a3f5f\",\"gridcolor\":\"white\",\"linecolor\":\"white\",\"minorgridcolor\":\"white\",\"startlinecolor\":\"#2a3f5f\"},\"baxis\":{\"endlinecolor\":\"#2a3f5f\",\"gridcolor\":\"white\",\"linecolor\":\"white\",\"minorgridcolor\":\"white\",\"startlinecolor\":\"#2a3f5f\"},\"type\":\"carpet\"}],\"table\":[{\"cells\":{\"fill\":{\"color\":\"#EBF0F8\"},\"line\":{\"color\":\"white\"}},\"header\":{\"fill\":{\"color\":\"#C8D4E3\"},\"line\":{\"color\":\"white\"}},\"type\":\"table\"}],\"barpolar\":[{\"marker\":{\"line\":{\"color\":\"#E5ECF6\",\"width\":0.5},\"pattern\":{\"fillmode\":\"overlay\",\"size\":10,\"solidity\":0.2}},\"type\":\"barpolar\"}],\"pie\":[{\"automargin\":true,\"type\":\"pie\"}]},\"layout\":{\"autotypenumbers\":\"strict\",\"colorway\":[\"#636efa\",\"#EF553B\",\"#00cc96\",\"#ab63fa\",\"#FFA15A\",\"#19d3f3\",\"#FF6692\",\"#B6E880\",\"#FF97FF\",\"#FECB52\"],\"font\":{\"color\":\"#2a3f5f\"},\"hovermode\":\"closest\",\"hoverlabel\":{\"align\":\"left\"},\"paper_bgcolor\":\"white\",\"plot_bgcolor\":\"#E5ECF6\",\"polar\":{\"bgcolor\":\"#E5ECF6\",\"angularaxis\":{\"gridcolor\":\"white\",\"linecolor\":\"white\",\"ticks\":\"\"},\"radialaxis\":{\"gridcolor\":\"white\",\"linecolor\":\"white\",\"ticks\":\"\"}},\"ternary\":{\"bgcolor\":\"#E5ECF6\",\"aaxis\":{\"gridcolor\":\"white\",\"linecolor\":\"white\",\"ticks\":\"\"},\"baxis\":{\"gridcolor\":\"white\",\"linecolor\":\"white\",\"ticks\":\"\"},\"caxis\":{\"gridcolor\":\"white\",\"linecolor\":\"white\",\"ticks\":\"\"}},\"coloraxis\":{\"colorbar\":{\"outlinewidth\":0,\"ticks\":\"\"}},\"colorscale\":{\"sequential\":[[0.0,\"#0d0887\"],[0.1111111111111111,\"#46039f\"],[0.2222222222222222,\"#7201a8\"],[0.3333333333333333,\"#9c179e\"],[0.4444444444444444,\"#bd3786\"],[0.5555555555555556,\"#d8576b\"],[0.6666666666666666,\"#ed7953\"],[0.7777777777777778,\"#fb9f3a\"],[0.8888888888888888,\"#fdca26\"],[1.0,\"#f0f921\"]],\"sequentialminus\":[[0.0,\"#0d0887\"],[0.1111111111111111,\"#46039f\"],[0.2222222222222222,\"#7201a8\"],[0.3333333333333333,\"#9c179e\"],[0.4444444444444444,\"#bd3786\"],[0.5555555555555556,\"#d8576b\"],[0.6666666666666666,\"#ed7953\"],[0.7777777777777778,\"#fb9f3a\"],[0.8888888888888888,\"#fdca26\"],[1.0,\"#f0f921\"]],\"diverging\":[[0,\"#8e0152\"],[0.1,\"#c51b7d\"],[0.2,\"#de77ae\"],[0.3,\"#f1b6da\"],[0.4,\"#fde0ef\"],[0.5,\"#f7f7f7\"],[0.6,\"#e6f5d0\"],[0.7,\"#b8e186\"],[0.8,\"#7fbc41\"],[0.9,\"#4d9221\"],[1,\"#276419\"]]},\"xaxis\":{\"gridcolor\":\"white\",\"linecolor\":\"white\",\"ticks\":\"\",\"title\":{\"standoff\":15},\"zerolinecolor\":\"white\",\"automargin\":true,\"zerolinewidth\":2},\"yaxis\":{\"gridcolor\":\"white\",\"linecolor\":\"white\",\"ticks\":\"\",\"title\":{\"standoff\":15},\"zerolinecolor\":\"white\",\"automargin\":true,\"zerolinewidth\":2},\"scene\":{\"xaxis\":{\"backgroundcolor\":\"#E5ECF6\",\"gridcolor\":\"white\",\"linecolor\":\"white\",\"showbackground\":true,\"ticks\":\"\",\"zerolinecolor\":\"white\",\"gridwidth\":2},\"yaxis\":{\"backgroundcolor\":\"#E5ECF6\",\"gridcolor\":\"white\",\"linecolor\":\"white\",\"showbackground\":true,\"ticks\":\"\",\"zerolinecolor\":\"white\",\"gridwidth\":2},\"zaxis\":{\"backgroundcolor\":\"#E5ECF6\",\"gridcolor\":\"white\",\"linecolor\":\"white\",\"showbackground\":true,\"ticks\":\"\",\"zerolinecolor\":\"white\",\"gridwidth\":2}},\"shapedefaults\":{\"line\":{\"color\":\"#2a3f5f\"}},\"annotationdefaults\":{\"arrowcolor\":\"#2a3f5f\",\"arrowhead\":0,\"arrowwidth\":1},\"geo\":{\"bgcolor\":\"white\",\"landcolor\":\"#E5ECF6\",\"subunitcolor\":\"white\",\"showland\":true,\"showlakes\":true,\"lakecolor\":\"white\"},\"title\":{\"x\":0.05},\"mapbox\":{\"style\":\"light\"}}},\"xaxis\":{\"anchor\":\"y\",\"domain\":[0.0,1.0],\"title\":{\"text\":\"\\uc5ed\\uba85\"},\"categoryorder\":\"array\",\"categoryarray\":[\"\\ubb34\\uc545\\uc7ac\",\"\\uccad\\uad6c\",\"\\uc2e0\\ubaa9\\ub3d9\",\"\\uc2e0\\uc124\\ub3d9\",\"\\uc5ed\\ucd0c\",\"\\uc624\\uae08\",\"\\uc57d\\uc218\",\"\\uc601\\ub4f1\\ud3ec\\uad6c\\uccad\",\"\\uc2e0\\uae38\",\"\\ucc3d\\uc2e0\",\"\\uc2e0\\ubc18\\ud3ec\",\"\\uc0ac\\ud3c9\",\"\\ub3d9\\ub300\\ubb38\\uc5ed\\uc0ac\\ubb38\\ud654\\uacf5\\uc6d0\",\"\\uacf5\\ud56d\\uc2dc\\uc7a5\",\"\\ub3c5\\ubc14\\uc704\",\"\\ub3d9\\uc791\",\"\\uc6a9\\ub2f5\",\"\\uad6c\\ubc18\\ud3ec\",\"\\ud559\\uc5ec\\uc6b8\",\"\\uc9c0\\ucd95\",\"\\uc7a5\\uc554\",\"\\uc6a9\\ub450\",\"\\ubc84\\ud2f0\\uace0\\uac1c\",\"\\ub0a8\\ud0dc\\ub839\",\"\\uc2e0\\ub2f5\",\"\\ub3c4\\ub9bc\\ucc9c\",\"\\ucda9\\ubb34\\ub85c\",\"\\uc5f0\\uc2e0\\ub0b4\"]},\"yaxis\":{\"anchor\":\"x\",\"domain\":[0.0,1.0],\"title\":{\"text\":\"\\uc774\\uc6a9\\uac1d\\uc218\"}},\"legend\":{\"title\":{\"text\":\"\\uc5ed\\uba85\"},\"tracegroupgap\":0},\"margin\":{\"t\":60},\"barmode\":\"relative\",\"width\":900},                        {\"responsive\": true}                    ).then(function(){\n",
              "                            \n",
              "var gd = document.getElementById('ec84b817-e89f-460f-86b0-52c81ffb43eb');\n",
              "var x = new MutationObserver(function (mutations, observer) {{\n",
              "        var display = window.getComputedStyle(gd).display;\n",
              "        if (!display || display === 'none') {{\n",
              "            console.log([gd, 'removed!']);\n",
              "            Plotly.purge(gd);\n",
              "            observer.disconnect();\n",
              "        }}\n",
              "}});\n",
              "\n",
              "// Listen for the removal of the full notebook cells\n",
              "var notebookContainer = gd.closest('#notebook-container');\n",
              "if (notebookContainer) {{\n",
              "    x.observe(notebookContainer, {childList: true});\n",
              "}}\n",
              "\n",
              "// Listen for the clearing of the current output cell\n",
              "var outputEl = gd.closest('.output');\n",
              "if (outputEl) {{\n",
              "    x.observe(outputEl, {childList: true});\n",
              "}}\n",
              "\n",
              "                        })                };                            </script>        </div>\n",
              "</body>\n",
              "</html>"
            ]
          },
          "metadata": {}
        }
      ]
    },
    {
      "cell_type": "code",
      "source": [
        "import pandas as pd\n",
        "import plotly.express as px\n",
        "import matplotlib.pyplot as plt\n",
        "\n",
        "# 역별 하차 이용객수 (상위30)\n",
        "fig=px.bar(dfm_top_s, x='역명', y='이용객수',\n",
        "color='역명',\n",
        "color_continuous_scale=px.colors.diverging.Spectral)\n",
        "fig.update_layout(width=900)"
      ],
      "metadata": {
        "colab": {
          "base_uri": "https://localhost:8080/",
          "height": 542
        },
        "id": "_UW_sa1weagd",
        "outputId": "12552184-34d4-4e02-9963-1791ec1b2b60"
      },
      "execution_count": 57,
      "outputs": [
        {
          "output_type": "display_data",
          "data": {
            "text/html": [
              "<html>\n",
              "<head><meta charset=\"utf-8\" /></head>\n",
              "<body>\n",
              "    <div>            <script src=\"https://cdnjs.cloudflare.com/ajax/libs/mathjax/2.7.5/MathJax.js?config=TeX-AMS-MML_SVG\"></script><script type=\"text/javascript\">if (window.MathJax && window.MathJax.Hub && window.MathJax.Hub.Config) {window.MathJax.Hub.Config({SVG: {font: \"STIX-Web\"}});}</script>                <script type=\"text/javascript\">window.PlotlyConfig = {MathJaxConfig: 'local'};</script>\n",
              "        <script charset=\"utf-8\" src=\"https://cdn.plot.ly/plotly-2.24.1.min.js\"></script>                <div id=\"28ea7528-6797-4102-a6d2-f9d541ffd624\" class=\"plotly-graph-div\" style=\"height:525px; width:900px;\"></div>            <script type=\"text/javascript\">                                    window.PLOTLYENV=window.PLOTLYENV || {};                                    if (document.getElementById(\"28ea7528-6797-4102-a6d2-f9d541ffd624\")) {                    Plotly.newPlot(                        \"28ea7528-6797-4102-a6d2-f9d541ffd624\",                        [{\"alignmentgroup\":\"True\",\"hovertemplate\":\"\\uc5ed\\uba85=%{x}\\u003cbr\\u003e\\uc774\\uc6a9\\uac1d\\uc218=%{y}\\u003cextra\\u003e\\u003c\\u002fextra\\u003e\",\"legendgroup\":\"\\uac15\\ub0a8\",\"marker\":{\"color\":\"#636efa\",\"pattern\":{\"shape\":\"\"}},\"name\":\"\\uac15\\ub0a8\",\"offsetgroup\":\"\\uac15\\ub0a8\",\"orientation\":\"v\",\"showlegend\":true,\"textposition\":\"auto\",\"x\":[\"\\uac15\\ub0a8\"],\"xaxis\":\"x\",\"y\":[2875353.0],\"yaxis\":\"y\",\"type\":\"bar\"},{\"alignmentgroup\":\"True\",\"hovertemplate\":\"\\uc5ed\\uba85=%{x}\\u003cbr\\u003e\\uc774\\uc6a9\\uac1d\\uc218=%{y}\\u003cextra\\u003e\\u003c\\u002fextra\\u003e\",\"legendgroup\":\"\\uc7a0\\uc2e4\",\"marker\":{\"color\":\"#EF553B\",\"pattern\":{\"shape\":\"\"}},\"name\":\"\\uc7a0\\uc2e4\",\"offsetgroup\":\"\\uc7a0\\uc2e4\",\"orientation\":\"v\",\"showlegend\":true,\"textposition\":\"auto\",\"x\":[\"\\uc7a0\\uc2e4\"],\"xaxis\":\"x\",\"y\":[2533679.0],\"yaxis\":\"y\",\"type\":\"bar\"},{\"alignmentgroup\":\"True\",\"hovertemplate\":\"\\uc5ed\\uba85=%{x}\\u003cbr\\u003e\\uc774\\uc6a9\\uac1d\\uc218=%{y}\\u003cextra\\u003e\\u003c\\u002fextra\\u003e\",\"legendgroup\":\"\\ud64d\\ub300\\uc785\\uad6c\",\"marker\":{\"color\":\"#00cc96\",\"pattern\":{\"shape\":\"\"}},\"name\":\"\\ud64d\\ub300\\uc785\\uad6c\",\"offsetgroup\":\"\\ud64d\\ub300\\uc785\\uad6c\",\"orientation\":\"v\",\"showlegend\":true,\"textposition\":\"auto\",\"x\":[\"\\ud64d\\ub300\\uc785\\uad6c\"],\"xaxis\":\"x\",\"y\":[2382842.0],\"yaxis\":\"y\",\"type\":\"bar\"},{\"alignmentgroup\":\"True\",\"hovertemplate\":\"\\uc5ed\\uba85=%{x}\\u003cbr\\u003e\\uc774\\uc6a9\\uac1d\\uc218=%{y}\\u003cextra\\u003e\\u003c\\u002fextra\\u003e\",\"legendgroup\":\"\\uc2e0\\ub9bc\",\"marker\":{\"color\":\"#ab63fa\",\"pattern\":{\"shape\":\"\"}},\"name\":\"\\uc2e0\\ub9bc\",\"offsetgroup\":\"\\uc2e0\\ub9bc\",\"orientation\":\"v\",\"showlegend\":true,\"textposition\":\"auto\",\"x\":[\"\\uc2e0\\ub9bc\"],\"xaxis\":\"x\",\"y\":[2089778.0],\"yaxis\":\"y\",\"type\":\"bar\"},{\"alignmentgroup\":\"True\",\"hovertemplate\":\"\\uc5ed\\uba85=%{x}\\u003cbr\\u003e\\uc774\\uc6a9\\uac1d\\uc218=%{y}\\u003cextra\\u003e\\u003c\\u002fextra\\u003e\",\"legendgroup\":\"\\uc0bc\\uc131\",\"marker\":{\"color\":\"#FFA15A\",\"pattern\":{\"shape\":\"\"}},\"name\":\"\\uc0bc\\uc131\",\"offsetgroup\":\"\\uc0bc\\uc131\",\"orientation\":\"v\",\"showlegend\":true,\"textposition\":\"auto\",\"x\":[\"\\uc0bc\\uc131\"],\"xaxis\":\"x\",\"y\":[2005753.0],\"yaxis\":\"y\",\"type\":\"bar\"},{\"alignmentgroup\":\"True\",\"hovertemplate\":\"\\uc5ed\\uba85=%{x}\\u003cbr\\u003e\\uc774\\uc6a9\\uac1d\\uc218=%{y}\\u003cextra\\u003e\\u003c\\u002fextra\\u003e\",\"legendgroup\":\"\\uad6c\\ub85c\\ub514\\uc9c0\\ud138\\ub2e8\\uc9c0\",\"marker\":{\"color\":\"#19d3f3\",\"pattern\":{\"shape\":\"\"}},\"name\":\"\\uad6c\\ub85c\\ub514\\uc9c0\\ud138\\ub2e8\\uc9c0\",\"offsetgroup\":\"\\uad6c\\ub85c\\ub514\\uc9c0\\ud138\\ub2e8\\uc9c0\",\"orientation\":\"v\",\"showlegend\":true,\"textposition\":\"auto\",\"x\":[\"\\uad6c\\ub85c\\ub514\\uc9c0\\ud138\\ub2e8\\uc9c0\"],\"xaxis\":\"x\",\"y\":[1944358.0],\"yaxis\":\"y\",\"type\":\"bar\"},{\"alignmentgroup\":\"True\",\"hovertemplate\":\"\\uc5ed\\uba85=%{x}\\u003cbr\\u003e\\uc774\\uc6a9\\uac1d\\uc218=%{y}\\u003cextra\\u003e\\u003c\\u002fextra\\u003e\",\"legendgroup\":\"\\uc2e0\\ub3c4\\ub9bc\",\"marker\":{\"color\":\"#FF6692\",\"pattern\":{\"shape\":\"\"}},\"name\":\"\\uc2e0\\ub3c4\\ub9bc\",\"offsetgroup\":\"\\uc2e0\\ub3c4\\ub9bc\",\"orientation\":\"v\",\"showlegend\":true,\"textposition\":\"auto\",\"x\":[\"\\uc2e0\\ub3c4\\ub9bc\"],\"xaxis\":\"x\",\"y\":[1818558.0],\"yaxis\":\"y\",\"type\":\"bar\"},{\"alignmentgroup\":\"True\",\"hovertemplate\":\"\\uc5ed\\uba85=%{x}\\u003cbr\\u003e\\uc774\\uc6a9\\uac1d\\uc218=%{y}\\u003cextra\\u003e\\u003c\\u002fextra\\u003e\",\"legendgroup\":\"\\uc11c\\uc6b8\\ub300\\uc785\\uad6c\",\"marker\":{\"color\":\"#B6E880\",\"pattern\":{\"shape\":\"\"}},\"name\":\"\\uc11c\\uc6b8\\ub300\\uc785\\uad6c\",\"offsetgroup\":\"\\uc11c\\uc6b8\\ub300\\uc785\\uad6c\",\"orientation\":\"v\",\"showlegend\":true,\"textposition\":\"auto\",\"x\":[\"\\uc11c\\uc6b8\\ub300\\uc785\\uad6c\"],\"xaxis\":\"x\",\"y\":[1789032.0],\"yaxis\":\"y\",\"type\":\"bar\"},{\"alignmentgroup\":\"True\",\"hovertemplate\":\"\\uc5ed\\uba85=%{x}\\u003cbr\\u003e\\uc774\\uc6a9\\uac1d\\uc218=%{y}\\u003cextra\\u003e\\u003c\\u002fextra\\u003e\",\"legendgroup\":\"\\uace0\\uc18d\\ud130\\ubbf8\\ub110\",\"marker\":{\"color\":\"#FF97FF\",\"pattern\":{\"shape\":\"\"}},\"name\":\"\\uace0\\uc18d\\ud130\\ubbf8\\ub110\",\"offsetgroup\":\"\\uace0\\uc18d\\ud130\\ubbf8\\ub110\",\"orientation\":\"v\",\"showlegend\":true,\"textposition\":\"auto\",\"x\":[\"\\uace0\\uc18d\\ud130\\ubbf8\\ub110\"],\"xaxis\":\"x\",\"y\":[1741166.0],\"yaxis\":\"y\",\"type\":\"bar\"},{\"alignmentgroup\":\"True\",\"hovertemplate\":\"\\uc5ed\\uba85=%{x}\\u003cbr\\u003e\\uc774\\uc6a9\\uac1d\\uc218=%{y}\\u003cextra\\u003e\\u003c\\u002fextra\\u003e\",\"legendgroup\":\"\\uac15\\ubcc0\",\"marker\":{\"color\":\"#FECB52\",\"pattern\":{\"shape\":\"\"}},\"name\":\"\\uac15\\ubcc0\",\"offsetgroup\":\"\\uac15\\ubcc0\",\"orientation\":\"v\",\"showlegend\":true,\"textposition\":\"auto\",\"x\":[\"\\uac15\\ubcc0\"],\"xaxis\":\"x\",\"y\":[1738015.0],\"yaxis\":\"y\",\"type\":\"bar\"},{\"alignmentgroup\":\"True\",\"hovertemplate\":\"\\uc5ed\\uba85=%{x}\\u003cbr\\u003e\\uc774\\uc6a9\\uac1d\\uc218=%{y}\\u003cextra\\u003e\\u003c\\u002fextra\\u003e\",\"legendgroup\":\"\\uc5ed\\uc0bc\",\"marker\":{\"color\":\"#636efa\",\"pattern\":{\"shape\":\"\"}},\"name\":\"\\uc5ed\\uc0bc\",\"offsetgroup\":\"\\uc5ed\\uc0bc\",\"orientation\":\"v\",\"showlegend\":true,\"textposition\":\"auto\",\"x\":[\"\\uc5ed\\uc0bc\"],\"xaxis\":\"x\",\"y\":[1663939.0],\"yaxis\":\"y\",\"type\":\"bar\"},{\"alignmentgroup\":\"True\",\"hovertemplate\":\"\\uc5ed\\uba85=%{x}\\u003cbr\\u003e\\uc774\\uc6a9\\uac1d\\uc218=%{y}\\u003cextra\\u003e\\u003c\\u002fextra\\u003e\",\"legendgroup\":\"\\uc591\\uc7ac\",\"marker\":{\"color\":\"#EF553B\",\"pattern\":{\"shape\":\"\"}},\"name\":\"\\uc591\\uc7ac\",\"offsetgroup\":\"\\uc591\\uc7ac\",\"orientation\":\"v\",\"showlegend\":true,\"textposition\":\"auto\",\"x\":[\"\\uc591\\uc7ac\"],\"xaxis\":\"x\",\"y\":[1545224.0],\"yaxis\":\"y\",\"type\":\"bar\"},{\"alignmentgroup\":\"True\",\"hovertemplate\":\"\\uc5ed\\uba85=%{x}\\u003cbr\\u003e\\uc774\\uc6a9\\uac1d\\uc218=%{y}\\u003cextra\\u003e\\u003c\\u002fextra\\u003e\",\"legendgroup\":\"\\uc120\\ub989\",\"marker\":{\"color\":\"#00cc96\",\"pattern\":{\"shape\":\"\"}},\"name\":\"\\uc120\\ub989\",\"offsetgroup\":\"\\uc120\\ub989\",\"orientation\":\"v\",\"showlegend\":true,\"textposition\":\"auto\",\"x\":[\"\\uc120\\ub989\"],\"xaxis\":\"x\",\"y\":[1540002.0],\"yaxis\":\"y\",\"type\":\"bar\"},{\"alignmentgroup\":\"True\",\"hovertemplate\":\"\\uc5ed\\uba85=%{x}\\u003cbr\\u003e\\uc774\\uc6a9\\uac1d\\uc218=%{y}\\u003cextra\\u003e\\u003c\\u002fextra\\u003e\",\"legendgroup\":\"\\uc744\\uc9c0\\ub85c\\uc785\\uad6c\",\"marker\":{\"color\":\"#ab63fa\",\"pattern\":{\"shape\":\"\"}},\"name\":\"\\uc744\\uc9c0\\ub85c\\uc785\\uad6c\",\"offsetgroup\":\"\\uc744\\uc9c0\\ub85c\\uc785\\uad6c\",\"orientation\":\"v\",\"showlegend\":true,\"textposition\":\"auto\",\"x\":[\"\\uc744\\uc9c0\\ub85c\\uc785\\uad6c\"],\"xaxis\":\"x\",\"y\":[1527415.0],\"yaxis\":\"y\",\"type\":\"bar\"},{\"alignmentgroup\":\"True\",\"hovertemplate\":\"\\uc5ed\\uba85=%{x}\\u003cbr\\u003e\\uc774\\uc6a9\\uac1d\\uc218=%{y}\\u003cextra\\u003e\\u003c\\u002fextra\\u003e\",\"legendgroup\":\"\\uc0ac\\ub2f9\",\"marker\":{\"color\":\"#FFA15A\",\"pattern\":{\"shape\":\"\"}},\"name\":\"\\uc0ac\\ub2f9\",\"offsetgroup\":\"\\uc0ac\\ub2f9\",\"orientation\":\"v\",\"showlegend\":true,\"textposition\":\"auto\",\"x\":[\"\\uc0ac\\ub2f9\"],\"xaxis\":\"x\",\"y\":[1522855.0],\"yaxis\":\"y\",\"type\":\"bar\"},{\"alignmentgroup\":\"True\",\"hovertemplate\":\"\\uc5ed\\uba85=%{x}\\u003cbr\\u003e\\uc774\\uc6a9\\uac1d\\uc218=%{y}\\u003cextra\\u003e\\u003c\\u002fextra\\u003e\",\"legendgroup\":\"\\uac74\\ub300\\uc785\\uad6c\",\"marker\":{\"color\":\"#19d3f3\",\"pattern\":{\"shape\":\"\"}},\"name\":\"\\uac74\\ub300\\uc785\\uad6c\",\"offsetgroup\":\"\\uac74\\ub300\\uc785\\uad6c\",\"orientation\":\"v\",\"showlegend\":true,\"textposition\":\"auto\",\"x\":[\"\\uac74\\ub300\\uc785\\uad6c\"],\"xaxis\":\"x\",\"y\":[1503791.0],\"yaxis\":\"y\",\"type\":\"bar\"},{\"alignmentgroup\":\"True\",\"hovertemplate\":\"\\uc5ed\\uba85=%{x}\\u003cbr\\u003e\\uc774\\uc6a9\\uac1d\\uc218=%{y}\\u003cextra\\u003e\\u003c\\u002fextra\\u003e\",\"legendgroup\":\"\\uc2e0\\ucd0c\",\"marker\":{\"color\":\"#FF6692\",\"pattern\":{\"shape\":\"\"}},\"name\":\"\\uc2e0\\ucd0c\",\"offsetgroup\":\"\\uc2e0\\ucd0c\",\"orientation\":\"v\",\"showlegend\":true,\"textposition\":\"auto\",\"x\":[\"\\uc2e0\\ucd0c\"],\"xaxis\":\"x\",\"y\":[1493045.0],\"yaxis\":\"y\",\"type\":\"bar\"},{\"alignmentgroup\":\"True\",\"hovertemplate\":\"\\uc5ed\\uba85=%{x}\\u003cbr\\u003e\\uc774\\uc6a9\\uac1d\\uc218=%{y}\\u003cextra\\u003e\\u003c\\u002fextra\\u003e\",\"legendgroup\":\"\\uad50\\ub300\",\"marker\":{\"color\":\"#B6E880\",\"pattern\":{\"shape\":\"\"}},\"name\":\"\\uad50\\ub300\",\"offsetgroup\":\"\\uad50\\ub300\",\"orientation\":\"v\",\"showlegend\":true,\"textposition\":\"auto\",\"x\":[\"\\uad50\\ub300\"],\"xaxis\":\"x\",\"y\":[1476230.0],\"yaxis\":\"y\",\"type\":\"bar\"},{\"alignmentgroup\":\"True\",\"hovertemplate\":\"\\uc5ed\\uba85=%{x}\\u003cbr\\u003e\\uc774\\uc6a9\\uac1d\\uc218=%{y}\\u003cextra\\u003e\\u003c\\u002fextra\\u003e\",\"legendgroup\":\"\\ud61c\\ud654\",\"marker\":{\"color\":\"#FF97FF\",\"pattern\":{\"shape\":\"\"}},\"name\":\"\\ud61c\\ud654\",\"offsetgroup\":\"\\ud61c\\ud654\",\"orientation\":\"v\",\"showlegend\":true,\"textposition\":\"auto\",\"x\":[\"\\ud61c\\ud654\"],\"xaxis\":\"x\",\"y\":[1360674.0],\"yaxis\":\"y\",\"type\":\"bar\"},{\"alignmentgroup\":\"True\",\"hovertemplate\":\"\\uc5ed\\uba85=%{x}\\u003cbr\\u003e\\uc774\\uc6a9\\uac1d\\uc218=%{y}\\u003cextra\\u003e\\u003c\\u002fextra\\u003e\",\"legendgroup\":\"\\uac00\\uc0b0\\ub514\\uc9c0\\ud138\\ub2e8\\uc9c0\",\"marker\":{\"color\":\"#FECB52\",\"pattern\":{\"shape\":\"\"}},\"name\":\"\\uac00\\uc0b0\\ub514\\uc9c0\\ud138\\ub2e8\\uc9c0\",\"offsetgroup\":\"\\uac00\\uc0b0\\ub514\\uc9c0\\ud138\\ub2e8\\uc9c0\",\"orientation\":\"v\",\"showlegend\":true,\"textposition\":\"auto\",\"x\":[\"\\uac00\\uc0b0\\ub514\\uc9c0\\ud138\\ub2e8\\uc9c0\"],\"xaxis\":\"x\",\"y\":[1347720.0],\"yaxis\":\"y\",\"type\":\"bar\"},{\"alignmentgroup\":\"True\",\"hovertemplate\":\"\\uc5ed\\uba85=%{x}\\u003cbr\\u003e\\uc774\\uc6a9\\uac1d\\uc218=%{y}\\u003cextra\\u003e\\u003c\\u002fextra\\u003e\",\"legendgroup\":\"\\ub0a8\\ubd80\\ud130\\ubbf8\\ub110\",\"marker\":{\"color\":\"#636efa\",\"pattern\":{\"shape\":\"\"}},\"name\":\"\\ub0a8\\ubd80\\ud130\\ubbf8\\ub110\",\"offsetgroup\":\"\\ub0a8\\ubd80\\ud130\\ubbf8\\ub110\",\"orientation\":\"v\",\"showlegend\":true,\"textposition\":\"auto\",\"x\":[\"\\ub0a8\\ubd80\\ud130\\ubbf8\\ub110\"],\"xaxis\":\"x\",\"y\":[1342673.0],\"yaxis\":\"y\",\"type\":\"bar\"},{\"alignmentgroup\":\"True\",\"hovertemplate\":\"\\uc5ed\\uba85=%{x}\\u003cbr\\u003e\\uc774\\uc6a9\\uac1d\\uc218=%{y}\\u003cextra\\u003e\\u003c\\u002fextra\\u003e\",\"legendgroup\":\"\\uad11\\ud654\\ubb38\",\"marker\":{\"color\":\"#EF553B\",\"pattern\":{\"shape\":\"\"}},\"name\":\"\\uad11\\ud654\\ubb38\",\"offsetgroup\":\"\\uad11\\ud654\\ubb38\",\"orientation\":\"v\",\"showlegend\":true,\"textposition\":\"auto\",\"x\":[\"\\uad11\\ud654\\ubb38\"],\"xaxis\":\"x\",\"y\":[1332165.0],\"yaxis\":\"y\",\"type\":\"bar\"},{\"alignmentgroup\":\"True\",\"hovertemplate\":\"\\uc5ed\\uba85=%{x}\\u003cbr\\u003e\\uc774\\uc6a9\\uac1d\\uc218=%{y}\\u003cextra\\u003e\\u003c\\u002fextra\\u003e\",\"legendgroup\":\"\\uc885\\uac01\",\"marker\":{\"color\":\"#00cc96\",\"pattern\":{\"shape\":\"\"}},\"name\":\"\\uc885\\uac01\",\"offsetgroup\":\"\\uc885\\uac01\",\"orientation\":\"v\",\"showlegend\":true,\"textposition\":\"auto\",\"x\":[\"\\uc885\\uac01\"],\"xaxis\":\"x\",\"y\":[1329854.0],\"yaxis\":\"y\",\"type\":\"bar\"},{\"alignmentgroup\":\"True\",\"hovertemplate\":\"\\uc5ed\\uba85=%{x}\\u003cbr\\u003e\\uc774\\uc6a9\\uac1d\\uc218=%{y}\\u003cextra\\u003e\\u003c\\u002fextra\\u003e\",\"legendgroup\":\"\\uc5f0\\uc2e0\\ub0b4\",\"marker\":{\"color\":\"#ab63fa\",\"pattern\":{\"shape\":\"\"}},\"name\":\"\\uc5f0\\uc2e0\\ub0b4\",\"offsetgroup\":\"\\uc5f0\\uc2e0\\ub0b4\",\"orientation\":\"v\",\"showlegend\":true,\"textposition\":\"auto\",\"x\":[\"\\uc5f0\\uc2e0\\ub0b4\"],\"xaxis\":\"x\",\"y\":[1292762.0],\"yaxis\":\"y\",\"type\":\"bar\"},{\"alignmentgroup\":\"True\",\"hovertemplate\":\"\\uc5ed\\uba85=%{x}\\u003cbr\\u003e\\uc774\\uc6a9\\uac1d\\uc218=%{y}\\u003cextra\\u003e\\u003c\\u002fextra\\u003e\",\"legendgroup\":\"\\uc555\\uad6c\\uc815\",\"marker\":{\"color\":\"#FFA15A\",\"pattern\":{\"shape\":\"\"}},\"name\":\"\\uc555\\uad6c\\uc815\",\"offsetgroup\":\"\\uc555\\uad6c\\uc815\",\"orientation\":\"v\",\"showlegend\":true,\"textposition\":\"auto\",\"x\":[\"\\uc555\\uad6c\\uc815\"],\"xaxis\":\"x\",\"y\":[1234036.0],\"yaxis\":\"y\",\"type\":\"bar\"},{\"alignmentgroup\":\"True\",\"hovertemplate\":\"\\uc5ed\\uba85=%{x}\\u003cbr\\u003e\\uc774\\uc6a9\\uac1d\\uc218=%{y}\\u003cextra\\u003e\\u003c\\u002fextra\\u003e\",\"legendgroup\":\"\\uba85\\ub3d9\",\"marker\":{\"color\":\"#19d3f3\",\"pattern\":{\"shape\":\"\"}},\"name\":\"\\uba85\\ub3d9\",\"offsetgroup\":\"\\uba85\\ub3d9\",\"orientation\":\"v\",\"showlegend\":true,\"textposition\":\"auto\",\"x\":[\"\\uba85\\ub3d9\"],\"xaxis\":\"x\",\"y\":[1219052.0],\"yaxis\":\"y\",\"type\":\"bar\"},{\"alignmentgroup\":\"True\",\"hovertemplate\":\"\\uc5ed\\uba85=%{x}\\u003cbr\\u003e\\uc774\\uc6a9\\uac1d\\uc218=%{y}\\u003cextra\\u003e\\u003c\\u002fextra\\u003e\",\"legendgroup\":\"\\ub300\\ub9bc\",\"marker\":{\"color\":\"#FF6692\",\"pattern\":{\"shape\":\"\"}},\"name\":\"\\ub300\\ub9bc\",\"offsetgroup\":\"\\ub300\\ub9bc\",\"orientation\":\"v\",\"showlegend\":true,\"textposition\":\"auto\",\"x\":[\"\\ub300\\ub9bc\"],\"xaxis\":\"x\",\"y\":[1209184.0],\"yaxis\":\"y\",\"type\":\"bar\"},{\"alignmentgroup\":\"True\",\"hovertemplate\":\"\\uc5ed\\uba85=%{x}\\u003cbr\\u003e\\uc774\\uc6a9\\uac1d\\uc218=%{y}\\u003cextra\\u003e\\u003c\\u002fextra\\u003e\",\"legendgroup\":\"\\ud569\\uc815\",\"marker\":{\"color\":\"#B6E880\",\"pattern\":{\"shape\":\"\"}},\"name\":\"\\ud569\\uc815\",\"offsetgroup\":\"\\ud569\\uc815\",\"orientation\":\"v\",\"showlegend\":true,\"textposition\":\"auto\",\"x\":[\"\\ud569\\uc815\"],\"xaxis\":\"x\",\"y\":[1201365.0],\"yaxis\":\"y\",\"type\":\"bar\"},{\"alignmentgroup\":\"True\",\"hovertemplate\":\"\\uc5ed\\uba85=%{x}\\u003cbr\\u003e\\uc774\\uc6a9\\uac1d\\uc218=%{y}\\u003cextra\\u003e\\u003c\\u002fextra\\u003e\",\"legendgroup\":\"\\uc2e0\\uc0ac\",\"marker\":{\"color\":\"#FF97FF\",\"pattern\":{\"shape\":\"\"}},\"name\":\"\\uc2e0\\uc0ac\",\"offsetgroup\":\"\\uc2e0\\uc0ac\",\"orientation\":\"v\",\"showlegend\":true,\"textposition\":\"auto\",\"x\":[\"\\uc2e0\\uc0ac\"],\"xaxis\":\"x\",\"y\":[1147976.0],\"yaxis\":\"y\",\"type\":\"bar\"},{\"alignmentgroup\":\"True\",\"hovertemplate\":\"\\uc5ed\\uba85=%{x}\\u003cbr\\u003e\\uc774\\uc6a9\\uac1d\\uc218=%{y}\\u003cextra\\u003e\\u003c\\u002fextra\\u003e\",\"legendgroup\":\"\\ud68c\\ud604\",\"marker\":{\"color\":\"#FECB52\",\"pattern\":{\"shape\":\"\"}},\"name\":\"\\ud68c\\ud604\",\"offsetgroup\":\"\\ud68c\\ud604\",\"orientation\":\"v\",\"showlegend\":true,\"textposition\":\"auto\",\"x\":[\"\\ud68c\\ud604\"],\"xaxis\":\"x\",\"y\":[1146804.0],\"yaxis\":\"y\",\"type\":\"bar\"}],                        {\"template\":{\"data\":{\"histogram2dcontour\":[{\"type\":\"histogram2dcontour\",\"colorbar\":{\"outlinewidth\":0,\"ticks\":\"\"},\"colorscale\":[[0.0,\"#0d0887\"],[0.1111111111111111,\"#46039f\"],[0.2222222222222222,\"#7201a8\"],[0.3333333333333333,\"#9c179e\"],[0.4444444444444444,\"#bd3786\"],[0.5555555555555556,\"#d8576b\"],[0.6666666666666666,\"#ed7953\"],[0.7777777777777778,\"#fb9f3a\"],[0.8888888888888888,\"#fdca26\"],[1.0,\"#f0f921\"]]}],\"choropleth\":[{\"type\":\"choropleth\",\"colorbar\":{\"outlinewidth\":0,\"ticks\":\"\"}}],\"histogram2d\":[{\"type\":\"histogram2d\",\"colorbar\":{\"outlinewidth\":0,\"ticks\":\"\"},\"colorscale\":[[0.0,\"#0d0887\"],[0.1111111111111111,\"#46039f\"],[0.2222222222222222,\"#7201a8\"],[0.3333333333333333,\"#9c179e\"],[0.4444444444444444,\"#bd3786\"],[0.5555555555555556,\"#d8576b\"],[0.6666666666666666,\"#ed7953\"],[0.7777777777777778,\"#fb9f3a\"],[0.8888888888888888,\"#fdca26\"],[1.0,\"#f0f921\"]]}],\"heatmap\":[{\"type\":\"heatmap\",\"colorbar\":{\"outlinewidth\":0,\"ticks\":\"\"},\"colorscale\":[[0.0,\"#0d0887\"],[0.1111111111111111,\"#46039f\"],[0.2222222222222222,\"#7201a8\"],[0.3333333333333333,\"#9c179e\"],[0.4444444444444444,\"#bd3786\"],[0.5555555555555556,\"#d8576b\"],[0.6666666666666666,\"#ed7953\"],[0.7777777777777778,\"#fb9f3a\"],[0.8888888888888888,\"#fdca26\"],[1.0,\"#f0f921\"]]}],\"heatmapgl\":[{\"type\":\"heatmapgl\",\"colorbar\":{\"outlinewidth\":0,\"ticks\":\"\"},\"colorscale\":[[0.0,\"#0d0887\"],[0.1111111111111111,\"#46039f\"],[0.2222222222222222,\"#7201a8\"],[0.3333333333333333,\"#9c179e\"],[0.4444444444444444,\"#bd3786\"],[0.5555555555555556,\"#d8576b\"],[0.6666666666666666,\"#ed7953\"],[0.7777777777777778,\"#fb9f3a\"],[0.8888888888888888,\"#fdca26\"],[1.0,\"#f0f921\"]]}],\"contourcarpet\":[{\"type\":\"contourcarpet\",\"colorbar\":{\"outlinewidth\":0,\"ticks\":\"\"}}],\"contour\":[{\"type\":\"contour\",\"colorbar\":{\"outlinewidth\":0,\"ticks\":\"\"},\"colorscale\":[[0.0,\"#0d0887\"],[0.1111111111111111,\"#46039f\"],[0.2222222222222222,\"#7201a8\"],[0.3333333333333333,\"#9c179e\"],[0.4444444444444444,\"#bd3786\"],[0.5555555555555556,\"#d8576b\"],[0.6666666666666666,\"#ed7953\"],[0.7777777777777778,\"#fb9f3a\"],[0.8888888888888888,\"#fdca26\"],[1.0,\"#f0f921\"]]}],\"surface\":[{\"type\":\"surface\",\"colorbar\":{\"outlinewidth\":0,\"ticks\":\"\"},\"colorscale\":[[0.0,\"#0d0887\"],[0.1111111111111111,\"#46039f\"],[0.2222222222222222,\"#7201a8\"],[0.3333333333333333,\"#9c179e\"],[0.4444444444444444,\"#bd3786\"],[0.5555555555555556,\"#d8576b\"],[0.6666666666666666,\"#ed7953\"],[0.7777777777777778,\"#fb9f3a\"],[0.8888888888888888,\"#fdca26\"],[1.0,\"#f0f921\"]]}],\"mesh3d\":[{\"type\":\"mesh3d\",\"colorbar\":{\"outlinewidth\":0,\"ticks\":\"\"}}],\"scatter\":[{\"fillpattern\":{\"fillmode\":\"overlay\",\"size\":10,\"solidity\":0.2},\"type\":\"scatter\"}],\"parcoords\":[{\"type\":\"parcoords\",\"line\":{\"colorbar\":{\"outlinewidth\":0,\"ticks\":\"\"}}}],\"scatterpolargl\":[{\"type\":\"scatterpolargl\",\"marker\":{\"colorbar\":{\"outlinewidth\":0,\"ticks\":\"\"}}}],\"bar\":[{\"error_x\":{\"color\":\"#2a3f5f\"},\"error_y\":{\"color\":\"#2a3f5f\"},\"marker\":{\"line\":{\"color\":\"#E5ECF6\",\"width\":0.5},\"pattern\":{\"fillmode\":\"overlay\",\"size\":10,\"solidity\":0.2}},\"type\":\"bar\"}],\"scattergeo\":[{\"type\":\"scattergeo\",\"marker\":{\"colorbar\":{\"outlinewidth\":0,\"ticks\":\"\"}}}],\"scatterpolar\":[{\"type\":\"scatterpolar\",\"marker\":{\"colorbar\":{\"outlinewidth\":0,\"ticks\":\"\"}}}],\"histogram\":[{\"marker\":{\"pattern\":{\"fillmode\":\"overlay\",\"size\":10,\"solidity\":0.2}},\"type\":\"histogram\"}],\"scattergl\":[{\"type\":\"scattergl\",\"marker\":{\"colorbar\":{\"outlinewidth\":0,\"ticks\":\"\"}}}],\"scatter3d\":[{\"type\":\"scatter3d\",\"line\":{\"colorbar\":{\"outlinewidth\":0,\"ticks\":\"\"}},\"marker\":{\"colorbar\":{\"outlinewidth\":0,\"ticks\":\"\"}}}],\"scattermapbox\":[{\"type\":\"scattermapbox\",\"marker\":{\"colorbar\":{\"outlinewidth\":0,\"ticks\":\"\"}}}],\"scatterternary\":[{\"type\":\"scatterternary\",\"marker\":{\"colorbar\":{\"outlinewidth\":0,\"ticks\":\"\"}}}],\"scattercarpet\":[{\"type\":\"scattercarpet\",\"marker\":{\"colorbar\":{\"outlinewidth\":0,\"ticks\":\"\"}}}],\"carpet\":[{\"aaxis\":{\"endlinecolor\":\"#2a3f5f\",\"gridcolor\":\"white\",\"linecolor\":\"white\",\"minorgridcolor\":\"white\",\"startlinecolor\":\"#2a3f5f\"},\"baxis\":{\"endlinecolor\":\"#2a3f5f\",\"gridcolor\":\"white\",\"linecolor\":\"white\",\"minorgridcolor\":\"white\",\"startlinecolor\":\"#2a3f5f\"},\"type\":\"carpet\"}],\"table\":[{\"cells\":{\"fill\":{\"color\":\"#EBF0F8\"},\"line\":{\"color\":\"white\"}},\"header\":{\"fill\":{\"color\":\"#C8D4E3\"},\"line\":{\"color\":\"white\"}},\"type\":\"table\"}],\"barpolar\":[{\"marker\":{\"line\":{\"color\":\"#E5ECF6\",\"width\":0.5},\"pattern\":{\"fillmode\":\"overlay\",\"size\":10,\"solidity\":0.2}},\"type\":\"barpolar\"}],\"pie\":[{\"automargin\":true,\"type\":\"pie\"}]},\"layout\":{\"autotypenumbers\":\"strict\",\"colorway\":[\"#636efa\",\"#EF553B\",\"#00cc96\",\"#ab63fa\",\"#FFA15A\",\"#19d3f3\",\"#FF6692\",\"#B6E880\",\"#FF97FF\",\"#FECB52\"],\"font\":{\"color\":\"#2a3f5f\"},\"hovermode\":\"closest\",\"hoverlabel\":{\"align\":\"left\"},\"paper_bgcolor\":\"white\",\"plot_bgcolor\":\"#E5ECF6\",\"polar\":{\"bgcolor\":\"#E5ECF6\",\"angularaxis\":{\"gridcolor\":\"white\",\"linecolor\":\"white\",\"ticks\":\"\"},\"radialaxis\":{\"gridcolor\":\"white\",\"linecolor\":\"white\",\"ticks\":\"\"}},\"ternary\":{\"bgcolor\":\"#E5ECF6\",\"aaxis\":{\"gridcolor\":\"white\",\"linecolor\":\"white\",\"ticks\":\"\"},\"baxis\":{\"gridcolor\":\"white\",\"linecolor\":\"white\",\"ticks\":\"\"},\"caxis\":{\"gridcolor\":\"white\",\"linecolor\":\"white\",\"ticks\":\"\"}},\"coloraxis\":{\"colorbar\":{\"outlinewidth\":0,\"ticks\":\"\"}},\"colorscale\":{\"sequential\":[[0.0,\"#0d0887\"],[0.1111111111111111,\"#46039f\"],[0.2222222222222222,\"#7201a8\"],[0.3333333333333333,\"#9c179e\"],[0.4444444444444444,\"#bd3786\"],[0.5555555555555556,\"#d8576b\"],[0.6666666666666666,\"#ed7953\"],[0.7777777777777778,\"#fb9f3a\"],[0.8888888888888888,\"#fdca26\"],[1.0,\"#f0f921\"]],\"sequentialminus\":[[0.0,\"#0d0887\"],[0.1111111111111111,\"#46039f\"],[0.2222222222222222,\"#7201a8\"],[0.3333333333333333,\"#9c179e\"],[0.4444444444444444,\"#bd3786\"],[0.5555555555555556,\"#d8576b\"],[0.6666666666666666,\"#ed7953\"],[0.7777777777777778,\"#fb9f3a\"],[0.8888888888888888,\"#fdca26\"],[1.0,\"#f0f921\"]],\"diverging\":[[0,\"#8e0152\"],[0.1,\"#c51b7d\"],[0.2,\"#de77ae\"],[0.3,\"#f1b6da\"],[0.4,\"#fde0ef\"],[0.5,\"#f7f7f7\"],[0.6,\"#e6f5d0\"],[0.7,\"#b8e186\"],[0.8,\"#7fbc41\"],[0.9,\"#4d9221\"],[1,\"#276419\"]]},\"xaxis\":{\"gridcolor\":\"white\",\"linecolor\":\"white\",\"ticks\":\"\",\"title\":{\"standoff\":15},\"zerolinecolor\":\"white\",\"automargin\":true,\"zerolinewidth\":2},\"yaxis\":{\"gridcolor\":\"white\",\"linecolor\":\"white\",\"ticks\":\"\",\"title\":{\"standoff\":15},\"zerolinecolor\":\"white\",\"automargin\":true,\"zerolinewidth\":2},\"scene\":{\"xaxis\":{\"backgroundcolor\":\"#E5ECF6\",\"gridcolor\":\"white\",\"linecolor\":\"white\",\"showbackground\":true,\"ticks\":\"\",\"zerolinecolor\":\"white\",\"gridwidth\":2},\"yaxis\":{\"backgroundcolor\":\"#E5ECF6\",\"gridcolor\":\"white\",\"linecolor\":\"white\",\"showbackground\":true,\"ticks\":\"\",\"zerolinecolor\":\"white\",\"gridwidth\":2},\"zaxis\":{\"backgroundcolor\":\"#E5ECF6\",\"gridcolor\":\"white\",\"linecolor\":\"white\",\"showbackground\":true,\"ticks\":\"\",\"zerolinecolor\":\"white\",\"gridwidth\":2}},\"shapedefaults\":{\"line\":{\"color\":\"#2a3f5f\"}},\"annotationdefaults\":{\"arrowcolor\":\"#2a3f5f\",\"arrowhead\":0,\"arrowwidth\":1},\"geo\":{\"bgcolor\":\"white\",\"landcolor\":\"#E5ECF6\",\"subunitcolor\":\"white\",\"showland\":true,\"showlakes\":true,\"lakecolor\":\"white\"},\"title\":{\"x\":0.05},\"mapbox\":{\"style\":\"light\"}}},\"xaxis\":{\"anchor\":\"y\",\"domain\":[0.0,1.0],\"title\":{\"text\":\"\\uc5ed\\uba85\"},\"categoryorder\":\"array\",\"categoryarray\":[\"\\uac15\\ub0a8\",\"\\uc7a0\\uc2e4\",\"\\ud64d\\ub300\\uc785\\uad6c\",\"\\uc2e0\\ub9bc\",\"\\uc0bc\\uc131\",\"\\uad6c\\ub85c\\ub514\\uc9c0\\ud138\\ub2e8\\uc9c0\",\"\\uc2e0\\ub3c4\\ub9bc\",\"\\uc11c\\uc6b8\\ub300\\uc785\\uad6c\",\"\\uace0\\uc18d\\ud130\\ubbf8\\ub110\",\"\\uac15\\ubcc0\",\"\\uc5ed\\uc0bc\",\"\\uc591\\uc7ac\",\"\\uc120\\ub989\",\"\\uc744\\uc9c0\\ub85c\\uc785\\uad6c\",\"\\uc0ac\\ub2f9\",\"\\uac74\\ub300\\uc785\\uad6c\",\"\\uc2e0\\ucd0c\",\"\\uad50\\ub300\",\"\\ud61c\\ud654\",\"\\uac00\\uc0b0\\ub514\\uc9c0\\ud138\\ub2e8\\uc9c0\",\"\\ub0a8\\ubd80\\ud130\\ubbf8\\ub110\",\"\\uad11\\ud654\\ubb38\",\"\\uc885\\uac01\",\"\\uc5f0\\uc2e0\\ub0b4\",\"\\uc555\\uad6c\\uc815\",\"\\uba85\\ub3d9\",\"\\ub300\\ub9bc\",\"\\ud569\\uc815\",\"\\uc2e0\\uc0ac\",\"\\ud68c\\ud604\"]},\"yaxis\":{\"anchor\":\"x\",\"domain\":[0.0,1.0],\"title\":{\"text\":\"\\uc774\\uc6a9\\uac1d\\uc218\"}},\"legend\":{\"title\":{\"text\":\"\\uc5ed\\uba85\"},\"tracegroupgap\":0},\"margin\":{\"t\":60},\"barmode\":\"relative\",\"width\":900},                        {\"responsive\": true}                    ).then(function(){\n",
              "                            \n",
              "var gd = document.getElementById('28ea7528-6797-4102-a6d2-f9d541ffd624');\n",
              "var x = new MutationObserver(function (mutations, observer) {{\n",
              "        var display = window.getComputedStyle(gd).display;\n",
              "        if (!display || display === 'none') {{\n",
              "            console.log([gd, 'removed!']);\n",
              "            Plotly.purge(gd);\n",
              "            observer.disconnect();\n",
              "        }}\n",
              "}});\n",
              "\n",
              "// Listen for the removal of the full notebook cells\n",
              "var notebookContainer = gd.closest('#notebook-container');\n",
              "if (notebookContainer) {{\n",
              "    x.observe(notebookContainer, {childList: true});\n",
              "}}\n",
              "\n",
              "// Listen for the clearing of the current output cell\n",
              "var outputEl = gd.closest('.output');\n",
              "if (outputEl) {{\n",
              "    x.observe(outputEl, {childList: true});\n",
              "}}\n",
              "\n",
              "                        })                };                            </script>        </div>\n",
              "</body>\n",
              "</html>"
            ]
          },
          "metadata": {}
        }
      ]
    },
    {
      "cell_type": "code",
      "source": [
        "import pandas as pd\n",
        "import plotly.express as px\n",
        "import matplotlib.pyplot as plt\n",
        "\n",
        "# 역별 하차 이용객수 (하위30)\n",
        "fig=px.bar(dfm_bottom_s, x='역명', y='이용객수',\n",
        "color='역명',\n",
        "color_continuous_scale=px.colors.diverging.Spectral)\n",
        "fig.update_layout(width=900)"
      ],
      "metadata": {
        "id": "t1ldA0b1eSrD"
      },
      "execution_count": null,
      "outputs": []
    }
  ]
}